{
 "cells": [
  {
   "cell_type": "markdown",
   "metadata": {
    "ExecuteTime": {
     "end_time": "2018-03-03T22:22:30.123739Z",
     "start_time": "2018-03-03T22:22:30.105090Z"
    }
   },
   "source": [
    "### Finance Jobs & Resumes\n",
    "\n",
    "##### Items:\n",
    "* job listings:\n",
    "    * Indeed\n",
    "* resumes:\n",
    "    * indeed\n",
    "    * zip recruiter\n",
    "    * angel list\n",
    "    \n",
    "\n",
    "##### Plan:\n",
    "* job listings:\n",
    "    * Indeed: api\n",
    "* resumes:\n",
    "    * indeed: requests to indeed resume search page, store all resume links\n",
    "    * zip recruiter: selenium to login and then find all resume pdf links\n",
    "    * angel list: use mahyar's login to and then same as zip recruiter\n",
    "* html template for listings\n",
    "* create two df objects to store all scraped data:\n",
    "    * job listings:\n",
    "        * schema:\n",
    "            * generated id\n",
    "            * listing url\n",
    "            * source\n",
    "            * job title\n",
    "            * local path and pdf file name\n",
    "    * resumes:\n",
    "        * schema:\n",
    "            * generated id\n",
    "            * url\n",
    "            * source\n",
    "            * resume name\n",
    "            * local path and pdf file name\n",
    "        * notes:\n",
    "            * for indeed, first scrape all pdf links and then download\n",
    "* 10,000+ for each  \n",
    "\n",
    "\n",
    "##### Nice to Haves:\n",
    "* html template for the resumes"
   ]
  },
  {
   "cell_type": "code",
   "execution_count": 1,
   "metadata": {
    "ExecuteTime": {
     "end_time": "2018-03-11T01:06:45.667906Z",
     "start_time": "2018-03-11T01:06:45.646758Z"
    }
   },
   "outputs": [],
   "source": [
    "import requests\n",
    "from lxml import html\n",
    "from bs4 import BeautifulSoup\n",
    "import json"
   ]
  },
  {
   "cell_type": "markdown",
   "metadata": {},
   "source": [
    "## Job Listings"
   ]
  },
  {
   "cell_type": "markdown",
   "metadata": {},
   "source": [
    "### Indeed"
   ]
  },
  {
   "cell_type": "code",
   "execution_count": null,
   "metadata": {
    "ExecuteTime": {
     "end_time": "2018-03-10T19:17:20.156638Z",
     "start_time": "2018-03-10T19:17:20.152318Z"
    }
   },
   "outputs": [],
   "source": [
    "publisher = 5219489624660681"
   ]
  },
  {
   "cell_type": "code",
   "execution_count": null,
   "metadata": {
    "ExecuteTime": {
     "end_time": "2018-03-10T19:17:20.370732Z",
     "start_time": "2018-03-10T19:17:20.363679Z"
    }
   },
   "outputs": [],
   "source": [
    "### Set API search parameters.\n",
    "params = {'publisher': publisher,\n",
    "            'format': 'json', # json or xml\n",
    "            'l' : 'New+York', # city\n",
    "            'useragent': 'Mozilla',\n",
    "            'sort' : 'date', # sort by: relevance or date\n",
    "            'q': '', #search query\n",
    "            'v' : 2,\n",
    "            'limit': 100\n",
    "            }"
   ]
  },
  {
   "cell_type": "code",
   "execution_count": null,
   "metadata": {
    "ExecuteTime": {
     "end_time": "2018-03-10T19:25:20.428209Z",
     "start_time": "2018-03-10T19:25:20.421680Z"
    }
   },
   "outputs": [],
   "source": [
    "job_titles = ['[Financial Operations]', 'Financial Planning Analysis', 'Revenue Manager',\\\n",
    "              'CFO', 'Finance Manager', 'Financial Director']"
   ]
  },
  {
   "cell_type": "code",
   "execution_count": null,
   "metadata": {
    "ExecuteTime": {
     "end_time": "2018-03-10T19:24:03.775093Z",
     "start_time": "2018-03-10T19:24:03.764026Z"
    }
   },
   "outputs": [],
   "source": [
    "def get_indeed_jobs(params):\n",
    "    url = \"http://api.indeed.com/ads/apisearch?\"\n",
    "    results = []\n",
    "    for job_title in job_titles:\n",
    "        params['q'] = job_title\n",
    "        request = url\n",
    "        for k, v in params.items():\n",
    "            request += '&{0}={1}'.format(k,v)\n",
    "        r = requests.get(request)\n",
    "        results.append(r.json()['results'])\n",
    "\n",
    "    return results"
   ]
  },
  {
   "cell_type": "code",
   "execution_count": null,
   "metadata": {
    "ExecuteTime": {
     "end_time": "2018-03-11T00:46:47.122814Z",
     "start_time": "2018-03-11T00:46:45.188477Z"
    }
   },
   "outputs": [],
   "source": [
    "#get_indeed_jobs(params)"
   ]
  },
  {
   "cell_type": "code",
   "execution_count": null,
   "metadata": {
    "ExecuteTime": {
     "end_time": "2018-03-11T00:46:47.781531Z",
     "start_time": "2018-03-11T00:46:47.555324Z"
    }
   },
   "outputs": [],
   "source": []
  },
  {
   "cell_type": "markdown",
   "metadata": {},
   "source": [
    "To Do:\n",
    " * create a function to check if the job title is relevant\n",
    " * for each listing url, use beatiful soup or lxml to extract relevant html content"
   ]
  },
  {
   "cell_type": "markdown",
   "metadata": {},
   "source": [
    "## Resumes"
   ]
  },
  {
   "cell_type": "markdown",
   "metadata": {},
   "source": [
    "### Indeed\n",
    "\n",
    "To Do:\n",
    "* function to search resumes by keyword\n",
    "* function for finding pdf link for each resume\n",
    "* function to iterate through each page of results"
   ]
  },
  {
   "cell_type": "markdown",
   "metadata": {},
   "source": [
    "#### Find Resumes by Search Url"
   ]
  },
  {
   "cell_type": "code",
   "execution_count": 4,
   "metadata": {
    "ExecuteTime": {
     "end_time": "2018-03-11T01:00:02.440807Z",
     "start_time": "2018-03-11T01:00:00.832543Z"
    }
   },
   "outputs": [],
   "source": [
    "# function to find resumes by keyword\n",
    "from http_request_randomizer.requests.proxy.requestProxy import RequestProxy\n",
    "\n",
    "# Extract resumes from the search results\n",
    "def find_resumes(resumelist):\n",
    "    b = BeautifulSoup(resumelist.content, 'html.parser')\n",
    "    columns = b.findAll('a', text=\"\", attrs={'class' : 'app_link'})\n",
    "    ans = {}\n",
    "    # For every tag that contains a resume link\n",
    "    for i, c in enumerate(columns):\n",
    "        \n",
    "        # Get proxy\n",
    "        proxy = RequestProxy()\n",
    "        \n",
    "        # The 8th index holds the resume url\n",
    "        resume_url = str(c).split('\"')[7]\n",
    "        resume = proxy.generate_proxied_request(\"https://www.indeed.com\"+resume_url)\n",
    "        resume = BeautifulSoup(resume.content, 'html.parser')\n",
    "        \n",
    "        # Add it to our dictionary\n",
    "        ans[resume_url] = resume\n",
    "\n",
    "    return ans"
   ]
  },
  {
   "cell_type": "markdown",
   "metadata": {},
   "source": [
    "#### Create all search urls and pass them to the find_resumes function"
   ]
  },
  {
   "cell_type": "code",
   "execution_count": 5,
   "metadata": {},
   "outputs": [
    {
     "name": "stderr",
     "output_type": "stream",
     "text": [
      "2018-03-11 17:37:35,282 root   DEBUG    === Initialized Proxy Parsers ===\n",
      "2018-03-11 17:37:35,284 root   DEBUG    \t FreeProxy Parser of 'http://free-proxy-list.net' with required bandwidth: '150' KBs\n",
      "2018-03-11 17:37:35,285 root   DEBUG    \t ProxyForEU Parser of 'http://proxyfor.eu/geo.php' with required bandwidth: '1.0' KBs\n",
      "2018-03-11 17:37:35,286 root   DEBUG    \t RebroWeebly Parser of 'http://rebro.weebly.com' with required bandwidth: '150' KBs\n",
      "2018-03-11 17:37:35,288 root   DEBUG    \t SemairProxy Parser of 'https://premproxy.com/list/' with required bandwidth: '150' KBs\n",
      "2018-03-11 17:37:35,290 root   DEBUG    =================================\n"
     ]
    },
    {
     "name": "stdout",
     "output_type": "stream",
     "text": [
      "\n",
      "Financial+Operations\n"
     ]
    },
    {
     "name": "stderr",
     "output_type": "stream",
     "text": [
      "2018-03-11 17:37:35,919 http_request_randomizer.requests.parsers.FreeProxyParser DEBUG    Proxy Invalid: <zip object at 0x104914e48>\n",
      "2018-03-11 17:37:36,239 http_request_randomizer.requests.parsers.ProxyForEuParser DEBUG    Proxy with low bandwidth: 0.178\n",
      "2018-03-11 17:37:36,239 http_request_randomizer.requests.parsers.ProxyForEuParser DEBUG    Proxy Invalid: <zip object at 0x104f40848>\n",
      "2018-03-11 17:37:36,241 http_request_randomizer.requests.parsers.ProxyForEuParser DEBUG    Proxy with low bandwidth: 0.435\n",
      "2018-03-11 17:37:36,242 http_request_randomizer.requests.parsers.ProxyForEuParser DEBUG    Proxy Invalid: <zip object at 0x104f40d48>\n",
      "2018-03-11 17:37:36,243 http_request_randomizer.requests.parsers.ProxyForEuParser DEBUG    Proxy with low bandwidth: 0.361\n",
      "2018-03-11 17:37:36,244 http_request_randomizer.requests.parsers.ProxyForEuParser DEBUG    Proxy Invalid: <zip object at 0x104f47108>\n",
      "2018-03-11 17:37:36,460 http_request_randomizer.requests.parsers.RebroWeeblyParser WARNING  Proxy Provider url failed: http://rebro.weebly.com\n",
      "2018-03-11 17:37:37,255 http_request_randomizer.requests.parsers.SamairProxyParser WARNING  Proxy Provider url failed: https://premproxy.com/list/\n",
      "2018-03-11 17:37:37,257 http_request_randomizer.requests.parsers.SamairProxyParser DEBUG    Pages: set()\n",
      "2018-03-11 17:37:37,276 root   DEBUG    Using headers: {'Connection': 'close', 'User-Agent': 'Mozilla/5.0 (Windows; U; Windows NT 6.1; ru; rv:1.9.2b5) Gecko/20091204 Firefox/3.6b'}\n",
      "2018-03-11 17:37:37,277 root   DEBUG    Using proxy: 66.82.123.234:8080 | FreeProxy\n",
      "2018-03-11 17:37:37,777 root   DEBUG    === Initialized Proxy Parsers ===\n",
      "2018-03-11 17:37:37,778 root   DEBUG    \t FreeProxy Parser of 'http://free-proxy-list.net' with required bandwidth: '150' KBs\n",
      "2018-03-11 17:37:37,779 root   DEBUG    \t ProxyForEU Parser of 'http://proxyfor.eu/geo.php' with required bandwidth: '1.0' KBs\n",
      "2018-03-11 17:37:37,780 root   DEBUG    \t RebroWeebly Parser of 'http://rebro.weebly.com' with required bandwidth: '150' KBs\n",
      "2018-03-11 17:37:37,780 root   DEBUG    \t SemairProxy Parser of 'https://premproxy.com/list/' with required bandwidth: '150' KBs\n",
      "2018-03-11 17:37:37,781 root   DEBUG    =================================\n"
     ]
    },
    {
     "name": "stdout",
     "output_type": "stream",
     "text": [
      "RR Status 200\n",
      "Resumes: + 0\n"
     ]
    },
    {
     "name": "stderr",
     "output_type": "stream",
     "text": [
      "2018-03-11 17:37:38,554 http_request_randomizer.requests.parsers.FreeProxyParser DEBUG    Proxy Invalid: <zip object at 0x105ea3988>\n",
      "2018-03-11 17:37:38,834 http_request_randomizer.requests.parsers.ProxyForEuParser DEBUG    Proxy with low bandwidth: 0.178\n",
      "2018-03-11 17:37:38,835 http_request_randomizer.requests.parsers.ProxyForEuParser DEBUG    Proxy Invalid: <zip object at 0x10226e648>\n",
      "2018-03-11 17:37:38,837 http_request_randomizer.requests.parsers.ProxyForEuParser DEBUG    Proxy with low bandwidth: 0.435\n",
      "2018-03-11 17:37:38,839 http_request_randomizer.requests.parsers.ProxyForEuParser DEBUG    Proxy Invalid: <zip object at 0x1035c9748>\n",
      "2018-03-11 17:37:38,841 http_request_randomizer.requests.parsers.ProxyForEuParser DEBUG    Proxy with low bandwidth: 0.361\n",
      "2018-03-11 17:37:38,842 http_request_randomizer.requests.parsers.ProxyForEuParser DEBUG    Proxy Invalid: <zip object at 0x1035c92c8>\n",
      "2018-03-11 17:37:39,064 http_request_randomizer.requests.parsers.RebroWeeblyParser WARNING  Proxy Provider url failed: http://rebro.weebly.com\n",
      "2018-03-11 17:37:39,526 http_request_randomizer.requests.parsers.SamairProxyParser WARNING  Proxy Provider url failed: https://premproxy.com/list/\n",
      "2018-03-11 17:37:39,527 http_request_randomizer.requests.parsers.SamairProxyParser DEBUG    Pages: set()\n",
      "2018-03-11 17:37:39,542 root   DEBUG    Using headers: {'Connection': 'close', 'User-Agent': 'Mozilla/5.0 (Windows; U; Windows NT 6.0; nb-NO) AppleWebKit/533.18.1 (KHTML, like Gecko) Version/5.0.2 Safari/533.18.'}\n",
      "2018-03-11 17:37:39,543 root   DEBUG    Using proxy: 128.199.169.17:80 | ProxyForEU\n",
      "2018-03-11 17:37:39,896 root   DEBUG    === Initialized Proxy Parsers ===\n",
      "2018-03-11 17:37:39,897 root   DEBUG    \t FreeProxy Parser of 'http://free-proxy-list.net' with required bandwidth: '150' KBs\n",
      "2018-03-11 17:37:39,898 root   DEBUG    \t ProxyForEU Parser of 'http://proxyfor.eu/geo.php' with required bandwidth: '1.0' KBs\n",
      "2018-03-11 17:37:39,898 root   DEBUG    \t RebroWeebly Parser of 'http://rebro.weebly.com' with required bandwidth: '150' KBs\n",
      "2018-03-11 17:37:39,899 root   DEBUG    \t SemairProxy Parser of 'https://premproxy.com/list/' with required bandwidth: '150' KBs\n",
      "2018-03-11 17:37:39,900 root   DEBUG    =================================\n"
     ]
    },
    {
     "name": "stdout",
     "output_type": "stream",
     "text": [
      "RR Status 200\n",
      "Resumes: + 0\n"
     ]
    },
    {
     "name": "stderr",
     "output_type": "stream",
     "text": [
      "2018-03-11 17:37:40,410 http_request_randomizer.requests.parsers.FreeProxyParser DEBUG    Proxy Invalid: <zip object at 0x10514b688>\n",
      "2018-03-11 17:37:40,677 http_request_randomizer.requests.parsers.ProxyForEuParser DEBUG    Proxy with low bandwidth: 0.178\n",
      "2018-03-11 17:37:40,677 http_request_randomizer.requests.parsers.ProxyForEuParser DEBUG    Proxy Invalid: <zip object at 0x105112088>\n",
      "2018-03-11 17:37:40,679 http_request_randomizer.requests.parsers.ProxyForEuParser DEBUG    Proxy with low bandwidth: 0.435\n",
      "2018-03-11 17:37:40,679 http_request_randomizer.requests.parsers.ProxyForEuParser DEBUG    Proxy Invalid: <zip object at 0x105112588>\n",
      "2018-03-11 17:37:40,681 http_request_randomizer.requests.parsers.ProxyForEuParser DEBUG    Proxy with low bandwidth: 0.361\n",
      "2018-03-11 17:37:40,682 http_request_randomizer.requests.parsers.ProxyForEuParser DEBUG    Proxy Invalid: <zip object at 0x105112908>\n",
      "2018-03-11 17:37:40,886 http_request_randomizer.requests.parsers.RebroWeeblyParser WARNING  Proxy Provider url failed: http://rebro.weebly.com\n",
      "2018-03-11 17:37:41,421 http_request_randomizer.requests.parsers.SamairProxyParser WARNING  Proxy Provider url failed: https://premproxy.com/list/\n",
      "2018-03-11 17:37:41,422 http_request_randomizer.requests.parsers.SamairProxyParser DEBUG    Pages: set()\n",
      "2018-03-11 17:37:41,436 root   DEBUG    Using headers: {'Connection': 'close', 'User-Agent': 'Mozilla/5.0 (Windows NT 6.0; U; ja; rv:1.9.1.6) Gecko/20091201 Firefox/3.5.6 Opera 11.0'}\n",
      "2018-03-11 17:37:41,437 root   DEBUG    Using proxy: 46.11.147.29:8080 | FreeProxy\n",
      "2018-03-11 17:37:41,791 root   DEBUG    === Initialized Proxy Parsers ===\n",
      "2018-03-11 17:37:41,792 root   DEBUG    \t FreeProxy Parser of 'http://free-proxy-list.net' with required bandwidth: '150' KBs\n",
      "2018-03-11 17:37:41,793 root   DEBUG    \t ProxyForEU Parser of 'http://proxyfor.eu/geo.php' with required bandwidth: '1.0' KBs\n",
      "2018-03-11 17:37:41,794 root   DEBUG    \t RebroWeebly Parser of 'http://rebro.weebly.com' with required bandwidth: '150' KBs\n",
      "2018-03-11 17:37:41,795 root   DEBUG    \t SemairProxy Parser of 'https://premproxy.com/list/' with required bandwidth: '150' KBs\n",
      "2018-03-11 17:37:41,796 root   DEBUG    =================================\n"
     ]
    },
    {
     "name": "stdout",
     "output_type": "stream",
     "text": [
      "RR Status 200\n",
      "Resumes: + 0\n",
      "Count 150\n",
      "\n",
      "Financial+Planning+Analysis\n"
     ]
    },
    {
     "name": "stderr",
     "output_type": "stream",
     "text": [
      "2018-03-11 17:37:42,370 http_request_randomizer.requests.parsers.FreeProxyParser DEBUG    Proxy Invalid: <zip object at 0x105145c08>\n",
      "2018-03-11 17:37:42,694 http_request_randomizer.requests.parsers.ProxyForEuParser DEBUG    Proxy with low bandwidth: 0.178\n",
      "2018-03-11 17:37:42,695 http_request_randomizer.requests.parsers.ProxyForEuParser DEBUG    Proxy Invalid: <zip object at 0x104e47588>\n",
      "2018-03-11 17:37:42,696 http_request_randomizer.requests.parsers.ProxyForEuParser DEBUG    Proxy with low bandwidth: 0.435\n",
      "2018-03-11 17:37:42,697 http_request_randomizer.requests.parsers.ProxyForEuParser DEBUG    Proxy Invalid: <zip object at 0x104e47a88>\n",
      "2018-03-11 17:37:42,699 http_request_randomizer.requests.parsers.ProxyForEuParser DEBUG    Proxy with low bandwidth: 0.361\n",
      "2018-03-11 17:37:42,700 http_request_randomizer.requests.parsers.ProxyForEuParser DEBUG    Proxy Invalid: <zip object at 0x104e47e08>\n",
      "2018-03-11 17:37:42,942 http_request_randomizer.requests.parsers.RebroWeeblyParser WARNING  Proxy Provider url failed: http://rebro.weebly.com\n",
      "2018-03-11 17:37:43,405 http_request_randomizer.requests.parsers.SamairProxyParser WARNING  Proxy Provider url failed: https://premproxy.com/list/\n",
      "2018-03-11 17:37:43,406 http_request_randomizer.requests.parsers.SamairProxyParser DEBUG    Pages: set()\n",
      "2018-03-11 17:37:43,421 root   DEBUG    Using headers: {'Connection': 'close', 'User-Agent': 'Mozilla/5.0 (Windows; U; Windows NT 6.1; zh-CN; rv:1.9.1.2) Gecko/20090729 Firefox/3.5.2 (.NET CLR 3.5.30729'}\n",
      "2018-03-11 17:37:43,422 root   DEBUG    Using proxy: 176.108.47.38:3128 | FreeProxy\n",
      "2018-03-11 17:37:43,889 root   DEBUG    === Initialized Proxy Parsers ===\n",
      "2018-03-11 17:37:43,890 root   DEBUG    \t FreeProxy Parser of 'http://free-proxy-list.net' with required bandwidth: '150' KBs\n",
      "2018-03-11 17:37:43,891 root   DEBUG    \t ProxyForEU Parser of 'http://proxyfor.eu/geo.php' with required bandwidth: '1.0' KBs\n",
      "2018-03-11 17:37:43,892 root   DEBUG    \t RebroWeebly Parser of 'http://rebro.weebly.com' with required bandwidth: '150' KBs\n",
      "2018-03-11 17:37:43,894 root   DEBUG    \t SemairProxy Parser of 'https://premproxy.com/list/' with required bandwidth: '150' KBs\n",
      "2018-03-11 17:37:43,895 root   DEBUG    =================================\n"
     ]
    },
    {
     "name": "stdout",
     "output_type": "stream",
     "text": [
      "RR Status 200\n",
      "Resumes: + 0\n"
     ]
    },
    {
     "name": "stderr",
     "output_type": "stream",
     "text": [
      "2018-03-11 17:37:44,478 http_request_randomizer.requests.parsers.FreeProxyParser DEBUG    Proxy Invalid: <zip object at 0x105474c88>\n",
      "2018-03-11 17:37:44,738 http_request_randomizer.requests.parsers.ProxyForEuParser DEBUG    Proxy with low bandwidth: 0.178\n",
      "2018-03-11 17:37:44,739 http_request_randomizer.requests.parsers.ProxyForEuParser DEBUG    Proxy Invalid: <zip object at 0x105329088>\n",
      "2018-03-11 17:37:44,740 http_request_randomizer.requests.parsers.ProxyForEuParser DEBUG    Proxy with low bandwidth: 0.435\n",
      "2018-03-11 17:37:44,742 http_request_randomizer.requests.parsers.ProxyForEuParser DEBUG    Proxy Invalid: <zip object at 0x104801808>\n",
      "2018-03-11 17:37:44,743 http_request_randomizer.requests.parsers.ProxyForEuParser DEBUG    Proxy with low bandwidth: 0.361\n",
      "2018-03-11 17:37:44,744 http_request_randomizer.requests.parsers.ProxyForEuParser DEBUG    Proxy Invalid: <zip object at 0x10487a4c8>\n",
      "2018-03-11 17:37:44,953 http_request_randomizer.requests.parsers.RebroWeeblyParser WARNING  Proxy Provider url failed: http://rebro.weebly.com\n",
      "2018-03-11 17:37:45,408 http_request_randomizer.requests.parsers.SamairProxyParser WARNING  Proxy Provider url failed: https://premproxy.com/list/\n",
      "2018-03-11 17:37:45,409 http_request_randomizer.requests.parsers.SamairProxyParser DEBUG    Pages: set()\n",
      "2018-03-11 17:37:45,424 root   DEBUG    Using headers: {'Connection': 'close', 'User-Agent': 'Mozilla/5.0 (Windows; U; Windows NT 6.0; ru; rv:1.9.2) Gecko/20100115 Firefox/3.'}\n",
      "2018-03-11 17:37:45,425 root   DEBUG    Using proxy: 170.84.31.210:8080 | FreeProxy\n",
      "2018-03-11 17:37:45,909 root   DEBUG    === Initialized Proxy Parsers ===\n",
      "2018-03-11 17:37:45,910 root   DEBUG    \t FreeProxy Parser of 'http://free-proxy-list.net' with required bandwidth: '150' KBs\n",
      "2018-03-11 17:37:45,911 root   DEBUG    \t ProxyForEU Parser of 'http://proxyfor.eu/geo.php' with required bandwidth: '1.0' KBs\n",
      "2018-03-11 17:37:45,911 root   DEBUG    \t RebroWeebly Parser of 'http://rebro.weebly.com' with required bandwidth: '150' KBs\n",
      "2018-03-11 17:37:45,912 root   DEBUG    \t SemairProxy Parser of 'https://premproxy.com/list/' with required bandwidth: '150' KBs\n",
      "2018-03-11 17:37:45,913 root   DEBUG    =================================\n"
     ]
    },
    {
     "name": "stdout",
     "output_type": "stream",
     "text": [
      "RR Status 200\n",
      "Resumes: + 0\n"
     ]
    },
    {
     "name": "stderr",
     "output_type": "stream",
     "text": [
      "2018-03-11 17:37:46,490 http_request_randomizer.requests.parsers.FreeProxyParser DEBUG    Proxy Invalid: <zip object at 0x105431448>\n",
      "2018-03-11 17:37:46,761 http_request_randomizer.requests.parsers.ProxyForEuParser DEBUG    Proxy with low bandwidth: 0.178\n",
      "2018-03-11 17:37:46,762 http_request_randomizer.requests.parsers.ProxyForEuParser DEBUG    Proxy Invalid: <zip object at 0x1057fcb48>\n",
      "2018-03-11 17:37:46,763 http_request_randomizer.requests.parsers.ProxyForEuParser DEBUG    Proxy with low bandwidth: 0.435\n",
      "2018-03-11 17:37:46,764 http_request_randomizer.requests.parsers.ProxyForEuParser DEBUG    Proxy Invalid: <zip object at 0x1057fcb88>\n",
      "2018-03-11 17:37:46,765 http_request_randomizer.requests.parsers.ProxyForEuParser DEBUG    Proxy with low bandwidth: 0.361\n",
      "2018-03-11 17:37:46,766 http_request_randomizer.requests.parsers.ProxyForEuParser DEBUG    Proxy Invalid: <zip object at 0x1057fc408>\n",
      "2018-03-11 17:37:46,971 http_request_randomizer.requests.parsers.RebroWeeblyParser WARNING  Proxy Provider url failed: http://rebro.weebly.com\n",
      "2018-03-11 17:37:47,406 http_request_randomizer.requests.parsers.SamairProxyParser WARNING  Proxy Provider url failed: https://premproxy.com/list/\n",
      "2018-03-11 17:37:47,407 http_request_randomizer.requests.parsers.SamairProxyParser DEBUG    Pages: set()\n",
      "2018-03-11 17:37:47,422 root   DEBUG    Using headers: {'Connection': 'close', 'User-Agent': 'Mozilla/5.0 (Windows; U; Windows NT 5.1; en-US) AppleWebKit/534.21 (KHTML, like Gecko) Chrome/11.0.682.0 Safari/534.2'}\n",
      "2018-03-11 17:37:47,423 root   DEBUG    Using proxy: 180.183.211.88:8080 | FreeProxy\n",
      "2018-03-11 17:37:47,831 root   DEBUG    === Initialized Proxy Parsers ===\n",
      "2018-03-11 17:37:47,831 root   DEBUG    \t FreeProxy Parser of 'http://free-proxy-list.net' with required bandwidth: '150' KBs\n",
      "2018-03-11 17:37:47,832 root   DEBUG    \t ProxyForEU Parser of 'http://proxyfor.eu/geo.php' with required bandwidth: '1.0' KBs\n",
      "2018-03-11 17:37:47,833 root   DEBUG    \t RebroWeebly Parser of 'http://rebro.weebly.com' with required bandwidth: '150' KBs\n",
      "2018-03-11 17:37:47,834 root   DEBUG    \t SemairProxy Parser of 'https://premproxy.com/list/' with required bandwidth: '150' KBs\n",
      "2018-03-11 17:37:47,834 root   DEBUG    =================================\n"
     ]
    },
    {
     "name": "stdout",
     "output_type": "stream",
     "text": [
      "RR Status 200\n",
      "Resumes: + 0\n",
      "Count 150\n",
      "\n",
      "Revenue+Manager\n"
     ]
    },
    {
     "name": "stderr",
     "output_type": "stream",
     "text": [
      "2018-03-11 17:37:48,784 http_request_randomizer.requests.parsers.FreeProxyParser DEBUG    Proxy Invalid: <zip object at 0x1055dd488>\n",
      "2018-03-11 17:37:49,073 http_request_randomizer.requests.parsers.ProxyForEuParser DEBUG    Proxy with low bandwidth: 0.178\n",
      "2018-03-11 17:37:49,074 http_request_randomizer.requests.parsers.ProxyForEuParser DEBUG    Proxy Invalid: <zip object at 0x105454d88>\n",
      "2018-03-11 17:37:49,075 http_request_randomizer.requests.parsers.ProxyForEuParser DEBUG    Proxy with low bandwidth: 0.435\n",
      "2018-03-11 17:37:49,076 http_request_randomizer.requests.parsers.ProxyForEuParser DEBUG    Proxy Invalid: <zip object at 0x105458d48>\n",
      "2018-03-11 17:37:49,077 http_request_randomizer.requests.parsers.ProxyForEuParser DEBUG    Proxy with low bandwidth: 0.361\n",
      "2018-03-11 17:37:49,078 http_request_randomizer.requests.parsers.ProxyForEuParser DEBUG    Proxy Invalid: <zip object at 0x105458a48>\n",
      "2018-03-11 17:37:49,339 http_request_randomizer.requests.parsers.RebroWeeblyParser WARNING  Proxy Provider url failed: http://rebro.weebly.com\n",
      "2018-03-11 17:37:49,757 http_request_randomizer.requests.parsers.SamairProxyParser WARNING  Proxy Provider url failed: https://premproxy.com/list/\n",
      "2018-03-11 17:37:49,758 http_request_randomizer.requests.parsers.SamairProxyParser DEBUG    Pages: set()\n",
      "2018-03-11 17:37:49,775 root   DEBUG    Using headers: {'Connection': 'close', 'User-Agent': 'Mozilla/5.0 (Windows NT 6.1; WOW64; rv:2.0b6pre) Gecko/20100903 Firefox/4.0b6pr'}\n",
      "2018-03-11 17:37:49,776 root   DEBUG    Using proxy: 45.32.201.219:3128 | FreeProxy\n",
      "2018-03-11 17:37:50,132 root   DEBUG    === Initialized Proxy Parsers ===\n",
      "2018-03-11 17:37:50,133 root   DEBUG    \t FreeProxy Parser of 'http://free-proxy-list.net' with required bandwidth: '150' KBs\n",
      "2018-03-11 17:37:50,134 root   DEBUG    \t ProxyForEU Parser of 'http://proxyfor.eu/geo.php' with required bandwidth: '1.0' KBs\n",
      "2018-03-11 17:37:50,135 root   DEBUG    \t RebroWeebly Parser of 'http://rebro.weebly.com' with required bandwidth: '150' KBs\n",
      "2018-03-11 17:37:50,136 root   DEBUG    \t SemairProxy Parser of 'https://premproxy.com/list/' with required bandwidth: '150' KBs\n",
      "2018-03-11 17:37:50,137 root   DEBUG    =================================\n"
     ]
    },
    {
     "name": "stdout",
     "output_type": "stream",
     "text": [
      "RR Status 200\n",
      "Resumes: + 0\n"
     ]
    },
    {
     "name": "stderr",
     "output_type": "stream",
     "text": [
      "2018-03-11 17:37:50,777 http_request_randomizer.requests.parsers.FreeProxyParser DEBUG    Proxy Invalid: <zip object at 0x104cb7948>\n",
      "2018-03-11 17:37:51,071 http_request_randomizer.requests.parsers.ProxyForEuParser DEBUG    Proxy with low bandwidth: 0.178\n",
      "2018-03-11 17:37:51,072 http_request_randomizer.requests.parsers.ProxyForEuParser DEBUG    Proxy Invalid: <zip object at 0x1056482c8>\n",
      "2018-03-11 17:37:51,073 http_request_randomizer.requests.parsers.ProxyForEuParser DEBUG    Proxy with low bandwidth: 0.435\n",
      "2018-03-11 17:37:51,074 http_request_randomizer.requests.parsers.ProxyForEuParser DEBUG    Proxy Invalid: <zip object at 0x1056487c8>\n",
      "2018-03-11 17:37:51,076 http_request_randomizer.requests.parsers.ProxyForEuParser DEBUG    Proxy with low bandwidth: 0.361\n",
      "2018-03-11 17:37:51,076 http_request_randomizer.requests.parsers.ProxyForEuParser DEBUG    Proxy Invalid: <zip object at 0x105648b48>\n",
      "2018-03-11 17:37:51,293 http_request_randomizer.requests.parsers.RebroWeeblyParser WARNING  Proxy Provider url failed: http://rebro.weebly.com\n",
      "2018-03-11 17:37:51,729 http_request_randomizer.requests.parsers.SamairProxyParser WARNING  Proxy Provider url failed: https://premproxy.com/list/\n",
      "2018-03-11 17:37:51,730 http_request_randomizer.requests.parsers.SamairProxyParser DEBUG    Pages: set()\n",
      "2018-03-11 17:37:51,746 root   DEBUG    Using headers: {'Connection': 'close', 'User-Agent': 'Mozilla/5.0 (X11; U; Linux i686; es-AR; rv:1.9.1.8) Gecko/20100214 Ubuntu/9.10 (karmic) Firefox/3.5.'}\n",
      "2018-03-11 17:37:51,747 root   DEBUG    Using proxy: 190.200.157.33:8080 | FreeProxy\n",
      "2018-03-11 17:37:52,124 root   DEBUG    === Initialized Proxy Parsers ===\n",
      "2018-03-11 17:37:52,124 root   DEBUG    \t FreeProxy Parser of 'http://free-proxy-list.net' with required bandwidth: '150' KBs\n",
      "2018-03-11 17:37:52,125 root   DEBUG    \t ProxyForEU Parser of 'http://proxyfor.eu/geo.php' with required bandwidth: '1.0' KBs\n",
      "2018-03-11 17:37:52,126 root   DEBUG    \t RebroWeebly Parser of 'http://rebro.weebly.com' with required bandwidth: '150' KBs\n",
      "2018-03-11 17:37:52,127 root   DEBUG    \t SemairProxy Parser of 'https://premproxy.com/list/' with required bandwidth: '150' KBs\n",
      "2018-03-11 17:37:52,128 root   DEBUG    =================================\n"
     ]
    },
    {
     "name": "stdout",
     "output_type": "stream",
     "text": [
      "RR Status 200\n",
      "Resumes: + 0\n"
     ]
    },
    {
     "name": "stderr",
     "output_type": "stream",
     "text": [
      "2018-03-11 17:37:52,749 http_request_randomizer.requests.parsers.FreeProxyParser DEBUG    Proxy Invalid: <zip object at 0x105121888>\n",
      "2018-03-11 17:37:53,401 http_request_randomizer.requests.parsers.ProxyForEuParser DEBUG    Proxy with low bandwidth: 0.178\n",
      "2018-03-11 17:37:53,402 http_request_randomizer.requests.parsers.ProxyForEuParser DEBUG    Proxy Invalid: <zip object at 0x1056cd5c8>\n",
      "2018-03-11 17:37:53,403 http_request_randomizer.requests.parsers.ProxyForEuParser DEBUG    Proxy with low bandwidth: 0.435\n",
      "2018-03-11 17:37:53,405 http_request_randomizer.requests.parsers.ProxyForEuParser DEBUG    Proxy Invalid: <zip object at 0x1053a6288>\n",
      "2018-03-11 17:37:53,406 http_request_randomizer.requests.parsers.ProxyForEuParser DEBUG    Proxy with low bandwidth: 0.361\n",
      "2018-03-11 17:37:53,407 http_request_randomizer.requests.parsers.ProxyForEuParser DEBUG    Proxy Invalid: <zip object at 0x1053a6448>\n",
      "2018-03-11 17:37:53,618 http_request_randomizer.requests.parsers.RebroWeeblyParser WARNING  Proxy Provider url failed: http://rebro.weebly.com\n",
      "2018-03-11 17:37:54,055 http_request_randomizer.requests.parsers.SamairProxyParser WARNING  Proxy Provider url failed: https://premproxy.com/list/\n",
      "2018-03-11 17:37:54,056 http_request_randomizer.requests.parsers.SamairProxyParser DEBUG    Pages: set()\n",
      "2018-03-11 17:37:54,073 root   DEBUG    Using headers: {'Connection': 'close', 'User-Agent': 'Mozilla/5.0 (X11; Linux x86_64; rv:2.0b4) Gecko/20100818 Firefox/4.0b'}\n",
      "2018-03-11 17:37:54,074 root   DEBUG    Using proxy: 204.12.155.204:3128 | FreeProxy\n",
      "2018-03-11 17:37:54,887 root   DEBUG    === Initialized Proxy Parsers ===\n",
      "2018-03-11 17:37:54,888 root   DEBUG    \t FreeProxy Parser of 'http://free-proxy-list.net' with required bandwidth: '150' KBs\n",
      "2018-03-11 17:37:54,889 root   DEBUG    \t ProxyForEU Parser of 'http://proxyfor.eu/geo.php' with required bandwidth: '1.0' KBs\n",
      "2018-03-11 17:37:54,890 root   DEBUG    \t RebroWeebly Parser of 'http://rebro.weebly.com' with required bandwidth: '150' KBs\n",
      "2018-03-11 17:37:54,890 root   DEBUG    \t SemairProxy Parser of 'https://premproxy.com/list/' with required bandwidth: '150' KBs\n",
      "2018-03-11 17:37:54,891 root   DEBUG    =================================\n"
     ]
    },
    {
     "name": "stdout",
     "output_type": "stream",
     "text": [
      "RR Status 200\n"
     ]
    },
    {
     "name": "stderr",
     "output_type": "stream",
     "text": [
      "2018-03-11 17:37:55,376 http_request_randomizer.requests.parsers.FreeProxyParser DEBUG    Proxy Invalid: <zip object at 0x104d9e2c8>\n",
      "2018-03-11 17:37:55,636 http_request_randomizer.requests.parsers.ProxyForEuParser DEBUG    Proxy with low bandwidth: 0.178\n",
      "2018-03-11 17:37:55,637 http_request_randomizer.requests.parsers.ProxyForEuParser DEBUG    Proxy Invalid: <zip object at 0x105a21408>\n",
      "2018-03-11 17:37:55,638 http_request_randomizer.requests.parsers.ProxyForEuParser DEBUG    Proxy with low bandwidth: 0.435\n",
      "2018-03-11 17:37:55,639 http_request_randomizer.requests.parsers.ProxyForEuParser DEBUG    Proxy Invalid: <zip object at 0x105a1b188>\n",
      "2018-03-11 17:37:55,640 http_request_randomizer.requests.parsers.ProxyForEuParser DEBUG    Proxy with low bandwidth: 0.361\n",
      "2018-03-11 17:37:55,641 http_request_randomizer.requests.parsers.ProxyForEuParser DEBUG    Proxy Invalid: <zip object at 0x105a1b508>\n",
      "2018-03-11 17:37:55,926 http_request_randomizer.requests.parsers.RebroWeeblyParser WARNING  Proxy Provider url failed: http://rebro.weebly.com\n",
      "2018-03-11 17:37:56,361 http_request_randomizer.requests.parsers.SamairProxyParser WARNING  Proxy Provider url failed: https://premproxy.com/list/\n",
      "2018-03-11 17:37:56,362 http_request_randomizer.requests.parsers.SamairProxyParser DEBUG    Pages: set()\n",
      "2018-03-11 17:37:56,379 root   DEBUG    Using headers: {'Connection': 'close', 'User-Agent': 'Mozilla/5.0 (Windows; U; Windows NT 5.1; fr-FR) AppleWebKit/528.16 (KHTML, like Gecko) Version/4.0 Safari/528.1'}\n",
      "2018-03-11 17:37:56,380 root   DEBUG    Using proxy: 180.183.211.88:8080 | FreeProxy\n",
      "2018-03-11 17:37:56,917 root   DEBUG    === Initialized Proxy Parsers ===\n",
      "2018-03-11 17:37:56,918 root   DEBUG    \t FreeProxy Parser of 'http://free-proxy-list.net' with required bandwidth: '150' KBs\n",
      "2018-03-11 17:37:56,919 root   DEBUG    \t ProxyForEU Parser of 'http://proxyfor.eu/geo.php' with required bandwidth: '1.0' KBs\n",
      "2018-03-11 17:37:56,920 root   DEBUG    \t RebroWeebly Parser of 'http://rebro.weebly.com' with required bandwidth: '150' KBs\n",
      "2018-03-11 17:37:56,922 root   DEBUG    \t SemairProxy Parser of 'https://premproxy.com/list/' with required bandwidth: '150' KBs\n",
      "2018-03-11 17:37:56,923 root   DEBUG    =================================\n"
     ]
    },
    {
     "name": "stdout",
     "output_type": "stream",
     "text": [
      "RR Status 200\n"
     ]
    },
    {
     "name": "stderr",
     "output_type": "stream",
     "text": [
      "2018-03-11 17:37:57,513 http_request_randomizer.requests.parsers.FreeProxyParser DEBUG    Proxy Invalid: <zip object at 0x1059e4288>\n",
      "2018-03-11 17:37:57,749 http_request_randomizer.requests.parsers.ProxyForEuParser DEBUG    Proxy with low bandwidth: 0.178\n",
      "2018-03-11 17:37:57,750 http_request_randomizer.requests.parsers.ProxyForEuParser DEBUG    Proxy Invalid: <zip object at 0x105805bc8>\n",
      "2018-03-11 17:37:57,751 http_request_randomizer.requests.parsers.ProxyForEuParser DEBUG    Proxy with low bandwidth: 0.435\n",
      "2018-03-11 17:37:57,753 http_request_randomizer.requests.parsers.ProxyForEuParser DEBUG    Proxy Invalid: <zip object at 0x10582af48>\n",
      "2018-03-11 17:37:57,754 http_request_randomizer.requests.parsers.ProxyForEuParser DEBUG    Proxy with low bandwidth: 0.361\n",
      "2018-03-11 17:37:57,755 http_request_randomizer.requests.parsers.ProxyForEuParser DEBUG    Proxy Invalid: <zip object at 0x10582abc8>\n",
      "2018-03-11 17:37:57,970 http_request_randomizer.requests.parsers.RebroWeeblyParser WARNING  Proxy Provider url failed: http://rebro.weebly.com\n",
      "2018-03-11 17:37:58,889 http_request_randomizer.requests.parsers.SamairProxyParser WARNING  Proxy Provider url failed: https://premproxy.com/list/\n",
      "2018-03-11 17:37:58,890 http_request_randomizer.requests.parsers.SamairProxyParser DEBUG    Pages: set()\n",
      "2018-03-11 17:37:58,911 root   DEBUG    Using headers: {'Connection': 'close', 'User-Agent': 'Mozilla/5.0 (X11; U; Linux i686; en-US; rv:1.9.1) Gecko/20090701 Ubuntu/9.04 (jaunty) Firefox/3.'}\n",
      "2018-03-11 17:37:58,912 root   DEBUG    Using proxy: 41.43.91.161:8080 | FreeProxy\n",
      "2018-03-11 17:38:00,269 root   DEBUG    === Initialized Proxy Parsers ===\n",
      "2018-03-11 17:38:00,269 root   DEBUG    \t FreeProxy Parser of 'http://free-proxy-list.net' with required bandwidth: '150' KBs\n",
      "2018-03-11 17:38:00,270 root   DEBUG    \t ProxyForEU Parser of 'http://proxyfor.eu/geo.php' with required bandwidth: '1.0' KBs\n",
      "2018-03-11 17:38:00,271 root   DEBUG    \t RebroWeebly Parser of 'http://rebro.weebly.com' with required bandwidth: '150' KBs\n",
      "2018-03-11 17:38:00,272 root   DEBUG    \t SemairProxy Parser of 'https://premproxy.com/list/' with required bandwidth: '150' KBs\n",
      "2018-03-11 17:38:00,273 root   DEBUG    =================================\n"
     ]
    },
    {
     "name": "stdout",
     "output_type": "stream",
     "text": [
      "RR Status 200\n"
     ]
    },
    {
     "name": "stderr",
     "output_type": "stream",
     "text": [
      "2018-03-11 17:38:00,864 http_request_randomizer.requests.parsers.FreeProxyParser DEBUG    Proxy Invalid: <zip object at 0x105489348>\n",
      "2018-03-11 17:38:01,118 http_request_randomizer.requests.parsers.ProxyForEuParser DEBUG    Proxy with low bandwidth: 0.178\n",
      "2018-03-11 17:38:01,119 http_request_randomizer.requests.parsers.ProxyForEuParser DEBUG    Proxy Invalid: <zip object at 0x105036388>\n",
      "2018-03-11 17:38:01,120 http_request_randomizer.requests.parsers.ProxyForEuParser DEBUG    Proxy with low bandwidth: 0.435\n",
      "2018-03-11 17:38:01,121 http_request_randomizer.requests.parsers.ProxyForEuParser DEBUG    Proxy Invalid: <zip object at 0x105036888>\n",
      "2018-03-11 17:38:01,122 http_request_randomizer.requests.parsers.ProxyForEuParser DEBUG    Proxy with low bandwidth: 0.361\n",
      "2018-03-11 17:38:01,123 http_request_randomizer.requests.parsers.ProxyForEuParser DEBUG    Proxy Invalid: <zip object at 0x105036c08>\n",
      "2018-03-11 17:38:01,338 http_request_randomizer.requests.parsers.RebroWeeblyParser WARNING  Proxy Provider url failed: http://rebro.weebly.com\n",
      "2018-03-11 17:38:01,820 http_request_randomizer.requests.parsers.SamairProxyParser WARNING  Proxy Provider url failed: https://premproxy.com/list/\n",
      "2018-03-11 17:38:01,821 http_request_randomizer.requests.parsers.SamairProxyParser DEBUG    Pages: set()\n",
      "2018-03-11 17:38:01,840 root   DEBUG    Using headers: {'Connection': 'close', 'User-Agent': 'Mozilla/5.0 (Windows; U; Windows NT 5.1; en-US; rv:1.9.1.5) Gecko/20091102 MRA 5.5 (build 02842) Firefox/3.5.'}\n",
      "2018-03-11 17:38:01,841 root   DEBUG    Using proxy: 47.91.165.126:80 | FreeProxy\n",
      "2018-03-11 17:38:02,472 root   DEBUG    === Initialized Proxy Parsers ===\n",
      "2018-03-11 17:38:02,473 root   DEBUG    \t FreeProxy Parser of 'http://free-proxy-list.net' with required bandwidth: '150' KBs\n",
      "2018-03-11 17:38:02,474 root   DEBUG    \t ProxyForEU Parser of 'http://proxyfor.eu/geo.php' with required bandwidth: '1.0' KBs\n",
      "2018-03-11 17:38:02,475 root   DEBUG    \t RebroWeebly Parser of 'http://rebro.weebly.com' with required bandwidth: '150' KBs\n",
      "2018-03-11 17:38:02,476 root   DEBUG    \t SemairProxy Parser of 'https://premproxy.com/list/' with required bandwidth: '150' KBs\n",
      "2018-03-11 17:38:02,477 root   DEBUG    =================================\n"
     ]
    },
    {
     "name": "stdout",
     "output_type": "stream",
     "text": [
      "RR Status 200\n"
     ]
    },
    {
     "name": "stderr",
     "output_type": "stream",
     "text": [
      "2018-03-11 17:38:02,982 http_request_randomizer.requests.parsers.FreeProxyParser DEBUG    Proxy Invalid: <zip object at 0x105582dc8>\n",
      "2018-03-11 17:38:03,237 http_request_randomizer.requests.parsers.ProxyForEuParser DEBUG    Proxy with low bandwidth: 0.178\n",
      "2018-03-11 17:38:03,238 http_request_randomizer.requests.parsers.ProxyForEuParser DEBUG    Proxy Invalid: <zip object at 0x104dcc748>\n",
      "2018-03-11 17:38:03,239 http_request_randomizer.requests.parsers.ProxyForEuParser DEBUG    Proxy with low bandwidth: 0.435\n",
      "2018-03-11 17:38:03,240 http_request_randomizer.requests.parsers.ProxyForEuParser DEBUG    Proxy Invalid: <zip object at 0x104dccc48>\n",
      "2018-03-11 17:38:03,241 http_request_randomizer.requests.parsers.ProxyForEuParser DEBUG    Proxy with low bandwidth: 0.361\n",
      "2018-03-11 17:38:03,242 http_request_randomizer.requests.parsers.ProxyForEuParser DEBUG    Proxy Invalid: <zip object at 0x104dccfc8>\n",
      "2018-03-11 17:38:03,506 http_request_randomizer.requests.parsers.RebroWeeblyParser WARNING  Proxy Provider url failed: http://rebro.weebly.com\n",
      "2018-03-11 17:38:03,950 http_request_randomizer.requests.parsers.SamairProxyParser WARNING  Proxy Provider url failed: https://premproxy.com/list/\n",
      "2018-03-11 17:38:03,951 http_request_randomizer.requests.parsers.SamairProxyParser DEBUG    Pages: set()\n",
      "2018-03-11 17:38:03,969 root   DEBUG    Using headers: {'Connection': 'close', 'User-Agent': 'Mozilla/5.0 (Windows NT 6.1; WOW64; rv:2.0b7) Gecko/20100101 Firefox/4.0b'}\n",
      "2018-03-11 17:38:03,970 root   DEBUG    Using proxy: 183.88.16.198:8080 | FreeProxy\n",
      "2018-03-11 17:38:04,564 root   DEBUG    === Initialized Proxy Parsers ===\n",
      "2018-03-11 17:38:04,565 root   DEBUG    \t FreeProxy Parser of 'http://free-proxy-list.net' with required bandwidth: '150' KBs\n",
      "2018-03-11 17:38:04,567 root   DEBUG    \t ProxyForEU Parser of 'http://proxyfor.eu/geo.php' with required bandwidth: '1.0' KBs\n",
      "2018-03-11 17:38:04,568 root   DEBUG    \t RebroWeebly Parser of 'http://rebro.weebly.com' with required bandwidth: '150' KBs\n",
      "2018-03-11 17:38:04,569 root   DEBUG    \t SemairProxy Parser of 'https://premproxy.com/list/' with required bandwidth: '150' KBs\n",
      "2018-03-11 17:38:04,570 root   DEBUG    =================================\n"
     ]
    },
    {
     "name": "stdout",
     "output_type": "stream",
     "text": [
      "RR Status 200\n"
     ]
    },
    {
     "name": "stderr",
     "output_type": "stream",
     "text": [
      "2018-03-11 17:38:05,118 http_request_randomizer.requests.parsers.FreeProxyParser DEBUG    Proxy Invalid: <zip object at 0x1057acc88>\n",
      "2018-03-11 17:38:05,430 http_request_randomizer.requests.parsers.ProxyForEuParser DEBUG    Proxy with low bandwidth: 0.178\n",
      "2018-03-11 17:38:05,431 http_request_randomizer.requests.parsers.ProxyForEuParser DEBUG    Proxy Invalid: <zip object at 0x104a4ca88>\n",
      "2018-03-11 17:38:05,432 http_request_randomizer.requests.parsers.ProxyForEuParser DEBUG    Proxy with low bandwidth: 0.435\n",
      "2018-03-11 17:38:05,433 http_request_randomizer.requests.parsers.ProxyForEuParser DEBUG    Proxy Invalid: <zip object at 0x104a4c608>\n",
      "2018-03-11 17:38:05,434 http_request_randomizer.requests.parsers.ProxyForEuParser DEBUG    Proxy with low bandwidth: 0.361\n",
      "2018-03-11 17:38:05,435 http_request_randomizer.requests.parsers.ProxyForEuParser DEBUG    Proxy Invalid: <zip object at 0x104a4c088>\n",
      "2018-03-11 17:38:05,648 http_request_randomizer.requests.parsers.RebroWeeblyParser WARNING  Proxy Provider url failed: http://rebro.weebly.com\n",
      "2018-03-11 17:38:06,193 http_request_randomizer.requests.parsers.SamairProxyParser WARNING  Proxy Provider url failed: https://premproxy.com/list/\n",
      "2018-03-11 17:38:06,194 http_request_randomizer.requests.parsers.SamairProxyParser DEBUG    Pages: set()\n",
      "2018-03-11 17:38:06,213 root   DEBUG    Using headers: {'Connection': 'close', 'User-Agent': 'Opera/9.80 (X11; Linux i686; U; nb) Presto/2.2.15 Version/10.0'}\n",
      "2018-03-11 17:38:06,214 root   DEBUG    Using proxy: 42.62.0.122:3128 | ProxyForEU\n",
      "2018-03-11 17:38:06,795 root   DEBUG    === Initialized Proxy Parsers ===\n",
      "2018-03-11 17:38:06,796 root   DEBUG    \t FreeProxy Parser of 'http://free-proxy-list.net' with required bandwidth: '150' KBs\n",
      "2018-03-11 17:38:06,798 root   DEBUG    \t ProxyForEU Parser of 'http://proxyfor.eu/geo.php' with required bandwidth: '1.0' KBs\n",
      "2018-03-11 17:38:06,799 root   DEBUG    \t RebroWeebly Parser of 'http://rebro.weebly.com' with required bandwidth: '150' KBs\n",
      "2018-03-11 17:38:06,800 root   DEBUG    \t SemairProxy Parser of 'https://premproxy.com/list/' with required bandwidth: '150' KBs\n",
      "2018-03-11 17:38:06,802 root   DEBUG    =================================\n"
     ]
    },
    {
     "name": "stdout",
     "output_type": "stream",
     "text": [
      "RR Status 200\n"
     ]
    },
    {
     "name": "stderr",
     "output_type": "stream",
     "text": [
      "2018-03-11 17:38:07,437 http_request_randomizer.requests.parsers.FreeProxyParser DEBUG    Proxy Invalid: <zip object at 0x104af21c8>\n",
      "2018-03-11 17:38:07,708 http_request_randomizer.requests.parsers.ProxyForEuParser DEBUG    Proxy with low bandwidth: 0.178\n",
      "2018-03-11 17:38:07,709 http_request_randomizer.requests.parsers.ProxyForEuParser DEBUG    Proxy Invalid: <zip object at 0x104dfb948>\n",
      "2018-03-11 17:38:07,710 http_request_randomizer.requests.parsers.ProxyForEuParser DEBUG    Proxy with low bandwidth: 0.435\n",
      "2018-03-11 17:38:07,711 http_request_randomizer.requests.parsers.ProxyForEuParser DEBUG    Proxy Invalid: <zip object at 0x104dfb6c8>\n",
      "2018-03-11 17:38:07,713 http_request_randomizer.requests.parsers.ProxyForEuParser DEBUG    Proxy with low bandwidth: 0.361\n",
      "2018-03-11 17:38:07,714 http_request_randomizer.requests.parsers.ProxyForEuParser DEBUG    Proxy Invalid: <zip object at 0x104fa6348>\n",
      "2018-03-11 17:38:08,212 http_request_randomizer.requests.parsers.RebroWeeblyParser WARNING  Proxy Provider url failed: http://rebro.weebly.com\n",
      "2018-03-11 17:38:08,775 http_request_randomizer.requests.parsers.SamairProxyParser WARNING  Proxy Provider url failed: https://premproxy.com/list/\n",
      "2018-03-11 17:38:08,776 http_request_randomizer.requests.parsers.SamairProxyParser DEBUG    Pages: set()\n",
      "2018-03-11 17:38:08,802 root   DEBUG    Using headers: {'Connection': 'close', 'User-Agent': 'Mozilla/5.0 (X11; U; Linux i686 (x86_64); fr; rv:1.9.1.2) Gecko/20090729 Firefox/3.5.'}\n",
      "2018-03-11 17:38:08,803 root   DEBUG    Using proxy: 115.28.170.44:8099 | ProxyForEU\n",
      "2018-03-11 17:38:09,330 root   DEBUG    === Initialized Proxy Parsers ===\n",
      "2018-03-11 17:38:09,331 root   DEBUG    \t FreeProxy Parser of 'http://free-proxy-list.net' with required bandwidth: '150' KBs\n",
      "2018-03-11 17:38:09,332 root   DEBUG    \t ProxyForEU Parser of 'http://proxyfor.eu/geo.php' with required bandwidth: '1.0' KBs\n",
      "2018-03-11 17:38:09,333 root   DEBUG    \t RebroWeebly Parser of 'http://rebro.weebly.com' with required bandwidth: '150' KBs\n",
      "2018-03-11 17:38:09,334 root   DEBUG    \t SemairProxy Parser of 'https://premproxy.com/list/' with required bandwidth: '150' KBs\n",
      "2018-03-11 17:38:09,335 root   DEBUG    =================================\n"
     ]
    },
    {
     "name": "stdout",
     "output_type": "stream",
     "text": [
      "RR Status 404\n"
     ]
    },
    {
     "name": "stderr",
     "output_type": "stream",
     "text": [
      "2018-03-11 17:38:09,839 http_request_randomizer.requests.parsers.FreeProxyParser DEBUG    Proxy Invalid: <zip object at 0x10520e648>\n",
      "2018-03-11 17:38:10,101 http_request_randomizer.requests.parsers.ProxyForEuParser DEBUG    Proxy with low bandwidth: 0.178\n",
      "2018-03-11 17:38:10,102 http_request_randomizer.requests.parsers.ProxyForEuParser DEBUG    Proxy Invalid: <zip object at 0x10545e048>\n",
      "2018-03-11 17:38:10,103 http_request_randomizer.requests.parsers.ProxyForEuParser DEBUG    Proxy with low bandwidth: 0.435\n",
      "2018-03-11 17:38:10,104 http_request_randomizer.requests.parsers.ProxyForEuParser DEBUG    Proxy Invalid: <zip object at 0x1054754c8>\n",
      "2018-03-11 17:38:10,105 http_request_randomizer.requests.parsers.ProxyForEuParser DEBUG    Proxy with low bandwidth: 0.361\n",
      "2018-03-11 17:38:10,106 http_request_randomizer.requests.parsers.ProxyForEuParser DEBUG    Proxy Invalid: <zip object at 0x105475848>\n",
      "2018-03-11 17:38:10,312 http_request_randomizer.requests.parsers.RebroWeeblyParser WARNING  Proxy Provider url failed: http://rebro.weebly.com\n",
      "2018-03-11 17:38:10,770 http_request_randomizer.requests.parsers.SamairProxyParser WARNING  Proxy Provider url failed: https://premproxy.com/list/\n",
      "2018-03-11 17:38:10,771 http_request_randomizer.requests.parsers.SamairProxyParser DEBUG    Pages: set()\n",
      "2018-03-11 17:38:10,792 root   DEBUG    Using headers: {'Connection': 'close', 'User-Agent': 'Mozilla/5.0 (X11; U; Linux i686; zh-CN; rv:1.9.2.8) Gecko/20100722 Ubuntu/10.04 (lucid) Firefox/3.6.'}\n",
      "2018-03-11 17:38:10,793 root   DEBUG    Using proxy: 190.77.89.25:8080 | FreeProxy\n",
      "2018-03-11 17:38:11,238 root   DEBUG    === Initialized Proxy Parsers ===\n",
      "2018-03-11 17:38:11,239 root   DEBUG    \t FreeProxy Parser of 'http://free-proxy-list.net' with required bandwidth: '150' KBs\n",
      "2018-03-11 17:38:11,240 root   DEBUG    \t ProxyForEU Parser of 'http://proxyfor.eu/geo.php' with required bandwidth: '1.0' KBs\n",
      "2018-03-11 17:38:11,241 root   DEBUG    \t RebroWeebly Parser of 'http://rebro.weebly.com' with required bandwidth: '150' KBs\n",
      "2018-03-11 17:38:11,242 root   DEBUG    \t SemairProxy Parser of 'https://premproxy.com/list/' with required bandwidth: '150' KBs\n",
      "2018-03-11 17:38:11,243 root   DEBUG    =================================\n"
     ]
    },
    {
     "name": "stdout",
     "output_type": "stream",
     "text": [
      "RR Status 404\n"
     ]
    },
    {
     "name": "stderr",
     "output_type": "stream",
     "text": [
      "2018-03-11 17:38:11,827 http_request_randomizer.requests.parsers.FreeProxyParser DEBUG    Proxy Invalid: <zip object at 0x10541cb08>\n",
      "2018-03-11 17:38:12,104 http_request_randomizer.requests.parsers.ProxyForEuParser DEBUG    Proxy with low bandwidth: 0.178\n",
      "2018-03-11 17:38:12,105 http_request_randomizer.requests.parsers.ProxyForEuParser DEBUG    Proxy Invalid: <zip object at 0x104f13488>\n",
      "2018-03-11 17:38:12,106 http_request_randomizer.requests.parsers.ProxyForEuParser DEBUG    Proxy with low bandwidth: 0.435\n",
      "2018-03-11 17:38:12,107 http_request_randomizer.requests.parsers.ProxyForEuParser DEBUG    Proxy Invalid: <zip object at 0x104f13988>\n",
      "2018-03-11 17:38:12,108 http_request_randomizer.requests.parsers.ProxyForEuParser DEBUG    Proxy with low bandwidth: 0.361\n",
      "2018-03-11 17:38:12,109 http_request_randomizer.requests.parsers.ProxyForEuParser DEBUG    Proxy Invalid: <zip object at 0x104f13d08>\n",
      "2018-03-11 17:38:12,339 http_request_randomizer.requests.parsers.RebroWeeblyParser WARNING  Proxy Provider url failed: http://rebro.weebly.com\n",
      "2018-03-11 17:38:12,839 http_request_randomizer.requests.parsers.SamairProxyParser WARNING  Proxy Provider url failed: https://premproxy.com/list/\n",
      "2018-03-11 17:38:12,840 http_request_randomizer.requests.parsers.SamairProxyParser DEBUG    Pages: set()\n",
      "2018-03-11 17:38:12,861 root   DEBUG    Using headers: {'Connection': 'close', 'User-Agent': 'Mozilla/5.0 (Windows; U; Windows NT 6.1; ar; rv:1.9.2) Gecko/20100115 Firefox/3.'}\n",
      "2018-03-11 17:38:12,862 root   DEBUG    Using proxy: 134.35.122.13:8080 | FreeProxy\n",
      "2018-03-11 17:38:13,807 root   DEBUG    === Initialized Proxy Parsers ===\n",
      "2018-03-11 17:38:13,808 root   DEBUG    \t FreeProxy Parser of 'http://free-proxy-list.net' with required bandwidth: '150' KBs\n",
      "2018-03-11 17:38:13,809 root   DEBUG    \t ProxyForEU Parser of 'http://proxyfor.eu/geo.php' with required bandwidth: '1.0' KBs\n",
      "2018-03-11 17:38:13,809 root   DEBUG    \t RebroWeebly Parser of 'http://rebro.weebly.com' with required bandwidth: '150' KBs\n",
      "2018-03-11 17:38:13,810 root   DEBUG    \t SemairProxy Parser of 'https://premproxy.com/list/' with required bandwidth: '150' KBs\n",
      "2018-03-11 17:38:13,811 root   DEBUG    =================================\n"
     ]
    },
    {
     "name": "stdout",
     "output_type": "stream",
     "text": [
      "RR Status 404\n"
     ]
    },
    {
     "name": "stderr",
     "output_type": "stream",
     "text": [
      "2018-03-11 17:38:14,372 http_request_randomizer.requests.parsers.FreeProxyParser DEBUG    Proxy Invalid: <zip object at 0x10591f088>\n",
      "2018-03-11 17:38:14,725 http_request_randomizer.requests.parsers.ProxyForEuParser DEBUG    Proxy with low bandwidth: 0.178\n",
      "2018-03-11 17:38:14,727 http_request_randomizer.requests.parsers.ProxyForEuParser DEBUG    Proxy Invalid: <zip object at 0x105491fc8>\n",
      "2018-03-11 17:38:14,728 http_request_randomizer.requests.parsers.ProxyForEuParser DEBUG    Proxy with low bandwidth: 0.435\n",
      "2018-03-11 17:38:14,729 http_request_randomizer.requests.parsers.ProxyForEuParser DEBUG    Proxy Invalid: <zip object at 0x105491588>\n",
      "2018-03-11 17:38:14,730 http_request_randomizer.requests.parsers.ProxyForEuParser DEBUG    Proxy with low bandwidth: 0.361\n",
      "2018-03-11 17:38:14,731 http_request_randomizer.requests.parsers.ProxyForEuParser DEBUG    Proxy Invalid: <zip object at 0x104a0d688>\n",
      "2018-03-11 17:38:14,941 http_request_randomizer.requests.parsers.RebroWeeblyParser WARNING  Proxy Provider url failed: http://rebro.weebly.com\n",
      "2018-03-11 17:38:15,393 http_request_randomizer.requests.parsers.SamairProxyParser WARNING  Proxy Provider url failed: https://premproxy.com/list/\n",
      "2018-03-11 17:38:15,394 http_request_randomizer.requests.parsers.SamairProxyParser DEBUG    Pages: set()\n",
      "2018-03-11 17:38:15,416 root   DEBUG    Using headers: {'Connection': 'close', 'User-Agent': 'Mozilla/5.0 (X11; U; Linux i686; ja-JP; rv:1.9.1.8) Gecko/20100216 Fedora/3.5.8-1.fc12 Firefox/3.5.'}\n",
      "2018-03-11 17:38:15,417 root   DEBUG    Using proxy: 36.82.226.19:8080 | FreeProxy\n",
      "2018-03-11 17:38:15,910 root   DEBUG    === Initialized Proxy Parsers ===\n",
      "2018-03-11 17:38:15,911 root   DEBUG    \t FreeProxy Parser of 'http://free-proxy-list.net' with required bandwidth: '150' KBs\n",
      "2018-03-11 17:38:15,912 root   DEBUG    \t ProxyForEU Parser of 'http://proxyfor.eu/geo.php' with required bandwidth: '1.0' KBs\n",
      "2018-03-11 17:38:15,912 root   DEBUG    \t RebroWeebly Parser of 'http://rebro.weebly.com' with required bandwidth: '150' KBs\n",
      "2018-03-11 17:38:15,913 root   DEBUG    \t SemairProxy Parser of 'https://premproxy.com/list/' with required bandwidth: '150' KBs\n",
      "2018-03-11 17:38:15,914 root   DEBUG    =================================\n"
     ]
    },
    {
     "name": "stdout",
     "output_type": "stream",
     "text": [
      "RR Status 404\n"
     ]
    },
    {
     "name": "stderr",
     "output_type": "stream",
     "text": [
      "2018-03-11 17:38:16,460 http_request_randomizer.requests.parsers.FreeProxyParser DEBUG    Proxy Invalid: <zip object at 0x105123308>\n",
      "2018-03-11 17:38:16,762 http_request_randomizer.requests.parsers.ProxyForEuParser DEBUG    Proxy with low bandwidth: 0.178\n",
      "2018-03-11 17:38:16,763 http_request_randomizer.requests.parsers.ProxyForEuParser DEBUG    Proxy Invalid: <zip object at 0x1055fef48>\n",
      "2018-03-11 17:38:16,764 http_request_randomizer.requests.parsers.ProxyForEuParser DEBUG    Proxy with low bandwidth: 0.435\n",
      "2018-03-11 17:38:16,765 http_request_randomizer.requests.parsers.ProxyForEuParser DEBUG    Proxy Invalid: <zip object at 0x105962488>\n",
      "2018-03-11 17:38:16,766 http_request_randomizer.requests.parsers.ProxyForEuParser DEBUG    Proxy with low bandwidth: 0.361\n",
      "2018-03-11 17:38:16,767 http_request_randomizer.requests.parsers.ProxyForEuParser DEBUG    Proxy Invalid: <zip object at 0x105962808>\n",
      "2018-03-11 17:38:17,024 http_request_randomizer.requests.parsers.RebroWeeblyParser WARNING  Proxy Provider url failed: http://rebro.weebly.com\n",
      "2018-03-11 17:38:17,545 http_request_randomizer.requests.parsers.SamairProxyParser WARNING  Proxy Provider url failed: https://premproxy.com/list/\n",
      "2018-03-11 17:38:17,546 http_request_randomizer.requests.parsers.SamairProxyParser DEBUG    Pages: set()\n",
      "2018-03-11 17:38:17,570 root   DEBUG    Using headers: {'Connection': 'close', 'User-Agent': 'Mozilla/5.0 (Windows; U; Windows NT 5.1; en-US) AppleWebKit/534.9 (KHTML, like Gecko) Chrome/7.0.531.0 Safari/534.'}\n",
      "2018-03-11 17:38:17,571 root   DEBUG    Using proxy: 94.130.126.125:8080 | FreeProxy\n",
      "2018-03-11 17:38:18,124 root   DEBUG    === Initialized Proxy Parsers ===\n",
      "2018-03-11 17:38:18,125 root   DEBUG    \t FreeProxy Parser of 'http://free-proxy-list.net' with required bandwidth: '150' KBs\n",
      "2018-03-11 17:38:18,126 root   DEBUG    \t ProxyForEU Parser of 'http://proxyfor.eu/geo.php' with required bandwidth: '1.0' KBs\n",
      "2018-03-11 17:38:18,127 root   DEBUG    \t RebroWeebly Parser of 'http://rebro.weebly.com' with required bandwidth: '150' KBs\n",
      "2018-03-11 17:38:18,128 root   DEBUG    \t SemairProxy Parser of 'https://premproxy.com/list/' with required bandwidth: '150' KBs\n",
      "2018-03-11 17:38:18,129 root   DEBUG    =================================\n"
     ]
    },
    {
     "name": "stdout",
     "output_type": "stream",
     "text": [
      "RR Status 404\n"
     ]
    },
    {
     "name": "stderr",
     "output_type": "stream",
     "text": [
      "2018-03-11 17:38:18,673 http_request_randomizer.requests.parsers.FreeProxyParser DEBUG    Proxy Invalid: <zip object at 0x10481fb08>\n",
      "2018-03-11 17:38:18,936 http_request_randomizer.requests.parsers.ProxyForEuParser DEBUG    Proxy with low bandwidth: 0.178\n",
      "2018-03-11 17:38:18,938 http_request_randomizer.requests.parsers.ProxyForEuParser DEBUG    Proxy Invalid: <zip object at 0x104ec1488>\n",
      "2018-03-11 17:38:18,939 http_request_randomizer.requests.parsers.ProxyForEuParser DEBUG    Proxy with low bandwidth: 0.435\n",
      "2018-03-11 17:38:18,941 http_request_randomizer.requests.parsers.ProxyForEuParser DEBUG    Proxy Invalid: <zip object at 0x104ec1988>\n",
      "2018-03-11 17:38:18,943 http_request_randomizer.requests.parsers.ProxyForEuParser DEBUG    Proxy with low bandwidth: 0.361\n",
      "2018-03-11 17:38:18,944 http_request_randomizer.requests.parsers.ProxyForEuParser DEBUG    Proxy Invalid: <zip object at 0x104ec1d08>\n",
      "2018-03-11 17:38:19,149 http_request_randomizer.requests.parsers.RebroWeeblyParser WARNING  Proxy Provider url failed: http://rebro.weebly.com\n",
      "2018-03-11 17:38:19,622 http_request_randomizer.requests.parsers.SamairProxyParser WARNING  Proxy Provider url failed: https://premproxy.com/list/\n",
      "2018-03-11 17:38:19,623 http_request_randomizer.requests.parsers.SamairProxyParser DEBUG    Pages: set()\n",
      "2018-03-11 17:38:19,644 root   DEBUG    Using headers: {'Connection': 'close', 'User-Agent': 'Mozilla/5.0 (Windows; U; Windows NT 5.2; en-CA; rv:1.9.2.4) Gecko/20100523 Firefox/3.6.'}\n",
      "2018-03-11 17:38:19,644 root   DEBUG    Using proxy: 120.92.3.165:80 | ProxyForEU\n",
      "2018-03-11 17:38:20,242 root   DEBUG    === Initialized Proxy Parsers ===\n",
      "2018-03-11 17:38:20,243 root   DEBUG    \t FreeProxy Parser of 'http://free-proxy-list.net' with required bandwidth: '150' KBs\n",
      "2018-03-11 17:38:20,244 root   DEBUG    \t ProxyForEU Parser of 'http://proxyfor.eu/geo.php' with required bandwidth: '1.0' KBs\n",
      "2018-03-11 17:38:20,244 root   DEBUG    \t RebroWeebly Parser of 'http://rebro.weebly.com' with required bandwidth: '150' KBs\n",
      "2018-03-11 17:38:20,245 root   DEBUG    \t SemairProxy Parser of 'https://premproxy.com/list/' with required bandwidth: '150' KBs\n",
      "2018-03-11 17:38:20,246 root   DEBUG    =================================\n"
     ]
    },
    {
     "name": "stdout",
     "output_type": "stream",
     "text": [
      "RR Status 200\n"
     ]
    },
    {
     "name": "stderr",
     "output_type": "stream",
     "text": [
      "2018-03-11 17:38:20,828 http_request_randomizer.requests.parsers.FreeProxyParser DEBUG    Proxy Invalid: <zip object at 0x10587f708>\n",
      "2018-03-11 17:38:21,097 http_request_randomizer.requests.parsers.ProxyForEuParser DEBUG    Proxy with low bandwidth: 0.178\n",
      "2018-03-11 17:38:21,098 http_request_randomizer.requests.parsers.ProxyForEuParser DEBUG    Proxy Invalid: <zip object at 0x104c77f88>\n",
      "2018-03-11 17:38:21,100 http_request_randomizer.requests.parsers.ProxyForEuParser DEBUG    Proxy with low bandwidth: 0.435\n",
      "2018-03-11 17:38:21,100 http_request_randomizer.requests.parsers.ProxyForEuParser DEBUG    Proxy Invalid: <zip object at 0x104c77ac8>\n",
      "2018-03-11 17:38:21,102 http_request_randomizer.requests.parsers.ProxyForEuParser DEBUG    Proxy with low bandwidth: 0.361\n",
      "2018-03-11 17:38:21,103 http_request_randomizer.requests.parsers.ProxyForEuParser DEBUG    Proxy Invalid: <zip object at 0x104c77748>\n",
      "2018-03-11 17:38:21,327 http_request_randomizer.requests.parsers.RebroWeeblyParser WARNING  Proxy Provider url failed: http://rebro.weebly.com\n",
      "2018-03-11 17:38:22,050 http_request_randomizer.requests.parsers.SamairProxyParser WARNING  Proxy Provider url failed: https://premproxy.com/list/\n",
      "2018-03-11 17:38:22,052 http_request_randomizer.requests.parsers.SamairProxyParser DEBUG    Pages: set()\n",
      "2018-03-11 17:38:22,074 root   DEBUG    Using headers: {'Connection': 'close', 'User-Agent': 'Mozilla/5.0 (X11; U; Linux i686; de; rv:1.9.2.10) Gecko/20100922 Ubuntu/10.10 (maverick) Firefox/3.6.1'}\n",
      "2018-03-11 17:38:22,075 root   DEBUG    Using proxy: 115.28.170.44:8099 | ProxyForEU\n",
      "2018-03-11 17:38:22,682 root   DEBUG    === Initialized Proxy Parsers ===\n",
      "2018-03-11 17:38:22,683 root   DEBUG    \t FreeProxy Parser of 'http://free-proxy-list.net' with required bandwidth: '150' KBs\n",
      "2018-03-11 17:38:22,684 root   DEBUG    \t ProxyForEU Parser of 'http://proxyfor.eu/geo.php' with required bandwidth: '1.0' KBs\n",
      "2018-03-11 17:38:22,685 root   DEBUG    \t RebroWeebly Parser of 'http://rebro.weebly.com' with required bandwidth: '150' KBs\n",
      "2018-03-11 17:38:22,686 root   DEBUG    \t SemairProxy Parser of 'https://premproxy.com/list/' with required bandwidth: '150' KBs\n",
      "2018-03-11 17:38:22,687 root   DEBUG    =================================\n"
     ]
    },
    {
     "name": "stdout",
     "output_type": "stream",
     "text": [
      "RR Status 200\n"
     ]
    },
    {
     "name": "stderr",
     "output_type": "stream",
     "text": [
      "2018-03-11 17:38:23,276 http_request_randomizer.requests.parsers.FreeProxyParser DEBUG    Proxy Invalid: <zip object at 0x105f7d3c8>\n",
      "2018-03-11 17:38:23,533 http_request_randomizer.requests.parsers.ProxyForEuParser DEBUG    Proxy with low bandwidth: 0.178\n",
      "2018-03-11 17:38:23,534 http_request_randomizer.requests.parsers.ProxyForEuParser DEBUG    Proxy Invalid: <zip object at 0x1055251c8>\n",
      "2018-03-11 17:38:23,535 http_request_randomizer.requests.parsers.ProxyForEuParser DEBUG    Proxy with low bandwidth: 0.435\n",
      "2018-03-11 17:38:23,536 http_request_randomizer.requests.parsers.ProxyForEuParser DEBUG    Proxy Invalid: <zip object at 0x105ad2f08>\n",
      "2018-03-11 17:38:23,537 http_request_randomizer.requests.parsers.ProxyForEuParser DEBUG    Proxy with low bandwidth: 0.361\n",
      "2018-03-11 17:38:23,538 http_request_randomizer.requests.parsers.ProxyForEuParser DEBUG    Proxy Invalid: <zip object at 0x105e98688>\n",
      "2018-03-11 17:38:23,784 http_request_randomizer.requests.parsers.RebroWeeblyParser WARNING  Proxy Provider url failed: http://rebro.weebly.com\n",
      "2018-03-11 17:38:24,222 http_request_randomizer.requests.parsers.SamairProxyParser WARNING  Proxy Provider url failed: https://premproxy.com/list/\n",
      "2018-03-11 17:38:24,223 http_request_randomizer.requests.parsers.SamairProxyParser DEBUG    Pages: set()\n",
      "2018-03-11 17:38:24,245 root   DEBUG    Using headers: {'Connection': 'close', 'User-Agent': 'Mozilla/5.0 (X11; U; Linux x86_64; en-US; rv:1.9.2a1pre) Gecko/20090405 Firefox/3.6a1pr'}\n",
      "2018-03-11 17:38:24,246 root   DEBUG    Using proxy: 109.78.209.193:8080 | FreeProxy\n",
      "2018-03-11 17:38:24,852 root   DEBUG    === Initialized Proxy Parsers ===\n",
      "2018-03-11 17:38:24,853 root   DEBUG    \t FreeProxy Parser of 'http://free-proxy-list.net' with required bandwidth: '150' KBs\n",
      "2018-03-11 17:38:24,854 root   DEBUG    \t ProxyForEU Parser of 'http://proxyfor.eu/geo.php' with required bandwidth: '1.0' KBs\n",
      "2018-03-11 17:38:24,854 root   DEBUG    \t RebroWeebly Parser of 'http://rebro.weebly.com' with required bandwidth: '150' KBs\n",
      "2018-03-11 17:38:24,855 root   DEBUG    \t SemairProxy Parser of 'https://premproxy.com/list/' with required bandwidth: '150' KBs\n",
      "2018-03-11 17:38:24,856 root   DEBUG    =================================\n"
     ]
    },
    {
     "name": "stdout",
     "output_type": "stream",
     "text": [
      "RR Status 200\n"
     ]
    },
    {
     "name": "stderr",
     "output_type": "stream",
     "text": [
      "2018-03-11 17:38:25,460 http_request_randomizer.requests.parsers.FreeProxyParser DEBUG    Proxy Invalid: <zip object at 0x1059f2bc8>\n",
      "2018-03-11 17:38:25,737 http_request_randomizer.requests.parsers.ProxyForEuParser DEBUG    Proxy with low bandwidth: 0.178\n",
      "2018-03-11 17:38:25,738 http_request_randomizer.requests.parsers.ProxyForEuParser DEBUG    Proxy Invalid: <zip object at 0x104e46e48>\n",
      "2018-03-11 17:38:25,740 http_request_randomizer.requests.parsers.ProxyForEuParser DEBUG    Proxy with low bandwidth: 0.435\n",
      "2018-03-11 17:38:25,741 http_request_randomizer.requests.parsers.ProxyForEuParser DEBUG    Proxy Invalid: <zip object at 0x105f05c88>\n",
      "2018-03-11 17:38:25,742 http_request_randomizer.requests.parsers.ProxyForEuParser DEBUG    Proxy with low bandwidth: 0.361\n",
      "2018-03-11 17:38:25,743 http_request_randomizer.requests.parsers.ProxyForEuParser DEBUG    Proxy Invalid: <zip object at 0x105f05908>\n",
      "2018-03-11 17:38:25,974 http_request_randomizer.requests.parsers.RebroWeeblyParser WARNING  Proxy Provider url failed: http://rebro.weebly.com\n",
      "2018-03-11 17:38:26,486 http_request_randomizer.requests.parsers.SamairProxyParser WARNING  Proxy Provider url failed: https://premproxy.com/list/\n",
      "2018-03-11 17:38:26,487 http_request_randomizer.requests.parsers.SamairProxyParser DEBUG    Pages: set()\n",
      "2018-03-11 17:38:26,512 root   DEBUG    Using headers: {'Connection': 'close', 'User-Agent': 'Mozilla/5.0 (X11; U; Linux i686; de; rv:1.9.1.8) Gecko/20100214 Ubuntu/9.10 (karmic) Firefox/3.5.'}\n",
      "2018-03-11 17:38:26,513 root   DEBUG    Using proxy: 125.165.1.190:8080 | FreeProxy\n",
      "2018-03-11 17:38:27,069 root   DEBUG    === Initialized Proxy Parsers ===\n",
      "2018-03-11 17:38:27,070 root   DEBUG    \t FreeProxy Parser of 'http://free-proxy-list.net' with required bandwidth: '150' KBs\n",
      "2018-03-11 17:38:27,070 root   DEBUG    \t ProxyForEU Parser of 'http://proxyfor.eu/geo.php' with required bandwidth: '1.0' KBs\n",
      "2018-03-11 17:38:27,071 root   DEBUG    \t RebroWeebly Parser of 'http://rebro.weebly.com' with required bandwidth: '150' KBs\n",
      "2018-03-11 17:38:27,072 root   DEBUG    \t SemairProxy Parser of 'https://premproxy.com/list/' with required bandwidth: '150' KBs\n",
      "2018-03-11 17:38:27,073 root   DEBUG    =================================\n"
     ]
    },
    {
     "name": "stdout",
     "output_type": "stream",
     "text": [
      "RR Status 200\n"
     ]
    },
    {
     "name": "stderr",
     "output_type": "stream",
     "text": [
      "2018-03-11 17:38:27,599 http_request_randomizer.requests.parsers.FreeProxyParser DEBUG    Proxy Invalid: <zip object at 0x105764748>\n",
      "2018-03-11 17:38:27,876 http_request_randomizer.requests.parsers.ProxyForEuParser DEBUG    Proxy with low bandwidth: 0.178\n",
      "2018-03-11 17:38:27,877 http_request_randomizer.requests.parsers.ProxyForEuParser DEBUG    Proxy Invalid: <zip object at 0x104d400c8>\n",
      "2018-03-11 17:38:27,878 http_request_randomizer.requests.parsers.ProxyForEuParser DEBUG    Proxy with low bandwidth: 0.435\n",
      "2018-03-11 17:38:27,879 http_request_randomizer.requests.parsers.ProxyForEuParser DEBUG    Proxy Invalid: <zip object at 0x104d405c8>\n",
      "2018-03-11 17:38:27,880 http_request_randomizer.requests.parsers.ProxyForEuParser DEBUG    Proxy with low bandwidth: 0.361\n",
      "2018-03-11 17:38:27,881 http_request_randomizer.requests.parsers.ProxyForEuParser DEBUG    Proxy Invalid: <zip object at 0x104d40948>\n",
      "2018-03-11 17:38:28,089 http_request_randomizer.requests.parsers.RebroWeeblyParser WARNING  Proxy Provider url failed: http://rebro.weebly.com\n",
      "2018-03-11 17:38:28,653 http_request_randomizer.requests.parsers.SamairProxyParser WARNING  Proxy Provider url failed: https://premproxy.com/list/\n",
      "2018-03-11 17:38:28,654 http_request_randomizer.requests.parsers.SamairProxyParser DEBUG    Pages: set()\n",
      "2018-03-11 17:38:28,677 root   DEBUG    Using headers: {'Connection': 'close', 'User-Agent': 'Opera/9.80 (Macintosh; Intel Mac OS X; U; nl) Presto/2.6.30 Version/10.6'}\n",
      "2018-03-11 17:38:28,678 root   DEBUG    Using proxy: 191.242.173.210:65301 | FreeProxy\n",
      "2018-03-11 17:38:29,360 root   DEBUG    === Initialized Proxy Parsers ===\n",
      "2018-03-11 17:38:29,361 root   DEBUG    \t FreeProxy Parser of 'http://free-proxy-list.net' with required bandwidth: '150' KBs\n",
      "2018-03-11 17:38:29,362 root   DEBUG    \t ProxyForEU Parser of 'http://proxyfor.eu/geo.php' with required bandwidth: '1.0' KBs\n",
      "2018-03-11 17:38:29,363 root   DEBUG    \t RebroWeebly Parser of 'http://rebro.weebly.com' with required bandwidth: '150' KBs\n",
      "2018-03-11 17:38:29,364 root   DEBUG    \t SemairProxy Parser of 'https://premproxy.com/list/' with required bandwidth: '150' KBs\n",
      "2018-03-11 17:38:29,365 root   DEBUG    =================================\n"
     ]
    },
    {
     "name": "stdout",
     "output_type": "stream",
     "text": [
      "RR Status 200\n"
     ]
    },
    {
     "name": "stderr",
     "output_type": "stream",
     "text": [
      "2018-03-11 17:38:30,082 http_request_randomizer.requests.parsers.FreeProxyParser DEBUG    Proxy Invalid: <zip object at 0x10541cac8>\n",
      "2018-03-11 17:38:30,404 http_request_randomizer.requests.parsers.ProxyForEuParser DEBUG    Proxy with low bandwidth: 0.178\n",
      "2018-03-11 17:38:30,405 http_request_randomizer.requests.parsers.ProxyForEuParser DEBUG    Proxy Invalid: <zip object at 0x105ea3448>\n",
      "2018-03-11 17:38:30,406 http_request_randomizer.requests.parsers.ProxyForEuParser DEBUG    Proxy with low bandwidth: 0.435\n",
      "2018-03-11 17:38:30,407 http_request_randomizer.requests.parsers.ProxyForEuParser DEBUG    Proxy Invalid: <zip object at 0x105ea3608>\n",
      "2018-03-11 17:38:30,408 http_request_randomizer.requests.parsers.ProxyForEuParser DEBUG    Proxy with low bandwidth: 0.361\n",
      "2018-03-11 17:38:30,409 http_request_randomizer.requests.parsers.ProxyForEuParser DEBUG    Proxy Invalid: <zip object at 0x105609148>\n",
      "2018-03-11 17:38:30,684 http_request_randomizer.requests.parsers.RebroWeeblyParser WARNING  Proxy Provider url failed: http://rebro.weebly.com\n",
      "2018-03-11 17:38:31,357 http_request_randomizer.requests.parsers.SamairProxyParser WARNING  Proxy Provider url failed: https://premproxy.com/list/\n",
      "2018-03-11 17:38:31,358 http_request_randomizer.requests.parsers.SamairProxyParser DEBUG    Pages: set()\n",
      "2018-03-11 17:38:31,383 root   DEBUG    Using headers: {'Connection': 'close', 'User-Agent': 'Mozilla/5.0 (Windows; U; Windows NT 5.1; en-GB; rv:1.9.1.16) Gecko/20101130 Firefox/3.5.16 GTB7.1 (.NET CLR 3.5.30729'}\n",
      "2018-03-11 17:38:31,384 root   DEBUG    Using proxy: 201.78.108.220:8080 | FreeProxy\n",
      "2018-03-11 17:38:32,046 root   DEBUG    === Initialized Proxy Parsers ===\n",
      "2018-03-11 17:38:32,047 root   DEBUG    \t FreeProxy Parser of 'http://free-proxy-list.net' with required bandwidth: '150' KBs\n",
      "2018-03-11 17:38:32,047 root   DEBUG    \t ProxyForEU Parser of 'http://proxyfor.eu/geo.php' with required bandwidth: '1.0' KBs\n",
      "2018-03-11 17:38:32,048 root   DEBUG    \t RebroWeebly Parser of 'http://rebro.weebly.com' with required bandwidth: '150' KBs\n",
      "2018-03-11 17:38:32,049 root   DEBUG    \t SemairProxy Parser of 'https://premproxy.com/list/' with required bandwidth: '150' KBs\n",
      "2018-03-11 17:38:32,050 root   DEBUG    =================================\n"
     ]
    },
    {
     "name": "stdout",
     "output_type": "stream",
     "text": [
      "RR Status 200\n"
     ]
    },
    {
     "name": "stderr",
     "output_type": "stream",
     "text": [
      "2018-03-11 17:38:32,681 http_request_randomizer.requests.parsers.FreeProxyParser DEBUG    Proxy Invalid: <zip object at 0x10514a7c8>\n",
      "2018-03-11 17:38:32,951 http_request_randomizer.requests.parsers.ProxyForEuParser DEBUG    Proxy with low bandwidth: 0.178\n",
      "2018-03-11 17:38:32,952 http_request_randomizer.requests.parsers.ProxyForEuParser DEBUG    Proxy Invalid: <zip object at 0x105a721c8>\n",
      "2018-03-11 17:38:32,953 http_request_randomizer.requests.parsers.ProxyForEuParser DEBUG    Proxy with low bandwidth: 0.435\n",
      "2018-03-11 17:38:32,954 http_request_randomizer.requests.parsers.ProxyForEuParser DEBUG    Proxy Invalid: <zip object at 0x105a726c8>\n",
      "2018-03-11 17:38:32,955 http_request_randomizer.requests.parsers.ProxyForEuParser DEBUG    Proxy with low bandwidth: 0.361\n",
      "2018-03-11 17:38:32,956 http_request_randomizer.requests.parsers.ProxyForEuParser DEBUG    Proxy Invalid: <zip object at 0x105a72a48>\n",
      "2018-03-11 17:38:33,178 http_request_randomizer.requests.parsers.RebroWeeblyParser WARNING  Proxy Provider url failed: http://rebro.weebly.com\n",
      "2018-03-11 17:38:33,653 http_request_randomizer.requests.parsers.SamairProxyParser WARNING  Proxy Provider url failed: https://premproxy.com/list/\n",
      "2018-03-11 17:38:33,654 http_request_randomizer.requests.parsers.SamairProxyParser DEBUG    Pages: set()\n",
      "2018-03-11 17:38:33,680 root   DEBUG    Using headers: {'Connection': 'close', 'User-Agent': 'Mozilla/5.0 (Windows; U; Windows NT 5.1; en-GB; rv:1.9.2.16) Gecko/20110319 AskTbUTR/3.11.3.15590 Firefox/3.6.1'}\n",
      "2018-03-11 17:38:33,681 root   DEBUG    Using proxy: 182.52.137.89:8080 | FreeProxy\n",
      "2018-03-11 17:38:34,248 root   DEBUG    === Initialized Proxy Parsers ===\n",
      "2018-03-11 17:38:34,249 root   DEBUG    \t FreeProxy Parser of 'http://free-proxy-list.net' with required bandwidth: '150' KBs\n",
      "2018-03-11 17:38:34,250 root   DEBUG    \t ProxyForEU Parser of 'http://proxyfor.eu/geo.php' with required bandwidth: '1.0' KBs\n",
      "2018-03-11 17:38:34,250 root   DEBUG    \t RebroWeebly Parser of 'http://rebro.weebly.com' with required bandwidth: '150' KBs\n",
      "2018-03-11 17:38:34,251 root   DEBUG    \t SemairProxy Parser of 'https://premproxy.com/list/' with required bandwidth: '150' KBs\n",
      "2018-03-11 17:38:34,253 root   DEBUG    =================================\n"
     ]
    },
    {
     "name": "stdout",
     "output_type": "stream",
     "text": [
      "RR Status 200\n"
     ]
    },
    {
     "name": "stderr",
     "output_type": "stream",
     "text": [
      "2018-03-11 17:38:34,824 http_request_randomizer.requests.parsers.FreeProxyParser DEBUG    Proxy Invalid: <zip object at 0x105b5c208>\n",
      "2018-03-11 17:38:35,092 http_request_randomizer.requests.parsers.ProxyForEuParser DEBUG    Proxy with low bandwidth: 0.178\n",
      "2018-03-11 17:38:35,093 http_request_randomizer.requests.parsers.ProxyForEuParser DEBUG    Proxy Invalid: <zip object at 0x104beab48>\n",
      "2018-03-11 17:38:35,094 http_request_randomizer.requests.parsers.ProxyForEuParser DEBUG    Proxy with low bandwidth: 0.435\n",
      "2018-03-11 17:38:35,095 http_request_randomizer.requests.parsers.ProxyForEuParser DEBUG    Proxy Invalid: <zip object at 0x104be1088>\n",
      "2018-03-11 17:38:35,097 http_request_randomizer.requests.parsers.ProxyForEuParser DEBUG    Proxy with low bandwidth: 0.361\n",
      "2018-03-11 17:38:35,097 http_request_randomizer.requests.parsers.ProxyForEuParser DEBUG    Proxy Invalid: <zip object at 0x104be1408>\n",
      "2018-03-11 17:38:35,337 http_request_randomizer.requests.parsers.RebroWeeblyParser WARNING  Proxy Provider url failed: http://rebro.weebly.com\n",
      "2018-03-11 17:38:35,800 http_request_randomizer.requests.parsers.SamairProxyParser WARNING  Proxy Provider url failed: https://premproxy.com/list/\n",
      "2018-03-11 17:38:35,801 http_request_randomizer.requests.parsers.SamairProxyParser DEBUG    Pages: set()\n",
      "2018-03-11 17:38:35,820 root   DEBUG    Using headers: {'Connection': 'close', 'User-Agent': 'Mozilla/5.0 (Windows; U; Windows NT 5.1; en-GB; rv:1.9.1.16) Gecko/20101130 Firefox/3.5.16 GTB7.1 (.NET CLR 3.5.30729'}\n",
      "2018-03-11 17:38:35,821 root   DEBUG    Using proxy: 112.211.247.156:8080 | FreeProxy\n",
      "2018-03-11 17:38:36,329 root   DEBUG    === Initialized Proxy Parsers ===\n",
      "2018-03-11 17:38:36,330 root   DEBUG    \t FreeProxy Parser of 'http://free-proxy-list.net' with required bandwidth: '150' KBs\n",
      "2018-03-11 17:38:36,330 root   DEBUG    \t ProxyForEU Parser of 'http://proxyfor.eu/geo.php' with required bandwidth: '1.0' KBs\n",
      "2018-03-11 17:38:36,331 root   DEBUG    \t RebroWeebly Parser of 'http://rebro.weebly.com' with required bandwidth: '150' KBs\n",
      "2018-03-11 17:38:36,332 root   DEBUG    \t SemairProxy Parser of 'https://premproxy.com/list/' with required bandwidth: '150' KBs\n",
      "2018-03-11 17:38:36,333 root   DEBUG    =================================\n"
     ]
    },
    {
     "name": "stdout",
     "output_type": "stream",
     "text": [
      "RR Status 200\n"
     ]
    },
    {
     "name": "stderr",
     "output_type": "stream",
     "text": [
      "2018-03-11 17:38:36,871 http_request_randomizer.requests.parsers.FreeProxyParser DEBUG    Proxy Invalid: <zip object at 0x106240e48>\n",
      "2018-03-11 17:38:37,180 http_request_randomizer.requests.parsers.ProxyForEuParser DEBUG    Proxy with low bandwidth: 0.178\n",
      "2018-03-11 17:38:37,180 http_request_randomizer.requests.parsers.ProxyForEuParser DEBUG    Proxy Invalid: <zip object at 0x105ee2308>\n",
      "2018-03-11 17:38:37,181 http_request_randomizer.requests.parsers.ProxyForEuParser DEBUG    Proxy with low bandwidth: 0.435\n",
      "2018-03-11 17:38:37,182 http_request_randomizer.requests.parsers.ProxyForEuParser DEBUG    Proxy Invalid: <zip object at 0x104ce7c48>\n",
      "2018-03-11 17:38:37,183 http_request_randomizer.requests.parsers.ProxyForEuParser DEBUG    Proxy with low bandwidth: 0.361\n",
      "2018-03-11 17:38:37,185 http_request_randomizer.requests.parsers.ProxyForEuParser DEBUG    Proxy Invalid: <zip object at 0x104ce7488>\n",
      "2018-03-11 17:38:37,392 http_request_randomizer.requests.parsers.RebroWeeblyParser WARNING  Proxy Provider url failed: http://rebro.weebly.com\n",
      "2018-03-11 17:38:38,045 http_request_randomizer.requests.parsers.SamairProxyParser WARNING  Proxy Provider url failed: https://premproxy.com/list/\n",
      "2018-03-11 17:38:38,046 http_request_randomizer.requests.parsers.SamairProxyParser DEBUG    Pages: set()\n",
      "2018-03-11 17:38:38,067 root   DEBUG    Using headers: {'Connection': 'close', 'User-Agent': 'Mozilla/5.0 (X11; Linux x86_64) AppleWebKit/534.24 (KHTML, like Gecko) Chrome/11.0.696.34 Safari/534.2'}\n",
      "2018-03-11 17:38:38,068 root   DEBUG    Using proxy: 113.203.238.180:8080 | FreeProxy\n",
      "2018-03-11 17:38:38,638 root   DEBUG    === Initialized Proxy Parsers ===\n",
      "2018-03-11 17:38:38,639 root   DEBUG    \t FreeProxy Parser of 'http://free-proxy-list.net' with required bandwidth: '150' KBs\n",
      "2018-03-11 17:38:38,640 root   DEBUG    \t ProxyForEU Parser of 'http://proxyfor.eu/geo.php' with required bandwidth: '1.0' KBs\n",
      "2018-03-11 17:38:38,640 root   DEBUG    \t RebroWeebly Parser of 'http://rebro.weebly.com' with required bandwidth: '150' KBs\n",
      "2018-03-11 17:38:38,641 root   DEBUG    \t SemairProxy Parser of 'https://premproxy.com/list/' with required bandwidth: '150' KBs\n",
      "2018-03-11 17:38:38,642 root   DEBUG    =================================\n"
     ]
    },
    {
     "name": "stdout",
     "output_type": "stream",
     "text": [
      "RR Status 200\n"
     ]
    },
    {
     "name": "stderr",
     "output_type": "stream",
     "text": [
      "2018-03-11 17:38:39,233 http_request_randomizer.requests.parsers.FreeProxyParser DEBUG    Proxy Invalid: <zip object at 0x10377a188>\n",
      "2018-03-11 17:38:39,640 http_request_randomizer.requests.parsers.ProxyForEuParser DEBUG    Proxy with low bandwidth: 0.178\n",
      "2018-03-11 17:38:39,641 http_request_randomizer.requests.parsers.ProxyForEuParser DEBUG    Proxy Invalid: <zip object at 0x104fe0f48>\n",
      "2018-03-11 17:38:39,642 http_request_randomizer.requests.parsers.ProxyForEuParser DEBUG    Proxy with low bandwidth: 0.435\n",
      "2018-03-11 17:38:39,643 http_request_randomizer.requests.parsers.ProxyForEuParser DEBUG    Proxy Invalid: <zip object at 0x104fd3c08>\n",
      "2018-03-11 17:38:39,644 http_request_randomizer.requests.parsers.ProxyForEuParser DEBUG    Proxy with low bandwidth: 0.361\n",
      "2018-03-11 17:38:39,645 http_request_randomizer.requests.parsers.ProxyForEuParser DEBUG    Proxy Invalid: <zip object at 0x104fd3988>\n",
      "2018-03-11 17:38:39,982 http_request_randomizer.requests.parsers.RebroWeeblyParser WARNING  Proxy Provider url failed: http://rebro.weebly.com\n",
      "2018-03-11 17:38:41,140 http_request_randomizer.requests.parsers.SamairProxyParser WARNING  Proxy Provider url failed: https://premproxy.com/list/\n",
      "2018-03-11 17:38:41,141 http_request_randomizer.requests.parsers.SamairProxyParser DEBUG    Pages: set()\n",
      "2018-03-11 17:38:41,165 root   DEBUG    Using headers: {'Connection': 'close', 'User-Agent': 'Mozilla/5.0 (Windows; U; Windows NT 5.1; en-GB; rv:1.9.1b4) Gecko/20090423 Firefox/3.5b'}\n",
      "2018-03-11 17:38:41,166 root   DEBUG    Using proxy: 47.91.223.245:80 | FreeProxy\n",
      "2018-03-11 17:38:42,105 root   DEBUG    === Initialized Proxy Parsers ===\n",
      "2018-03-11 17:38:42,106 root   DEBUG    \t FreeProxy Parser of 'http://free-proxy-list.net' with required bandwidth: '150' KBs\n",
      "2018-03-11 17:38:42,107 root   DEBUG    \t ProxyForEU Parser of 'http://proxyfor.eu/geo.php' with required bandwidth: '1.0' KBs\n",
      "2018-03-11 17:38:42,108 root   DEBUG    \t RebroWeebly Parser of 'http://rebro.weebly.com' with required bandwidth: '150' KBs\n",
      "2018-03-11 17:38:42,109 root   DEBUG    \t SemairProxy Parser of 'https://premproxy.com/list/' with required bandwidth: '150' KBs\n",
      "2018-03-11 17:38:42,110 root   DEBUG    =================================\n"
     ]
    },
    {
     "name": "stdout",
     "output_type": "stream",
     "text": [
      "RR Status 200\n"
     ]
    },
    {
     "name": "stderr",
     "output_type": "stream",
     "text": [
      "2018-03-11 17:38:42,813 http_request_randomizer.requests.parsers.FreeProxyParser DEBUG    Proxy Invalid: <zip object at 0x1058e86c8>\n",
      "2018-03-11 17:38:43,092 http_request_randomizer.requests.parsers.ProxyForEuParser DEBUG    Proxy with low bandwidth: 0.178\n",
      "2018-03-11 17:38:43,093 http_request_randomizer.requests.parsers.ProxyForEuParser DEBUG    Proxy Invalid: <zip object at 0x1049bb0c8>\n",
      "2018-03-11 17:38:43,094 http_request_randomizer.requests.parsers.ProxyForEuParser DEBUG    Proxy with low bandwidth: 0.435\n",
      "2018-03-11 17:38:43,095 http_request_randomizer.requests.parsers.ProxyForEuParser DEBUG    Proxy Invalid: <zip object at 0x1049bb5c8>\n",
      "2018-03-11 17:38:43,096 http_request_randomizer.requests.parsers.ProxyForEuParser DEBUG    Proxy with low bandwidth: 0.361\n",
      "2018-03-11 17:38:43,097 http_request_randomizer.requests.parsers.ProxyForEuParser DEBUG    Proxy Invalid: <zip object at 0x1049bb948>\n",
      "2018-03-11 17:38:43,334 http_request_randomizer.requests.parsers.RebroWeeblyParser WARNING  Proxy Provider url failed: http://rebro.weebly.com\n",
      "2018-03-11 17:38:43,930 http_request_randomizer.requests.parsers.SamairProxyParser WARNING  Proxy Provider url failed: https://premproxy.com/list/\n",
      "2018-03-11 17:38:43,931 http_request_randomizer.requests.parsers.SamairProxyParser DEBUG    Pages: set()\n",
      "2018-03-11 17:38:43,957 root   DEBUG    Using headers: {'Connection': 'close', 'User-Agent': 'Mozilla/5.0 (Windows; U; Windows NT 5.2; en-US) AppleWebKit/533.17.8 (KHTML, like Gecko) Version/5.0.1 Safari/533.17.'}\n",
      "2018-03-11 17:38:43,958 root   DEBUG    Using proxy: 178.140.38.133:8081 | FreeProxy\n",
      "2018-03-11 17:38:44,567 root   DEBUG    === Initialized Proxy Parsers ===\n",
      "2018-03-11 17:38:44,568 root   DEBUG    \t FreeProxy Parser of 'http://free-proxy-list.net' with required bandwidth: '150' KBs\n",
      "2018-03-11 17:38:44,569 root   DEBUG    \t ProxyForEU Parser of 'http://proxyfor.eu/geo.php' with required bandwidth: '1.0' KBs\n",
      "2018-03-11 17:38:44,570 root   DEBUG    \t RebroWeebly Parser of 'http://rebro.weebly.com' with required bandwidth: '150' KBs\n",
      "2018-03-11 17:38:44,572 root   DEBUG    \t SemairProxy Parser of 'https://premproxy.com/list/' with required bandwidth: '150' KBs\n",
      "2018-03-11 17:38:44,573 root   DEBUG    =================================\n"
     ]
    },
    {
     "name": "stdout",
     "output_type": "stream",
     "text": [
      "RR Status 200\n"
     ]
    },
    {
     "name": "stderr",
     "output_type": "stream",
     "text": [
      "2018-03-11 17:38:45,107 http_request_randomizer.requests.parsers.FreeProxyParser DEBUG    Proxy Invalid: <zip object at 0x105cca408>\n",
      "2018-03-11 17:38:45,374 http_request_randomizer.requests.parsers.ProxyForEuParser DEBUG    Proxy with low bandwidth: 0.178\n",
      "2018-03-11 17:38:45,375 http_request_randomizer.requests.parsers.ProxyForEuParser DEBUG    Proxy Invalid: <zip object at 0x105d1bd88>\n",
      "2018-03-11 17:38:45,376 http_request_randomizer.requests.parsers.ProxyForEuParser DEBUG    Proxy with low bandwidth: 0.435\n",
      "2018-03-11 17:38:45,376 http_request_randomizer.requests.parsers.ProxyForEuParser DEBUG    Proxy Invalid: <zip object at 0x105d212c8>\n",
      "2018-03-11 17:38:45,378 http_request_randomizer.requests.parsers.ProxyForEuParser DEBUG    Proxy with low bandwidth: 0.361\n",
      "2018-03-11 17:38:45,378 http_request_randomizer.requests.parsers.ProxyForEuParser DEBUG    Proxy Invalid: <zip object at 0x105d21648>\n",
      "2018-03-11 17:38:45,592 http_request_randomizer.requests.parsers.RebroWeeblyParser WARNING  Proxy Provider url failed: http://rebro.weebly.com\n",
      "2018-03-11 17:38:46,046 http_request_randomizer.requests.parsers.SamairProxyParser WARNING  Proxy Provider url failed: https://premproxy.com/list/\n",
      "2018-03-11 17:38:46,047 http_request_randomizer.requests.parsers.SamairProxyParser DEBUG    Pages: set()\n",
      "2018-03-11 17:38:46,072 root   DEBUG    Using headers: {'Connection': 'close', 'User-Agent': 'Mozilla/5.0 (Windows; U; Windows NT 6.1; es-ES; rv:1.9.2.3) Gecko/20100401 Firefox/3.6.3 GTB7.0 ( .NET CLR 3.5.30729'}\n",
      "2018-03-11 17:38:46,073 root   DEBUG    Using proxy: 66.82.123.234:8080 | FreeProxy\n",
      "2018-03-11 17:38:46,675 root   DEBUG    === Initialized Proxy Parsers ===\n",
      "2018-03-11 17:38:46,676 root   DEBUG    \t FreeProxy Parser of 'http://free-proxy-list.net' with required bandwidth: '150' KBs\n",
      "2018-03-11 17:38:46,677 root   DEBUG    \t ProxyForEU Parser of 'http://proxyfor.eu/geo.php' with required bandwidth: '1.0' KBs\n",
      "2018-03-11 17:38:46,678 root   DEBUG    \t RebroWeebly Parser of 'http://rebro.weebly.com' with required bandwidth: '150' KBs\n",
      "2018-03-11 17:38:46,678 root   DEBUG    \t SemairProxy Parser of 'https://premproxy.com/list/' with required bandwidth: '150' KBs\n",
      "2018-03-11 17:38:46,680 root   DEBUG    =================================\n"
     ]
    },
    {
     "name": "stdout",
     "output_type": "stream",
     "text": [
      "RR Status 200\n"
     ]
    },
    {
     "name": "stderr",
     "output_type": "stream",
     "text": [
      "2018-03-11 17:38:47,307 http_request_randomizer.requests.parsers.FreeProxyParser DEBUG    Proxy Invalid: <zip object at 0x104f53088>\n",
      "2018-03-11 17:38:47,601 http_request_randomizer.requests.parsers.ProxyForEuParser DEBUG    Proxy with low bandwidth: 0.178\n",
      "2018-03-11 17:38:47,602 http_request_randomizer.requests.parsers.ProxyForEuParser DEBUG    Proxy Invalid: <zip object at 0x104eef908>\n",
      "2018-03-11 17:38:47,603 http_request_randomizer.requests.parsers.ProxyForEuParser DEBUG    Proxy with low bandwidth: 0.435\n",
      "2018-03-11 17:38:47,604 http_request_randomizer.requests.parsers.ProxyForEuParser DEBUG    Proxy Invalid: <zip object at 0x104eefbc8>\n",
      "2018-03-11 17:38:47,605 http_request_randomizer.requests.parsers.ProxyForEuParser DEBUG    Proxy with low bandwidth: 0.361\n",
      "2018-03-11 17:38:47,606 http_request_randomizer.requests.parsers.ProxyForEuParser DEBUG    Proxy Invalid: <zip object at 0x104ce7d08>\n",
      "2018-03-11 17:38:47,826 http_request_randomizer.requests.parsers.RebroWeeblyParser WARNING  Proxy Provider url failed: http://rebro.weebly.com\n",
      "2018-03-11 17:38:48,274 http_request_randomizer.requests.parsers.SamairProxyParser WARNING  Proxy Provider url failed: https://premproxy.com/list/\n",
      "2018-03-11 17:38:48,275 http_request_randomizer.requests.parsers.SamairProxyParser DEBUG    Pages: set()\n",
      "2018-03-11 17:38:48,300 root   DEBUG    Using headers: {'Connection': 'close', 'User-Agent': 'Mozilla/5.0 (Macintosh; U; PPC Mac OS X 10_5_8; en-us) AppleWebKit/532.0+ (KHTML, like Gecko) Version/4.0.3 Safari/531.'}\n",
      "2018-03-11 17:38:48,301 root   DEBUG    Using proxy: 61.6.157.3:53281 | FreeProxy\n",
      "2018-03-11 17:38:48,808 root   DEBUG    === Initialized Proxy Parsers ===\n",
      "2018-03-11 17:38:48,809 root   DEBUG    \t FreeProxy Parser of 'http://free-proxy-list.net' with required bandwidth: '150' KBs\n",
      "2018-03-11 17:38:48,809 root   DEBUG    \t ProxyForEU Parser of 'http://proxyfor.eu/geo.php' with required bandwidth: '1.0' KBs\n",
      "2018-03-11 17:38:48,810 root   DEBUG    \t RebroWeebly Parser of 'http://rebro.weebly.com' with required bandwidth: '150' KBs\n",
      "2018-03-11 17:38:48,811 root   DEBUG    \t SemairProxy Parser of 'https://premproxy.com/list/' with required bandwidth: '150' KBs\n",
      "2018-03-11 17:38:48,812 root   DEBUG    =================================\n"
     ]
    },
    {
     "name": "stdout",
     "output_type": "stream",
     "text": [
      "RR Status 200\n"
     ]
    },
    {
     "name": "stderr",
     "output_type": "stream",
     "text": [
      "2018-03-11 17:38:49,312 http_request_randomizer.requests.parsers.FreeProxyParser DEBUG    Proxy Invalid: <zip object at 0x1056751c8>\n",
      "2018-03-11 17:38:49,576 http_request_randomizer.requests.parsers.ProxyForEuParser DEBUG    Proxy with low bandwidth: 0.178\n",
      "2018-03-11 17:38:49,577 http_request_randomizer.requests.parsers.ProxyForEuParser DEBUG    Proxy Invalid: <zip object at 0x1053c2b08>\n",
      "2018-03-11 17:38:49,578 http_request_randomizer.requests.parsers.ProxyForEuParser DEBUG    Proxy with low bandwidth: 0.435\n",
      "2018-03-11 17:38:49,579 http_request_randomizer.requests.parsers.ProxyForEuParser DEBUG    Proxy Invalid: <zip object at 0x1053d7048>\n",
      "2018-03-11 17:38:49,580 http_request_randomizer.requests.parsers.ProxyForEuParser DEBUG    Proxy with low bandwidth: 0.361\n",
      "2018-03-11 17:38:49,580 http_request_randomizer.requests.parsers.ProxyForEuParser DEBUG    Proxy Invalid: <zip object at 0x1053d73c8>\n",
      "2018-03-11 17:38:49,791 http_request_randomizer.requests.parsers.RebroWeeblyParser WARNING  Proxy Provider url failed: http://rebro.weebly.com\n",
      "2018-03-11 17:38:50,233 http_request_randomizer.requests.parsers.SamairProxyParser WARNING  Proxy Provider url failed: https://premproxy.com/list/\n",
      "2018-03-11 17:38:50,234 http_request_randomizer.requests.parsers.SamairProxyParser DEBUG    Pages: set()\n",
      "2018-03-11 17:38:50,258 root   DEBUG    Using headers: {'Connection': 'close', 'User-Agent': 'Mozilla/5.0 (Macintosh; U; Intel Mac OS X 10_6_4; en-US) AppleWebKit/534.16 (KHTML, like Gecko) Chrome/10.0.648.0 Safari/534.1'}\n",
      "2018-03-11 17:38:50,259 root   DEBUG    Using proxy: 194.182.64.67:3128 | FreeProxy\n",
      "2018-03-11 17:38:50,872 root   DEBUG    === Initialized Proxy Parsers ===\n",
      "2018-03-11 17:38:50,872 root   DEBUG    \t FreeProxy Parser of 'http://free-proxy-list.net' with required bandwidth: '150' KBs\n",
      "2018-03-11 17:38:50,873 root   DEBUG    \t ProxyForEU Parser of 'http://proxyfor.eu/geo.php' with required bandwidth: '1.0' KBs\n",
      "2018-03-11 17:38:50,874 root   DEBUG    \t RebroWeebly Parser of 'http://rebro.weebly.com' with required bandwidth: '150' KBs\n",
      "2018-03-11 17:38:50,875 root   DEBUG    \t SemairProxy Parser of 'https://premproxy.com/list/' with required bandwidth: '150' KBs\n",
      "2018-03-11 17:38:50,876 root   DEBUG    =================================\n"
     ]
    },
    {
     "name": "stdout",
     "output_type": "stream",
     "text": [
      "RR Status 200\n"
     ]
    },
    {
     "name": "stderr",
     "output_type": "stream",
     "text": [
      "2018-03-11 17:38:51,430 http_request_randomizer.requests.parsers.FreeProxyParser DEBUG    Proxy Invalid: <zip object at 0x1050be908>\n",
      "2018-03-11 17:38:51,685 http_request_randomizer.requests.parsers.ProxyForEuParser DEBUG    Proxy with low bandwidth: 0.178\n",
      "2018-03-11 17:38:51,686 http_request_randomizer.requests.parsers.ProxyForEuParser DEBUG    Proxy Invalid: <zip object at 0x106104188>\n",
      "2018-03-11 17:38:51,687 http_request_randomizer.requests.parsers.ProxyForEuParser DEBUG    Proxy with low bandwidth: 0.435\n",
      "2018-03-11 17:38:51,688 http_request_randomizer.requests.parsers.ProxyForEuParser DEBUG    Proxy Invalid: <zip object at 0x106104688>\n",
      "2018-03-11 17:38:51,689 http_request_randomizer.requests.parsers.ProxyForEuParser DEBUG    Proxy with low bandwidth: 0.361\n",
      "2018-03-11 17:38:51,690 http_request_randomizer.requests.parsers.ProxyForEuParser DEBUG    Proxy Invalid: <zip object at 0x106104a08>\n",
      "2018-03-11 17:38:51,906 http_request_randomizer.requests.parsers.RebroWeeblyParser WARNING  Proxy Provider url failed: http://rebro.weebly.com\n",
      "2018-03-11 17:38:52,432 http_request_randomizer.requests.parsers.SamairProxyParser WARNING  Proxy Provider url failed: https://premproxy.com/list/\n",
      "2018-03-11 17:38:52,433 http_request_randomizer.requests.parsers.SamairProxyParser DEBUG    Pages: set()\n",
      "2018-03-11 17:38:52,466 root   DEBUG    Using headers: {'Connection': 'close', 'User-Agent': 'Mozilla/5.0 (X11; U; Linux x86_64; en-US; rv:1.9.2) Gecko/20100130 Gentoo Firefox/3.'}\n",
      "2018-03-11 17:38:52,467 root   DEBUG    Using proxy: 72.214.90.134:80 | FreeProxy\n",
      "2018-03-11 17:38:53,290 root   DEBUG    === Initialized Proxy Parsers ===\n",
      "2018-03-11 17:38:53,291 root   DEBUG    \t FreeProxy Parser of 'http://free-proxy-list.net' with required bandwidth: '150' KBs\n",
      "2018-03-11 17:38:53,291 root   DEBUG    \t ProxyForEU Parser of 'http://proxyfor.eu/geo.php' with required bandwidth: '1.0' KBs\n",
      "2018-03-11 17:38:53,293 root   DEBUG    \t RebroWeebly Parser of 'http://rebro.weebly.com' with required bandwidth: '150' KBs\n",
      "2018-03-11 17:38:53,294 root   DEBUG    \t SemairProxy Parser of 'https://premproxy.com/list/' with required bandwidth: '150' KBs\n",
      "2018-03-11 17:38:53,294 root   DEBUG    =================================\n"
     ]
    },
    {
     "name": "stdout",
     "output_type": "stream",
     "text": [
      "RR Status 200\n"
     ]
    },
    {
     "name": "stderr",
     "output_type": "stream",
     "text": [
      "2018-03-11 17:38:53,950 http_request_randomizer.requests.parsers.FreeProxyParser DEBUG    Proxy Invalid: <zip object at 0x1056b0e88>\n",
      "2018-03-11 17:38:54,305 http_request_randomizer.requests.parsers.ProxyForEuParser DEBUG    Proxy with low bandwidth: 0.178\n",
      "2018-03-11 17:38:54,306 http_request_randomizer.requests.parsers.ProxyForEuParser DEBUG    Proxy Invalid: <zip object at 0x105b2ba88>\n",
      "2018-03-11 17:38:54,307 http_request_randomizer.requests.parsers.ProxyForEuParser DEBUG    Proxy with low bandwidth: 0.435\n",
      "2018-03-11 17:38:54,308 http_request_randomizer.requests.parsers.ProxyForEuParser DEBUG    Proxy Invalid: <zip object at 0x105a3d2c8>\n",
      "2018-03-11 17:38:54,309 http_request_randomizer.requests.parsers.ProxyForEuParser DEBUG    Proxy with low bandwidth: 0.361\n",
      "2018-03-11 17:38:54,310 http_request_randomizer.requests.parsers.ProxyForEuParser DEBUG    Proxy Invalid: <zip object at 0x1055f22c8>\n",
      "2018-03-11 17:38:54,527 http_request_randomizer.requests.parsers.RebroWeeblyParser WARNING  Proxy Provider url failed: http://rebro.weebly.com\n",
      "2018-03-11 17:38:55,173 http_request_randomizer.requests.parsers.SamairProxyParser WARNING  Proxy Provider url failed: https://premproxy.com/list/\n",
      "2018-03-11 17:38:55,174 http_request_randomizer.requests.parsers.SamairProxyParser DEBUG    Pages: set()\n",
      "2018-03-11 17:38:55,200 root   DEBUG    Using headers: {'Connection': 'close', 'User-Agent': 'Mozilla/5.0 (Windows NT 5.1) AppleWebKit/534.25 (KHTML, like Gecko) Chrome/12.0.706.0 Safari/534.2'}\n",
      "2018-03-11 17:38:55,201 root   DEBUG    Using proxy: 119.42.70.214:8080 | FreeProxy\n",
      "2018-03-11 17:38:55,773 root   DEBUG    === Initialized Proxy Parsers ===\n",
      "2018-03-11 17:38:55,773 root   DEBUG    \t FreeProxy Parser of 'http://free-proxy-list.net' with required bandwidth: '150' KBs\n",
      "2018-03-11 17:38:55,774 root   DEBUG    \t ProxyForEU Parser of 'http://proxyfor.eu/geo.php' with required bandwidth: '1.0' KBs\n",
      "2018-03-11 17:38:55,775 root   DEBUG    \t RebroWeebly Parser of 'http://rebro.weebly.com' with required bandwidth: '150' KBs\n",
      "2018-03-11 17:38:55,776 root   DEBUG    \t SemairProxy Parser of 'https://premproxy.com/list/' with required bandwidth: '150' KBs\n",
      "2018-03-11 17:38:55,777 root   DEBUG    =================================\n"
     ]
    },
    {
     "name": "stdout",
     "output_type": "stream",
     "text": [
      "RR Status 200\n"
     ]
    },
    {
     "name": "stderr",
     "output_type": "stream",
     "text": [
      "2018-03-11 17:38:56,283 http_request_randomizer.requests.parsers.FreeProxyParser DEBUG    Proxy Invalid: <zip object at 0x1055733c8>\n",
      "2018-03-11 17:38:56,575 http_request_randomizer.requests.parsers.ProxyForEuParser DEBUG    Proxy with low bandwidth: 0.178\n",
      "2018-03-11 17:38:56,576 http_request_randomizer.requests.parsers.ProxyForEuParser DEBUG    Proxy Invalid: <zip object at 0x104854d08>\n",
      "2018-03-11 17:38:56,577 http_request_randomizer.requests.parsers.ProxyForEuParser DEBUG    Proxy with low bandwidth: 0.435\n",
      "2018-03-11 17:38:56,579 http_request_randomizer.requests.parsers.ProxyForEuParser DEBUG    Proxy Invalid: <zip object at 0x10484b248>\n",
      "2018-03-11 17:38:56,580 http_request_randomizer.requests.parsers.ProxyForEuParser DEBUG    Proxy with low bandwidth: 0.361\n",
      "2018-03-11 17:38:56,581 http_request_randomizer.requests.parsers.ProxyForEuParser DEBUG    Proxy Invalid: <zip object at 0x10484b5c8>\n",
      "2018-03-11 17:38:56,805 http_request_randomizer.requests.parsers.RebroWeeblyParser WARNING  Proxy Provider url failed: http://rebro.weebly.com\n",
      "2018-03-11 17:38:57,260 http_request_randomizer.requests.parsers.SamairProxyParser WARNING  Proxy Provider url failed: https://premproxy.com/list/\n",
      "2018-03-11 17:38:57,261 http_request_randomizer.requests.parsers.SamairProxyParser DEBUG    Pages: set()\n",
      "2018-03-11 17:38:57,288 root   DEBUG    Using headers: {'Connection': 'close', 'User-Agent': 'Mozilla/5.0 (Windows; U; Windows NT 6.0; en-GB; rv:1.9.1.1) Gecko/20090715 Firefox/3.5.1 GTB5 (.NET CLR 4.0.20506'}\n",
      "2018-03-11 17:38:57,289 root   DEBUG    Using proxy: 159.224.176.205:53281 | FreeProxy\n",
      "2018-03-11 17:38:57,851 root   DEBUG    === Initialized Proxy Parsers ===\n",
      "2018-03-11 17:38:57,852 root   DEBUG    \t FreeProxy Parser of 'http://free-proxy-list.net' with required bandwidth: '150' KBs\n",
      "2018-03-11 17:38:57,852 root   DEBUG    \t ProxyForEU Parser of 'http://proxyfor.eu/geo.php' with required bandwidth: '1.0' KBs\n",
      "2018-03-11 17:38:57,853 root   DEBUG    \t RebroWeebly Parser of 'http://rebro.weebly.com' with required bandwidth: '150' KBs\n",
      "2018-03-11 17:38:57,854 root   DEBUG    \t SemairProxy Parser of 'https://premproxy.com/list/' with required bandwidth: '150' KBs\n",
      "2018-03-11 17:38:57,854 root   DEBUG    =================================\n"
     ]
    },
    {
     "name": "stdout",
     "output_type": "stream",
     "text": [
      "RR Status 200\n"
     ]
    },
    {
     "name": "stderr",
     "output_type": "stream",
     "text": [
      "2018-03-11 17:38:58,362 http_request_randomizer.requests.parsers.FreeProxyParser DEBUG    Proxy Invalid: <zip object at 0x1050cd848>\n",
      "2018-03-11 17:38:58,650 http_request_randomizer.requests.parsers.ProxyForEuParser DEBUG    Proxy with low bandwidth: 0.178\n",
      "2018-03-11 17:38:58,651 http_request_randomizer.requests.parsers.ProxyForEuParser DEBUG    Proxy Invalid: <zip object at 0x105c07288>\n",
      "2018-03-11 17:38:58,652 http_request_randomizer.requests.parsers.ProxyForEuParser DEBUG    Proxy with low bandwidth: 0.435\n",
      "2018-03-11 17:38:58,653 http_request_randomizer.requests.parsers.ProxyForEuParser DEBUG    Proxy Invalid: <zip object at 0x105c07788>\n",
      "2018-03-11 17:38:58,654 http_request_randomizer.requests.parsers.ProxyForEuParser DEBUG    Proxy with low bandwidth: 0.361\n",
      "2018-03-11 17:38:58,655 http_request_randomizer.requests.parsers.ProxyForEuParser DEBUG    Proxy Invalid: <zip object at 0x105c07b08>\n",
      "2018-03-11 17:38:58,913 http_request_randomizer.requests.parsers.RebroWeeblyParser WARNING  Proxy Provider url failed: http://rebro.weebly.com\n",
      "2018-03-11 17:38:59,444 http_request_randomizer.requests.parsers.SamairProxyParser WARNING  Proxy Provider url failed: https://premproxy.com/list/\n",
      "2018-03-11 17:38:59,446 http_request_randomizer.requests.parsers.SamairProxyParser DEBUG    Pages: set()\n",
      "2018-03-11 17:38:59,479 root   DEBUG    Using headers: {'Connection': 'close', 'User-Agent': 'Mozilla/5.0 (Macintosh; Intel Mac OS X 10_6_6) AppleWebKit/534.24 (KHTML, like Gecko) Chrome/11.0.696.12 Safari/534.2'}\n",
      "2018-03-11 17:38:59,480 root   DEBUG    Using proxy: 60.54.120.175:3128 | FreeProxy\n",
      "2018-03-11 17:39:00,103 root   DEBUG    === Initialized Proxy Parsers ===\n",
      "2018-03-11 17:39:00,103 root   DEBUG    \t FreeProxy Parser of 'http://free-proxy-list.net' with required bandwidth: '150' KBs\n",
      "2018-03-11 17:39:00,104 root   DEBUG    \t ProxyForEU Parser of 'http://proxyfor.eu/geo.php' with required bandwidth: '1.0' KBs\n",
      "2018-03-11 17:39:00,105 root   DEBUG    \t RebroWeebly Parser of 'http://rebro.weebly.com' with required bandwidth: '150' KBs\n",
      "2018-03-11 17:39:00,106 root   DEBUG    \t SemairProxy Parser of 'https://premproxy.com/list/' with required bandwidth: '150' KBs\n",
      "2018-03-11 17:39:00,107 root   DEBUG    =================================\n"
     ]
    },
    {
     "name": "stdout",
     "output_type": "stream",
     "text": [
      "RR Status 200\n"
     ]
    },
    {
     "name": "stderr",
     "output_type": "stream",
     "text": [
      "2018-03-11 17:39:00,726 http_request_randomizer.requests.parsers.FreeProxyParser DEBUG    Proxy Invalid: <zip object at 0x1062279c8>\n",
      "2018-03-11 17:39:00,976 http_request_randomizer.requests.parsers.ProxyForEuParser DEBUG    Proxy with low bandwidth: 0.178\n",
      "2018-03-11 17:39:00,977 http_request_randomizer.requests.parsers.ProxyForEuParser DEBUG    Proxy Invalid: <zip object at 0x104cd9c88>\n",
      "2018-03-11 17:39:00,978 http_request_randomizer.requests.parsers.ProxyForEuParser DEBUG    Proxy with low bandwidth: 0.435\n",
      "2018-03-11 17:39:00,979 http_request_randomizer.requests.parsers.ProxyForEuParser DEBUG    Proxy Invalid: <zip object at 0x104cd9188>\n",
      "2018-03-11 17:39:00,980 http_request_randomizer.requests.parsers.ProxyForEuParser DEBUG    Proxy with low bandwidth: 0.361\n",
      "2018-03-11 17:39:00,981 http_request_randomizer.requests.parsers.ProxyForEuParser DEBUG    Proxy Invalid: <zip object at 0x104cd9508>\n",
      "2018-03-11 17:39:01,194 http_request_randomizer.requests.parsers.RebroWeeblyParser WARNING  Proxy Provider url failed: http://rebro.weebly.com\n",
      "2018-03-11 17:39:01,653 http_request_randomizer.requests.parsers.SamairProxyParser WARNING  Proxy Provider url failed: https://premproxy.com/list/\n",
      "2018-03-11 17:39:01,654 http_request_randomizer.requests.parsers.SamairProxyParser DEBUG    Pages: set()\n",
      "2018-03-11 17:39:01,677 root   DEBUG    Using headers: {'Connection': 'close', 'User-Agent': 'Mozilla/5.0 (Windows; U; Windows NT 6.1; de; rv:1.9.2.3) Gecko/20121221 Firefox/3.6.'}\n",
      "2018-03-11 17:39:01,678 root   DEBUG    Using proxy: 54.211.60.168:80 | FreeProxy\n",
      "2018-03-11 17:39:02,227 root   DEBUG    === Initialized Proxy Parsers ===\n",
      "2018-03-11 17:39:02,228 root   DEBUG    \t FreeProxy Parser of 'http://free-proxy-list.net' with required bandwidth: '150' KBs\n",
      "2018-03-11 17:39:02,228 root   DEBUG    \t ProxyForEU Parser of 'http://proxyfor.eu/geo.php' with required bandwidth: '1.0' KBs\n",
      "2018-03-11 17:39:02,229 root   DEBUG    \t RebroWeebly Parser of 'http://rebro.weebly.com' with required bandwidth: '150' KBs\n",
      "2018-03-11 17:39:02,230 root   DEBUG    \t SemairProxy Parser of 'https://premproxy.com/list/' with required bandwidth: '150' KBs\n",
      "2018-03-11 17:39:02,230 root   DEBUG    =================================\n"
     ]
    },
    {
     "name": "stdout",
     "output_type": "stream",
     "text": [
      "RR Status 200\n"
     ]
    },
    {
     "name": "stderr",
     "output_type": "stream",
     "text": [
      "2018-03-11 17:39:02,840 http_request_randomizer.requests.parsers.FreeProxyParser DEBUG    Proxy Invalid: <zip object at 0x10543c0c8>\n",
      "2018-03-11 17:39:03,101 http_request_randomizer.requests.parsers.ProxyForEuParser DEBUG    Proxy with low bandwidth: 0.178\n",
      "2018-03-11 17:39:03,102 http_request_randomizer.requests.parsers.ProxyForEuParser DEBUG    Proxy Invalid: <zip object at 0x10486d888>\n",
      "2018-03-11 17:39:03,103 http_request_randomizer.requests.parsers.ProxyForEuParser DEBUG    Proxy with low bandwidth: 0.435\n",
      "2018-03-11 17:39:03,104 http_request_randomizer.requests.parsers.ProxyForEuParser DEBUG    Proxy Invalid: <zip object at 0x10486dd88>\n",
      "2018-03-11 17:39:03,105 http_request_randomizer.requests.parsers.ProxyForEuParser DEBUG    Proxy with low bandwidth: 0.361\n",
      "2018-03-11 17:39:03,106 http_request_randomizer.requests.parsers.ProxyForEuParser DEBUG    Proxy Invalid: <zip object at 0x104867148>\n",
      "2018-03-11 17:39:03,315 http_request_randomizer.requests.parsers.RebroWeeblyParser WARNING  Proxy Provider url failed: http://rebro.weebly.com\n",
      "2018-03-11 17:39:03,864 http_request_randomizer.requests.parsers.SamairProxyParser WARNING  Proxy Provider url failed: https://premproxy.com/list/\n",
      "2018-03-11 17:39:03,865 http_request_randomizer.requests.parsers.SamairProxyParser DEBUG    Pages: set()\n",
      "2018-03-11 17:39:03,892 root   DEBUG    Using headers: {'Connection': 'close', 'User-Agent': 'Mozilla/5.0 (Windows; U; Windows NT 6.1; pl; rv:1.9.1) Gecko/20090624 Firefox/3.5 (.NET CLR 3.5.30729'}\n",
      "2018-03-11 17:39:03,893 root   DEBUG    Using proxy: 160.16.214.27:8080 | FreeProxy\n",
      "2018-03-11 17:39:04,450 root   DEBUG    === Initialized Proxy Parsers ===\n",
      "2018-03-11 17:39:04,451 root   DEBUG    \t FreeProxy Parser of 'http://free-proxy-list.net' with required bandwidth: '150' KBs\n",
      "2018-03-11 17:39:04,453 root   DEBUG    \t ProxyForEU Parser of 'http://proxyfor.eu/geo.php' with required bandwidth: '1.0' KBs\n",
      "2018-03-11 17:39:04,454 root   DEBUG    \t RebroWeebly Parser of 'http://rebro.weebly.com' with required bandwidth: '150' KBs\n",
      "2018-03-11 17:39:04,457 root   DEBUG    \t SemairProxy Parser of 'https://premproxy.com/list/' with required bandwidth: '150' KBs\n",
      "2018-03-11 17:39:04,458 root   DEBUG    =================================\n"
     ]
    },
    {
     "name": "stdout",
     "output_type": "stream",
     "text": [
      "RR Status 200\n"
     ]
    },
    {
     "name": "stderr",
     "output_type": "stream",
     "text": [
      "2018-03-11 17:39:04,965 http_request_randomizer.requests.parsers.FreeProxyParser DEBUG    Proxy Invalid: <zip object at 0x105c82848>\n",
      "2018-03-11 17:39:05,229 http_request_randomizer.requests.parsers.ProxyForEuParser DEBUG    Proxy with low bandwidth: 0.178\n",
      "2018-03-11 17:39:05,230 http_request_randomizer.requests.parsers.ProxyForEuParser DEBUG    Proxy Invalid: <zip object at 0x105e1d1c8>\n",
      "2018-03-11 17:39:05,231 http_request_randomizer.requests.parsers.ProxyForEuParser DEBUG    Proxy with low bandwidth: 0.435\n",
      "2018-03-11 17:39:05,232 http_request_randomizer.requests.parsers.ProxyForEuParser DEBUG    Proxy Invalid: <zip object at 0x105e1d6c8>\n",
      "2018-03-11 17:39:05,233 http_request_randomizer.requests.parsers.ProxyForEuParser DEBUG    Proxy with low bandwidth: 0.361\n",
      "2018-03-11 17:39:05,234 http_request_randomizer.requests.parsers.ProxyForEuParser DEBUG    Proxy Invalid: <zip object at 0x105e1da48>\n",
      "2018-03-11 17:39:05,592 http_request_randomizer.requests.parsers.RebroWeeblyParser WARNING  Proxy Provider url failed: http://rebro.weebly.com\n",
      "2018-03-11 17:39:06,056 http_request_randomizer.requests.parsers.SamairProxyParser WARNING  Proxy Provider url failed: https://premproxy.com/list/\n",
      "2018-03-11 17:39:06,057 http_request_randomizer.requests.parsers.SamairProxyParser DEBUG    Pages: set()\n",
      "2018-03-11 17:39:06,084 root   DEBUG    Using headers: {'Connection': 'close', 'User-Agent': 'Mozilla/5.0 (X11; Linux i686; rv:2.0) Gecko/20100101 Firefox/3.'}\n",
      "2018-03-11 17:39:06,085 root   DEBUG    Using proxy: 188.32.54.142:8081 | FreeProxy\n",
      "2018-03-11 17:39:06,826 root   DEBUG    === Initialized Proxy Parsers ===\n",
      "2018-03-11 17:39:06,827 root   DEBUG    \t FreeProxy Parser of 'http://free-proxy-list.net' with required bandwidth: '150' KBs\n",
      "2018-03-11 17:39:06,827 root   DEBUG    \t ProxyForEU Parser of 'http://proxyfor.eu/geo.php' with required bandwidth: '1.0' KBs\n",
      "2018-03-11 17:39:06,828 root   DEBUG    \t RebroWeebly Parser of 'http://rebro.weebly.com' with required bandwidth: '150' KBs\n",
      "2018-03-11 17:39:06,829 root   DEBUG    \t SemairProxy Parser of 'https://premproxy.com/list/' with required bandwidth: '150' KBs\n",
      "2018-03-11 17:39:06,830 root   DEBUG    =================================\n"
     ]
    },
    {
     "name": "stdout",
     "output_type": "stream",
     "text": [
      "RR Status 200\n"
     ]
    },
    {
     "name": "stderr",
     "output_type": "stream",
     "text": [
      "2018-03-11 17:39:07,367 http_request_randomizer.requests.parsers.FreeProxyParser DEBUG    Proxy Invalid: <zip object at 0x106779ac8>\n",
      "2018-03-11 17:39:07,625 http_request_randomizer.requests.parsers.ProxyForEuParser DEBUG    Proxy with low bandwidth: 0.178\n",
      "2018-03-11 17:39:07,626 http_request_randomizer.requests.parsers.ProxyForEuParser DEBUG    Proxy Invalid: <zip object at 0x1067df4c8>\n",
      "2018-03-11 17:39:07,627 http_request_randomizer.requests.parsers.ProxyForEuParser DEBUG    Proxy with low bandwidth: 0.435\n",
      "2018-03-11 17:39:07,628 http_request_randomizer.requests.parsers.ProxyForEuParser DEBUG    Proxy Invalid: <zip object at 0x1067df9c8>\n",
      "2018-03-11 17:39:07,629 http_request_randomizer.requests.parsers.ProxyForEuParser DEBUG    Proxy with low bandwidth: 0.361\n",
      "2018-03-11 17:39:07,630 http_request_randomizer.requests.parsers.ProxyForEuParser DEBUG    Proxy Invalid: <zip object at 0x1067dfd48>\n",
      "2018-03-11 17:39:07,883 http_request_randomizer.requests.parsers.RebroWeeblyParser WARNING  Proxy Provider url failed: http://rebro.weebly.com\n",
      "2018-03-11 17:39:08,359 http_request_randomizer.requests.parsers.SamairProxyParser WARNING  Proxy Provider url failed: https://premproxy.com/list/\n",
      "2018-03-11 17:39:08,360 http_request_randomizer.requests.parsers.SamairProxyParser DEBUG    Pages: set()\n",
      "2018-03-11 17:39:08,385 root   DEBUG    Using headers: {'Connection': 'close', 'User-Agent': 'Mozilla/5.0 (Macintosh; U; PPC Mac OS X 10_5_8; en-us) AppleWebKit/532.0+ (KHTML, like Gecko) Version/4.0.3 Safari/531.'}\n",
      "2018-03-11 17:39:08,385 root   DEBUG    Using proxy: 52.36.231.87:80 | FreeProxy\n",
      "2018-03-11 17:39:08,982 root   DEBUG    === Initialized Proxy Parsers ===\n",
      "2018-03-11 17:39:08,983 root   DEBUG    \t FreeProxy Parser of 'http://free-proxy-list.net' with required bandwidth: '150' KBs\n",
      "2018-03-11 17:39:08,984 root   DEBUG    \t ProxyForEU Parser of 'http://proxyfor.eu/geo.php' with required bandwidth: '1.0' KBs\n",
      "2018-03-11 17:39:08,985 root   DEBUG    \t RebroWeebly Parser of 'http://rebro.weebly.com' with required bandwidth: '150' KBs\n",
      "2018-03-11 17:39:08,987 root   DEBUG    \t SemairProxy Parser of 'https://premproxy.com/list/' with required bandwidth: '150' KBs\n",
      "2018-03-11 17:39:08,988 root   DEBUG    =================================\n"
     ]
    },
    {
     "name": "stdout",
     "output_type": "stream",
     "text": [
      "RR Status 200\n"
     ]
    },
    {
     "name": "stderr",
     "output_type": "stream",
     "text": [
      "2018-03-11 17:39:09,597 http_request_randomizer.requests.parsers.FreeProxyParser DEBUG    Proxy Invalid: <zip object at 0x1050cd588>\n",
      "2018-03-11 17:39:09,926 http_request_randomizer.requests.parsers.ProxyForEuParser DEBUG    Proxy with low bandwidth: 0.178\n",
      "2018-03-11 17:39:09,927 http_request_randomizer.requests.parsers.ProxyForEuParser DEBUG    Proxy Invalid: <zip object at 0x105bc03c8>\n",
      "2018-03-11 17:39:09,928 http_request_randomizer.requests.parsers.ProxyForEuParser DEBUG    Proxy with low bandwidth: 0.435\n",
      "2018-03-11 17:39:09,929 http_request_randomizer.requests.parsers.ProxyForEuParser DEBUG    Proxy Invalid: <zip object at 0x105bc08c8>\n",
      "2018-03-11 17:39:09,930 http_request_randomizer.requests.parsers.ProxyForEuParser DEBUG    Proxy with low bandwidth: 0.361\n",
      "2018-03-11 17:39:09,930 http_request_randomizer.requests.parsers.ProxyForEuParser DEBUG    Proxy Invalid: <zip object at 0x105bc0c48>\n",
      "2018-03-11 17:39:10,142 http_request_randomizer.requests.parsers.RebroWeeblyParser WARNING  Proxy Provider url failed: http://rebro.weebly.com\n",
      "2018-03-11 17:39:10,674 http_request_randomizer.requests.parsers.SamairProxyParser WARNING  Proxy Provider url failed: https://premproxy.com/list/\n",
      "2018-03-11 17:39:10,675 http_request_randomizer.requests.parsers.SamairProxyParser DEBUG    Pages: set()\n",
      "2018-03-11 17:39:10,705 root   DEBUG    Using headers: {'Connection': 'close', 'User-Agent': 'Opera/9.80 (Windows NT 5.1; U; sk) Presto/2.5.22 Version/10.5'}\n",
      "2018-03-11 17:39:10,706 root   DEBUG    Using proxy: 80.211.172.25:80 | FreeProxy\n",
      "2018-03-11 17:39:11,224 root   DEBUG    === Initialized Proxy Parsers ===\n",
      "2018-03-11 17:39:11,225 root   DEBUG    \t FreeProxy Parser of 'http://free-proxy-list.net' with required bandwidth: '150' KBs\n",
      "2018-03-11 17:39:11,226 root   DEBUG    \t ProxyForEU Parser of 'http://proxyfor.eu/geo.php' with required bandwidth: '1.0' KBs\n",
      "2018-03-11 17:39:11,227 root   DEBUG    \t RebroWeebly Parser of 'http://rebro.weebly.com' with required bandwidth: '150' KBs\n",
      "2018-03-11 17:39:11,227 root   DEBUG    \t SemairProxy Parser of 'https://premproxy.com/list/' with required bandwidth: '150' KBs\n",
      "2018-03-11 17:39:11,228 root   DEBUG    =================================\n"
     ]
    },
    {
     "name": "stdout",
     "output_type": "stream",
     "text": [
      "RR Status 200\n"
     ]
    },
    {
     "name": "stderr",
     "output_type": "stream",
     "text": [
      "2018-03-11 17:39:11,755 http_request_randomizer.requests.parsers.FreeProxyParser DEBUG    Proxy Invalid: <zip object at 0x105c91788>\n",
      "2018-03-11 17:39:12,009 http_request_randomizer.requests.parsers.ProxyForEuParser DEBUG    Proxy with low bandwidth: 0.178\n",
      "2018-03-11 17:39:12,010 http_request_randomizer.requests.parsers.ProxyForEuParser DEBUG    Proxy Invalid: <zip object at 0x10670c148>\n",
      "2018-03-11 17:39:12,011 http_request_randomizer.requests.parsers.ProxyForEuParser DEBUG    Proxy with low bandwidth: 0.435\n",
      "2018-03-11 17:39:12,012 http_request_randomizer.requests.parsers.ProxyForEuParser DEBUG    Proxy Invalid: <zip object at 0x10670c648>\n",
      "2018-03-11 17:39:12,013 http_request_randomizer.requests.parsers.ProxyForEuParser DEBUG    Proxy with low bandwidth: 0.361\n",
      "2018-03-11 17:39:12,014 http_request_randomizer.requests.parsers.ProxyForEuParser DEBUG    Proxy Invalid: <zip object at 0x10670c9c8>\n",
      "2018-03-11 17:39:12,330 http_request_randomizer.requests.parsers.RebroWeeblyParser WARNING  Proxy Provider url failed: http://rebro.weebly.com\n",
      "2018-03-11 17:39:12,808 http_request_randomizer.requests.parsers.SamairProxyParser WARNING  Proxy Provider url failed: https://premproxy.com/list/\n",
      "2018-03-11 17:39:12,809 http_request_randomizer.requests.parsers.SamairProxyParser DEBUG    Pages: set()\n",
      "2018-03-11 17:39:12,839 root   DEBUG    Using headers: {'Connection': 'close', 'User-Agent': 'Mozilla/5.0 (Macintosh; U; Intel Mac OS X 10_6_6; en-US) AppleWebKit/534.16 (KHTML, like Gecko) Chrome/10.0.648.134 Safari/534.1'}\n",
      "2018-03-11 17:39:12,839 root   DEBUG    Using proxy: 137.74.168.174:8080 | FreeProxy\n",
      "2018-03-11 17:39:13,664 root   DEBUG    === Initialized Proxy Parsers ===\n",
      "2018-03-11 17:39:13,665 root   DEBUG    \t FreeProxy Parser of 'http://free-proxy-list.net' with required bandwidth: '150' KBs\n",
      "2018-03-11 17:39:13,665 root   DEBUG    \t ProxyForEU Parser of 'http://proxyfor.eu/geo.php' with required bandwidth: '1.0' KBs\n",
      "2018-03-11 17:39:13,666 root   DEBUG    \t RebroWeebly Parser of 'http://rebro.weebly.com' with required bandwidth: '150' KBs\n",
      "2018-03-11 17:39:13,667 root   DEBUG    \t SemairProxy Parser of 'https://premproxy.com/list/' with required bandwidth: '150' KBs\n",
      "2018-03-11 17:39:13,668 root   DEBUG    =================================\n"
     ]
    },
    {
     "name": "stdout",
     "output_type": "stream",
     "text": [
      "RR Status 200\n"
     ]
    },
    {
     "name": "stderr",
     "output_type": "stream",
     "text": [
      "2018-03-11 17:39:14,466 http_request_randomizer.requests.parsers.FreeProxyParser DEBUG    Proxy Invalid: <zip object at 0x10637c3c8>\n",
      "2018-03-11 17:39:14,709 http_request_randomizer.requests.parsers.ProxyForEuParser DEBUG    Proxy with low bandwidth: 0.178\n",
      "2018-03-11 17:39:14,710 http_request_randomizer.requests.parsers.ProxyForEuParser DEBUG    Proxy Invalid: <zip object at 0x10640bd08>\n",
      "2018-03-11 17:39:14,711 http_request_randomizer.requests.parsers.ProxyForEuParser DEBUG    Proxy with low bandwidth: 0.435\n",
      "2018-03-11 17:39:14,712 http_request_randomizer.requests.parsers.ProxyForEuParser DEBUG    Proxy Invalid: <zip object at 0x106412248>\n",
      "2018-03-11 17:39:14,713 http_request_randomizer.requests.parsers.ProxyForEuParser DEBUG    Proxy with low bandwidth: 0.361\n",
      "2018-03-11 17:39:14,714 http_request_randomizer.requests.parsers.ProxyForEuParser DEBUG    Proxy Invalid: <zip object at 0x1064125c8>\n",
      "2018-03-11 17:39:14,950 http_request_randomizer.requests.parsers.RebroWeeblyParser WARNING  Proxy Provider url failed: http://rebro.weebly.com\n",
      "2018-03-11 17:39:15,497 http_request_randomizer.requests.parsers.SamairProxyParser WARNING  Proxy Provider url failed: https://premproxy.com/list/\n",
      "2018-03-11 17:39:15,498 http_request_randomizer.requests.parsers.SamairProxyParser DEBUG    Pages: set()\n",
      "2018-03-11 17:39:15,530 root   DEBUG    Using headers: {'Connection': 'close', 'User-Agent': 'Mozilla/5.0 (Macintosh; U; Intel Mac OS X 10_6_3; ru-ru) AppleWebKit/533.16 (KHTML, like Gecko) Version/5.0 Safari/533.1'}\n",
      "2018-03-11 17:39:15,531 root   DEBUG    Using proxy: 14.63.226.198:80 | FreeProxy\n",
      "2018-03-11 17:39:16,142 root   DEBUG    === Initialized Proxy Parsers ===\n",
      "2018-03-11 17:39:16,143 root   DEBUG    \t FreeProxy Parser of 'http://free-proxy-list.net' with required bandwidth: '150' KBs\n",
      "2018-03-11 17:39:16,144 root   DEBUG    \t ProxyForEU Parser of 'http://proxyfor.eu/geo.php' with required bandwidth: '1.0' KBs\n",
      "2018-03-11 17:39:16,144 root   DEBUG    \t RebroWeebly Parser of 'http://rebro.weebly.com' with required bandwidth: '150' KBs\n",
      "2018-03-11 17:39:16,145 root   DEBUG    \t SemairProxy Parser of 'https://premproxy.com/list/' with required bandwidth: '150' KBs\n",
      "2018-03-11 17:39:16,146 root   DEBUG    =================================\n"
     ]
    },
    {
     "name": "stdout",
     "output_type": "stream",
     "text": [
      "RR Status 200\n"
     ]
    },
    {
     "name": "stderr",
     "output_type": "stream",
     "text": [
      "2018-03-11 17:39:16,902 http_request_randomizer.requests.parsers.FreeProxyParser DEBUG    Proxy Invalid: <zip object at 0x1058c7c88>\n",
      "2018-03-11 17:39:17,183 http_request_randomizer.requests.parsers.ProxyForEuParser DEBUG    Proxy with low bandwidth: 0.178\n",
      "2018-03-11 17:39:17,184 http_request_randomizer.requests.parsers.ProxyForEuParser DEBUG    Proxy Invalid: <zip object at 0x105edcb88>\n",
      "2018-03-11 17:39:17,185 http_request_randomizer.requests.parsers.ProxyForEuParser DEBUG    Proxy with low bandwidth: 0.435\n",
      "2018-03-11 17:39:17,186 http_request_randomizer.requests.parsers.ProxyForEuParser DEBUG    Proxy Invalid: <zip object at 0x104dcc848>\n",
      "2018-03-11 17:39:17,188 http_request_randomizer.requests.parsers.ProxyForEuParser DEBUG    Proxy with low bandwidth: 0.361\n",
      "2018-03-11 17:39:17,189 http_request_randomizer.requests.parsers.ProxyForEuParser DEBUG    Proxy Invalid: <zip object at 0x104de4988>\n",
      "2018-03-11 17:39:17,415 http_request_randomizer.requests.parsers.RebroWeeblyParser WARNING  Proxy Provider url failed: http://rebro.weebly.com\n",
      "2018-03-11 17:39:17,880 http_request_randomizer.requests.parsers.SamairProxyParser WARNING  Proxy Provider url failed: https://premproxy.com/list/\n",
      "2018-03-11 17:39:17,881 http_request_randomizer.requests.parsers.SamairProxyParser DEBUG    Pages: set()\n",
      "2018-03-11 17:39:17,911 root   DEBUG    Using headers: {'Connection': 'close', 'User-Agent': 'Mozilla/5.0 (Macintosh; U; Intel Mac OS X 10_6_5; en-US) AppleWebKit/534.13 (KHTML, like Gecko) Chrome/9.0.597.0 Safari/534.1'}\n",
      "2018-03-11 17:39:17,912 root   DEBUG    Using proxy: 45.6.216.66:3128 | FreeProxy\n",
      "2018-03-11 17:39:18,569 root   DEBUG    === Initialized Proxy Parsers ===\n",
      "2018-03-11 17:39:18,571 root   DEBUG    \t FreeProxy Parser of 'http://free-proxy-list.net' with required bandwidth: '150' KBs\n",
      "2018-03-11 17:39:18,572 root   DEBUG    \t ProxyForEU Parser of 'http://proxyfor.eu/geo.php' with required bandwidth: '1.0' KBs\n",
      "2018-03-11 17:39:18,572 root   DEBUG    \t RebroWeebly Parser of 'http://rebro.weebly.com' with required bandwidth: '150' KBs\n",
      "2018-03-11 17:39:18,573 root   DEBUG    \t SemairProxy Parser of 'https://premproxy.com/list/' with required bandwidth: '150' KBs\n",
      "2018-03-11 17:39:18,574 root   DEBUG    =================================\n"
     ]
    },
    {
     "name": "stdout",
     "output_type": "stream",
     "text": [
      "RR Status 200\n"
     ]
    },
    {
     "name": "stderr",
     "output_type": "stream",
     "text": [
      "2018-03-11 17:39:19,232 http_request_randomizer.requests.parsers.FreeProxyParser DEBUG    Proxy Invalid: <zip object at 0x104a05888>\n",
      "2018-03-11 17:39:19,494 http_request_randomizer.requests.parsers.ProxyForEuParser DEBUG    Proxy with low bandwidth: 0.178\n",
      "2018-03-11 17:39:19,495 http_request_randomizer.requests.parsers.ProxyForEuParser DEBUG    Proxy Invalid: <zip object at 0x104b47248>\n",
      "2018-03-11 17:39:19,496 http_request_randomizer.requests.parsers.ProxyForEuParser DEBUG    Proxy with low bandwidth: 0.435\n",
      "2018-03-11 17:39:19,497 http_request_randomizer.requests.parsers.ProxyForEuParser DEBUG    Proxy Invalid: <zip object at 0x104b47748>\n",
      "2018-03-11 17:39:19,499 http_request_randomizer.requests.parsers.ProxyForEuParser DEBUG    Proxy with low bandwidth: 0.361\n",
      "2018-03-11 17:39:19,500 http_request_randomizer.requests.parsers.ProxyForEuParser DEBUG    Proxy Invalid: <zip object at 0x104b47ac8>\n",
      "2018-03-11 17:39:19,715 http_request_randomizer.requests.parsers.RebroWeeblyParser WARNING  Proxy Provider url failed: http://rebro.weebly.com\n",
      "2018-03-11 17:39:20,150 http_request_randomizer.requests.parsers.SamairProxyParser WARNING  Proxy Provider url failed: https://premproxy.com/list/\n",
      "2018-03-11 17:39:20,151 http_request_randomizer.requests.parsers.SamairProxyParser DEBUG    Pages: set()\n",
      "2018-03-11 17:39:20,183 root   DEBUG    Using headers: {'Connection': 'close', 'User-Agent': 'Mozilla/5.0 (Windows; U; Windows NT 5.1; pt-BR; rv:1.9.1.2) Gecko/20090729 Firefox/3.5.'}\n",
      "2018-03-11 17:39:20,183 root   DEBUG    Using proxy: 92.38.47.226:80 | FreeProxy\n",
      "2018-03-11 17:39:20,716 root   DEBUG    === Initialized Proxy Parsers ===\n",
      "2018-03-11 17:39:20,717 root   DEBUG    \t FreeProxy Parser of 'http://free-proxy-list.net' with required bandwidth: '150' KBs\n",
      "2018-03-11 17:39:20,718 root   DEBUG    \t ProxyForEU Parser of 'http://proxyfor.eu/geo.php' with required bandwidth: '1.0' KBs\n",
      "2018-03-11 17:39:20,719 root   DEBUG    \t RebroWeebly Parser of 'http://rebro.weebly.com' with required bandwidth: '150' KBs\n",
      "2018-03-11 17:39:20,719 root   DEBUG    \t SemairProxy Parser of 'https://premproxy.com/list/' with required bandwidth: '150' KBs\n",
      "2018-03-11 17:39:20,720 root   DEBUG    =================================\n"
     ]
    },
    {
     "name": "stdout",
     "output_type": "stream",
     "text": [
      "RR Status 200\n"
     ]
    },
    {
     "name": "stderr",
     "output_type": "stream",
     "text": [
      "2018-03-11 17:39:21,228 http_request_randomizer.requests.parsers.FreeProxyParser DEBUG    Proxy Invalid: <zip object at 0x1062ce0c8>\n",
      "2018-03-11 17:39:21,484 http_request_randomizer.requests.parsers.ProxyForEuParser DEBUG    Proxy with low bandwidth: 0.178\n",
      "2018-03-11 17:39:21,485 http_request_randomizer.requests.parsers.ProxyForEuParser DEBUG    Proxy Invalid: <zip object at 0x1065c4a08>\n",
      "2018-03-11 17:39:21,486 http_request_randomizer.requests.parsers.ProxyForEuParser DEBUG    Proxy with low bandwidth: 0.435\n",
      "2018-03-11 17:39:21,487 http_request_randomizer.requests.parsers.ProxyForEuParser DEBUG    Proxy Invalid: <zip object at 0x1065c4f08>\n",
      "2018-03-11 17:39:21,489 http_request_randomizer.requests.parsers.ProxyForEuParser DEBUG    Proxy with low bandwidth: 0.361\n",
      "2018-03-11 17:39:21,489 http_request_randomizer.requests.parsers.ProxyForEuParser DEBUG    Proxy Invalid: <zip object at 0x1065cdd08>\n",
      "2018-03-11 17:39:21,715 http_request_randomizer.requests.parsers.RebroWeeblyParser WARNING  Proxy Provider url failed: http://rebro.weebly.com\n",
      "2018-03-11 17:39:22,158 http_request_randomizer.requests.parsers.SamairProxyParser WARNING  Proxy Provider url failed: https://premproxy.com/list/\n",
      "2018-03-11 17:39:22,159 http_request_randomizer.requests.parsers.SamairProxyParser DEBUG    Pages: set()\n",
      "2018-03-11 17:39:22,188 root   DEBUG    Using headers: {'Connection': 'close', 'User-Agent': 'Mozilla/5.0 (Windows NT 6.1; U; en-GB; rv:1.9.1.6) Gecko/20091201 Firefox/3.5.6 Opera 10.5'}\n",
      "2018-03-11 17:39:22,189 root   DEBUG    Using proxy: 47.206.51.67:8080 | FreeProxy\n",
      "2018-03-11 17:39:22,760 root   DEBUG    === Initialized Proxy Parsers ===\n",
      "2018-03-11 17:39:22,761 root   DEBUG    \t FreeProxy Parser of 'http://free-proxy-list.net' with required bandwidth: '150' KBs\n",
      "2018-03-11 17:39:22,762 root   DEBUG    \t ProxyForEU Parser of 'http://proxyfor.eu/geo.php' with required bandwidth: '1.0' KBs\n",
      "2018-03-11 17:39:22,763 root   DEBUG    \t RebroWeebly Parser of 'http://rebro.weebly.com' with required bandwidth: '150' KBs\n",
      "2018-03-11 17:39:22,763 root   DEBUG    \t SemairProxy Parser of 'https://premproxy.com/list/' with required bandwidth: '150' KBs\n",
      "2018-03-11 17:39:22,764 root   DEBUG    =================================\n"
     ]
    },
    {
     "name": "stdout",
     "output_type": "stream",
     "text": [
      "RR Status 200\n"
     ]
    },
    {
     "name": "stderr",
     "output_type": "stream",
     "text": [
      "2018-03-11 17:39:23,511 http_request_randomizer.requests.parsers.FreeProxyParser DEBUG    Proxy Invalid: <zip object at 0x105600648>\n",
      "2018-03-11 17:39:23,779 http_request_randomizer.requests.parsers.ProxyForEuParser DEBUG    Proxy with low bandwidth: 0.178\n",
      "2018-03-11 17:39:23,780 http_request_randomizer.requests.parsers.ProxyForEuParser DEBUG    Proxy Invalid: <zip object at 0x1058dc808>\n",
      "2018-03-11 17:39:23,781 http_request_randomizer.requests.parsers.ProxyForEuParser DEBUG    Proxy with low bandwidth: 0.435\n",
      "2018-03-11 17:39:23,782 http_request_randomizer.requests.parsers.ProxyForEuParser DEBUG    Proxy Invalid: <zip object at 0x1058dc188>\n",
      "2018-03-11 17:39:23,783 http_request_randomizer.requests.parsers.ProxyForEuParser DEBUG    Proxy with low bandwidth: 0.361\n",
      "2018-03-11 17:39:23,784 http_request_randomizer.requests.parsers.ProxyForEuParser DEBUG    Proxy Invalid: <zip object at 0x104f13e08>\n",
      "2018-03-11 17:39:24,020 http_request_randomizer.requests.parsers.RebroWeeblyParser WARNING  Proxy Provider url failed: http://rebro.weebly.com\n",
      "2018-03-11 17:39:24,555 http_request_randomizer.requests.parsers.SamairProxyParser WARNING  Proxy Provider url failed: https://premproxy.com/list/\n",
      "2018-03-11 17:39:24,557 http_request_randomizer.requests.parsers.SamairProxyParser DEBUG    Pages: set()\n",
      "2018-03-11 17:39:24,588 root   DEBUG    Using headers: {'Connection': 'close', 'User-Agent': 'Mozilla/5.0 (X11; U; Linux x86_64; en-US; rv:1.9.2.12) Gecko/20101102 Firefox/3.6.1'}\n",
      "2018-03-11 17:39:24,589 root   DEBUG    Using proxy: 147.135.210.114:54566 | FreeProxy\n",
      "2018-03-11 17:39:25,438 root   DEBUG    === Initialized Proxy Parsers ===\n",
      "2018-03-11 17:39:25,439 root   DEBUG    \t FreeProxy Parser of 'http://free-proxy-list.net' with required bandwidth: '150' KBs\n",
      "2018-03-11 17:39:25,440 root   DEBUG    \t ProxyForEU Parser of 'http://proxyfor.eu/geo.php' with required bandwidth: '1.0' KBs\n",
      "2018-03-11 17:39:25,441 root   DEBUG    \t RebroWeebly Parser of 'http://rebro.weebly.com' with required bandwidth: '150' KBs\n",
      "2018-03-11 17:39:25,442 root   DEBUG    \t SemairProxy Parser of 'https://premproxy.com/list/' with required bandwidth: '150' KBs\n",
      "2018-03-11 17:39:25,443 root   DEBUG    =================================\n"
     ]
    },
    {
     "name": "stdout",
     "output_type": "stream",
     "text": [
      "RR Status 200\n"
     ]
    },
    {
     "name": "stderr",
     "output_type": "stream",
     "text": [
      "2018-03-11 17:39:26,048 http_request_randomizer.requests.parsers.FreeProxyParser DEBUG    Proxy Invalid: <zip object at 0x1067c0a08>\n",
      "2018-03-11 17:39:26,363 http_request_randomizer.requests.parsers.ProxyForEuParser DEBUG    Proxy with low bandwidth: 0.178\n",
      "2018-03-11 17:39:26,363 http_request_randomizer.requests.parsers.ProxyForEuParser DEBUG    Proxy Invalid: <zip object at 0x1058a4388>\n",
      "2018-03-11 17:39:26,365 http_request_randomizer.requests.parsers.ProxyForEuParser DEBUG    Proxy with low bandwidth: 0.435\n",
      "2018-03-11 17:39:26,365 http_request_randomizer.requests.parsers.ProxyForEuParser DEBUG    Proxy Invalid: <zip object at 0x1058a4888>\n",
      "2018-03-11 17:39:26,366 http_request_randomizer.requests.parsers.ProxyForEuParser DEBUG    Proxy with low bandwidth: 0.361\n",
      "2018-03-11 17:39:26,367 http_request_randomizer.requests.parsers.ProxyForEuParser DEBUG    Proxy Invalid: <zip object at 0x1058a4c08>\n",
      "2018-03-11 17:39:26,642 http_request_randomizer.requests.parsers.RebroWeeblyParser WARNING  Proxy Provider url failed: http://rebro.weebly.com\n",
      "2018-03-11 17:39:27,231 http_request_randomizer.requests.parsers.SamairProxyParser WARNING  Proxy Provider url failed: https://premproxy.com/list/\n",
      "2018-03-11 17:39:27,232 http_request_randomizer.requests.parsers.SamairProxyParser DEBUG    Pages: set()\n",
      "2018-03-11 17:39:27,264 root   DEBUG    Using headers: {'Connection': 'close', 'User-Agent': 'Mozilla/5.0 (Windows; U; Windows NT 5.1; de-DE) AppleWebKit/532+ (KHTML, like Gecko) Version/4.0.4 Safari/531.21.1'}\n",
      "2018-03-11 17:39:27,264 root   DEBUG    Using proxy: 118.172.129.67:8080 | FreeProxy\n",
      "2018-03-11 17:39:27,851 root   DEBUG    === Initialized Proxy Parsers ===\n",
      "2018-03-11 17:39:27,852 root   DEBUG    \t FreeProxy Parser of 'http://free-proxy-list.net' with required bandwidth: '150' KBs\n",
      "2018-03-11 17:39:27,852 root   DEBUG    \t ProxyForEU Parser of 'http://proxyfor.eu/geo.php' with required bandwidth: '1.0' KBs\n",
      "2018-03-11 17:39:27,853 root   DEBUG    \t RebroWeebly Parser of 'http://rebro.weebly.com' with required bandwidth: '150' KBs\n",
      "2018-03-11 17:39:27,854 root   DEBUG    \t SemairProxy Parser of 'https://premproxy.com/list/' with required bandwidth: '150' KBs\n",
      "2018-03-11 17:39:27,855 root   DEBUG    =================================\n"
     ]
    },
    {
     "name": "stdout",
     "output_type": "stream",
     "text": [
      "RR Status 200\n"
     ]
    },
    {
     "name": "stderr",
     "output_type": "stream",
     "text": [
      "2018-03-11 17:39:28,517 http_request_randomizer.requests.parsers.FreeProxyParser DEBUG    Proxy Invalid: <zip object at 0x10632c148>\n",
      "2018-03-11 17:39:28,818 http_request_randomizer.requests.parsers.ProxyForEuParser DEBUG    Proxy with low bandwidth: 0.178\n",
      "2018-03-11 17:39:28,818 http_request_randomizer.requests.parsers.ProxyForEuParser DEBUG    Proxy Invalid: <zip object at 0x106750a88>\n",
      "2018-03-11 17:39:28,820 http_request_randomizer.requests.parsers.ProxyForEuParser DEBUG    Proxy with low bandwidth: 0.435\n",
      "2018-03-11 17:39:28,820 http_request_randomizer.requests.parsers.ProxyForEuParser DEBUG    Proxy Invalid: <zip object at 0x106750f88>\n",
      "2018-03-11 17:39:28,822 http_request_randomizer.requests.parsers.ProxyForEuParser DEBUG    Proxy with low bandwidth: 0.361\n",
      "2018-03-11 17:39:28,822 http_request_randomizer.requests.parsers.ProxyForEuParser DEBUG    Proxy Invalid: <zip object at 0x106772348>\n",
      "2018-03-11 17:39:29,083 http_request_randomizer.requests.parsers.RebroWeeblyParser WARNING  Proxy Provider url failed: http://rebro.weebly.com\n",
      "2018-03-11 17:39:29,598 http_request_randomizer.requests.parsers.SamairProxyParser WARNING  Proxy Provider url failed: https://premproxy.com/list/\n",
      "2018-03-11 17:39:29,599 http_request_randomizer.requests.parsers.SamairProxyParser DEBUG    Pages: set()\n",
      "2018-03-11 17:39:29,632 root   DEBUG    Using headers: {'Connection': 'close', 'User-Agent': 'Opera/9.80 (X11; Linux i686; U; es-ES) Presto/2.6.30 Version/10.6'}\n",
      "2018-03-11 17:39:29,634 root   DEBUG    Using proxy: 134.35.122.13:8080 | FreeProxy\n",
      "2018-03-11 17:39:30,231 root   DEBUG    === Initialized Proxy Parsers ===\n",
      "2018-03-11 17:39:30,232 root   DEBUG    \t FreeProxy Parser of 'http://free-proxy-list.net' with required bandwidth: '150' KBs\n",
      "2018-03-11 17:39:30,233 root   DEBUG    \t ProxyForEU Parser of 'http://proxyfor.eu/geo.php' with required bandwidth: '1.0' KBs\n",
      "2018-03-11 17:39:30,234 root   DEBUG    \t RebroWeebly Parser of 'http://rebro.weebly.com' with required bandwidth: '150' KBs\n",
      "2018-03-11 17:39:30,235 root   DEBUG    \t SemairProxy Parser of 'https://premproxy.com/list/' with required bandwidth: '150' KBs\n",
      "2018-03-11 17:39:30,236 root   DEBUG    =================================\n"
     ]
    },
    {
     "name": "stdout",
     "output_type": "stream",
     "text": [
      "RR Status 200\n"
     ]
    },
    {
     "name": "stderr",
     "output_type": "stream",
     "text": [
      "2018-03-11 17:39:30,934 http_request_randomizer.requests.parsers.FreeProxyParser DEBUG    Proxy Invalid: <zip object at 0x1052935c8>\n",
      "2018-03-11 17:39:31,199 http_request_randomizer.requests.parsers.ProxyForEuParser DEBUG    Proxy with low bandwidth: 0.178\n",
      "2018-03-11 17:39:31,200 http_request_randomizer.requests.parsers.ProxyForEuParser DEBUG    Proxy Invalid: <zip object at 0x105c4ec48>\n",
      "2018-03-11 17:39:31,202 http_request_randomizer.requests.parsers.ProxyForEuParser DEBUG    Proxy with low bandwidth: 0.435\n",
      "2018-03-11 17:39:31,203 http_request_randomizer.requests.parsers.ProxyForEuParser DEBUG    Proxy Invalid: <zip object at 0x105c4e988>\n",
      "2018-03-11 17:39:31,204 http_request_randomizer.requests.parsers.ProxyForEuParser DEBUG    Proxy with low bandwidth: 0.361\n",
      "2018-03-11 17:39:31,205 http_request_randomizer.requests.parsers.ProxyForEuParser DEBUG    Proxy Invalid: <zip object at 0x105c4ef88>\n",
      "2018-03-11 17:39:31,424 http_request_randomizer.requests.parsers.RebroWeeblyParser WARNING  Proxy Provider url failed: http://rebro.weebly.com\n",
      "2018-03-11 17:39:31,928 http_request_randomizer.requests.parsers.SamairProxyParser WARNING  Proxy Provider url failed: https://premproxy.com/list/\n",
      "2018-03-11 17:39:31,929 http_request_randomizer.requests.parsers.SamairProxyParser DEBUG    Pages: set()\n",
      "2018-03-11 17:39:31,959 root   DEBUG    Using headers: {'Connection': 'close', 'User-Agent': 'Mozilla/5.0 (Windows; U; Windows NT 5.1; en-US) AppleWebKit/534.13 (KHTML, like Gecko) Chrome/9.0.597.0 Safari/534.1'}\n",
      "2018-03-11 17:39:31,960 root   DEBUG    Using proxy: 186.214.219.19:8080 | FreeProxy\n",
      "2018-03-11 17:39:32,482 root   DEBUG    === Initialized Proxy Parsers ===\n",
      "2018-03-11 17:39:32,483 root   DEBUG    \t FreeProxy Parser of 'http://free-proxy-list.net' with required bandwidth: '150' KBs\n",
      "2018-03-11 17:39:32,484 root   DEBUG    \t ProxyForEU Parser of 'http://proxyfor.eu/geo.php' with required bandwidth: '1.0' KBs\n",
      "2018-03-11 17:39:32,485 root   DEBUG    \t RebroWeebly Parser of 'http://rebro.weebly.com' with required bandwidth: '150' KBs\n",
      "2018-03-11 17:39:32,486 root   DEBUG    \t SemairProxy Parser of 'https://premproxy.com/list/' with required bandwidth: '150' KBs\n",
      "2018-03-11 17:39:32,487 root   DEBUG    =================================\n"
     ]
    },
    {
     "name": "stdout",
     "output_type": "stream",
     "text": [
      "RR Status 200\n"
     ]
    },
    {
     "name": "stderr",
     "output_type": "stream",
     "text": [
      "2018-03-11 17:39:33,213 http_request_randomizer.requests.parsers.FreeProxyParser DEBUG    Proxy Invalid: <zip object at 0x104d11a08>\n",
      "2018-03-11 17:39:33,482 http_request_randomizer.requests.parsers.ProxyForEuParser DEBUG    Proxy with low bandwidth: 0.178\n",
      "2018-03-11 17:39:33,483 http_request_randomizer.requests.parsers.ProxyForEuParser DEBUG    Proxy Invalid: <zip object at 0x105607408>\n",
      "2018-03-11 17:39:33,485 http_request_randomizer.requests.parsers.ProxyForEuParser DEBUG    Proxy with low bandwidth: 0.435\n",
      "2018-03-11 17:39:33,486 http_request_randomizer.requests.parsers.ProxyForEuParser DEBUG    Proxy Invalid: <zip object at 0x105607908>\n",
      "2018-03-11 17:39:33,487 http_request_randomizer.requests.parsers.ProxyForEuParser DEBUG    Proxy with low bandwidth: 0.361\n",
      "2018-03-11 17:39:33,488 http_request_randomizer.requests.parsers.ProxyForEuParser DEBUG    Proxy Invalid: <zip object at 0x105607c88>\n",
      "2018-03-11 17:39:33,709 http_request_randomizer.requests.parsers.RebroWeeblyParser WARNING  Proxy Provider url failed: http://rebro.weebly.com\n",
      "2018-03-11 17:39:34,257 http_request_randomizer.requests.parsers.SamairProxyParser WARNING  Proxy Provider url failed: https://premproxy.com/list/\n",
      "2018-03-11 17:39:34,258 http_request_randomizer.requests.parsers.SamairProxyParser DEBUG    Pages: set()\n",
      "2018-03-11 17:39:34,291 root   DEBUG    Using headers: {'Connection': 'close', 'User-Agent': 'Opera/9.80 (Windows NT 6.0; U; nl) Presto/2.6.30 Version/10.6'}\n",
      "2018-03-11 17:39:34,292 root   DEBUG    Using proxy: 177.103.206.155:3128 | FreeProxy\n",
      "2018-03-11 17:39:34,845 root   DEBUG    === Initialized Proxy Parsers ===\n",
      "2018-03-11 17:39:34,846 root   DEBUG    \t FreeProxy Parser of 'http://free-proxy-list.net' with required bandwidth: '150' KBs\n",
      "2018-03-11 17:39:34,847 root   DEBUG    \t ProxyForEU Parser of 'http://proxyfor.eu/geo.php' with required bandwidth: '1.0' KBs\n",
      "2018-03-11 17:39:34,847 root   DEBUG    \t RebroWeebly Parser of 'http://rebro.weebly.com' with required bandwidth: '150' KBs\n",
      "2018-03-11 17:39:34,848 root   DEBUG    \t SemairProxy Parser of 'https://premproxy.com/list/' with required bandwidth: '150' KBs\n",
      "2018-03-11 17:39:34,849 root   DEBUG    =================================\n"
     ]
    },
    {
     "name": "stdout",
     "output_type": "stream",
     "text": [
      "RR Status 200\n"
     ]
    },
    {
     "name": "stderr",
     "output_type": "stream",
     "text": [
      "2018-03-11 17:39:35,385 http_request_randomizer.requests.parsers.FreeProxyParser DEBUG    Proxy Invalid: <zip object at 0x106586348>\n",
      "2018-03-11 17:39:35,647 http_request_randomizer.requests.parsers.ProxyForEuParser DEBUG    Proxy with low bandwidth: 0.178\n",
      "2018-03-11 17:39:35,648 http_request_randomizer.requests.parsers.ProxyForEuParser DEBUG    Proxy Invalid: <zip object at 0x106992c88>\n",
      "2018-03-11 17:39:35,649 http_request_randomizer.requests.parsers.ProxyForEuParser DEBUG    Proxy with low bandwidth: 0.435\n",
      "2018-03-11 17:39:35,649 http_request_randomizer.requests.parsers.ProxyForEuParser DEBUG    Proxy Invalid: <zip object at 0x10698b1c8>\n",
      "2018-03-11 17:39:35,651 http_request_randomizer.requests.parsers.ProxyForEuParser DEBUG    Proxy with low bandwidth: 0.361\n",
      "2018-03-11 17:39:35,652 http_request_randomizer.requests.parsers.ProxyForEuParser DEBUG    Proxy Invalid: <zip object at 0x10698b548>\n",
      "2018-03-11 17:39:35,859 http_request_randomizer.requests.parsers.RebroWeeblyParser WARNING  Proxy Provider url failed: http://rebro.weebly.com\n",
      "2018-03-11 17:39:36,276 http_request_randomizer.requests.parsers.SamairProxyParser WARNING  Proxy Provider url failed: https://premproxy.com/list/\n",
      "2018-03-11 17:39:36,277 http_request_randomizer.requests.parsers.SamairProxyParser DEBUG    Pages: set()\n",
      "2018-03-11 17:39:36,308 root   DEBUG    Using headers: {'Connection': 'close', 'User-Agent': 'Opera/9.80 (Windows NT 5.1; U; sk) Presto/2.5.22 Version/10.5'}\n",
      "2018-03-11 17:39:36,309 root   DEBUG    Using proxy: 115.28.188.178:8888 | ProxyForEU\n",
      "2018-03-11 17:39:36,882 root   DEBUG    === Initialized Proxy Parsers ===\n",
      "2018-03-11 17:39:36,883 root   DEBUG    \t FreeProxy Parser of 'http://free-proxy-list.net' with required bandwidth: '150' KBs\n",
      "2018-03-11 17:39:36,884 root   DEBUG    \t ProxyForEU Parser of 'http://proxyfor.eu/geo.php' with required bandwidth: '1.0' KBs\n",
      "2018-03-11 17:39:36,884 root   DEBUG    \t RebroWeebly Parser of 'http://rebro.weebly.com' with required bandwidth: '150' KBs\n",
      "2018-03-11 17:39:36,885 root   DEBUG    \t SemairProxy Parser of 'https://premproxy.com/list/' with required bandwidth: '150' KBs\n",
      "2018-03-11 17:39:36,886 root   DEBUG    =================================\n"
     ]
    },
    {
     "name": "stdout",
     "output_type": "stream",
     "text": [
      "RR Status 200\n"
     ]
    },
    {
     "name": "stderr",
     "output_type": "stream",
     "text": [
      "2018-03-11 17:39:37,620 http_request_randomizer.requests.parsers.FreeProxyParser DEBUG    Proxy Invalid: <zip object at 0x106ceea48>\n",
      "2018-03-11 17:39:38,092 http_request_randomizer.requests.parsers.ProxyForEuParser DEBUG    Proxy with low bandwidth: 0.178\n",
      "2018-03-11 17:39:38,093 http_request_randomizer.requests.parsers.ProxyForEuParser DEBUG    Proxy Invalid: <zip object at 0x106d4f408>\n",
      "2018-03-11 17:39:38,094 http_request_randomizer.requests.parsers.ProxyForEuParser DEBUG    Proxy with low bandwidth: 0.435\n",
      "2018-03-11 17:39:38,095 http_request_randomizer.requests.parsers.ProxyForEuParser DEBUG    Proxy Invalid: <zip object at 0x106d4f908>\n",
      "2018-03-11 17:39:38,097 http_request_randomizer.requests.parsers.ProxyForEuParser DEBUG    Proxy with low bandwidth: 0.361\n",
      "2018-03-11 17:39:38,097 http_request_randomizer.requests.parsers.ProxyForEuParser DEBUG    Proxy Invalid: <zip object at 0x106d4fc88>\n",
      "2018-03-11 17:39:38,403 http_request_randomizer.requests.parsers.RebroWeeblyParser WARNING  Proxy Provider url failed: http://rebro.weebly.com\n",
      "2018-03-11 17:39:38,915 http_request_randomizer.requests.parsers.SamairProxyParser WARNING  Proxy Provider url failed: https://premproxy.com/list/\n",
      "2018-03-11 17:39:38,916 http_request_randomizer.requests.parsers.SamairProxyParser DEBUG    Pages: set()\n",
      "2018-03-11 17:39:38,954 root   DEBUG    Using headers: {'Connection': 'close', 'User-Agent': 'Mozilla/5.0 (Windows; U; Windows NT 5.1; ja; rv:1.9.1.8) Gecko/20100202 Firefox/3.5.8 GTB7.0 (.NET CLR 3.5.30729'}\n",
      "2018-03-11 17:39:38,954 root   DEBUG    Using proxy: 213.6.40.142:80 | FreeProxy\n",
      "2018-03-11 17:39:39,662 root   DEBUG    === Initialized Proxy Parsers ===\n",
      "2018-03-11 17:39:39,663 root   DEBUG    \t FreeProxy Parser of 'http://free-proxy-list.net' with required bandwidth: '150' KBs\n",
      "2018-03-11 17:39:39,663 root   DEBUG    \t ProxyForEU Parser of 'http://proxyfor.eu/geo.php' with required bandwidth: '1.0' KBs\n",
      "2018-03-11 17:39:39,664 root   DEBUG    \t RebroWeebly Parser of 'http://rebro.weebly.com' with required bandwidth: '150' KBs\n",
      "2018-03-11 17:39:39,665 root   DEBUG    \t SemairProxy Parser of 'https://premproxy.com/list/' with required bandwidth: '150' KBs\n",
      "2018-03-11 17:39:39,666 root   DEBUG    =================================\n"
     ]
    },
    {
     "name": "stdout",
     "output_type": "stream",
     "text": [
      "RR Status 200\n"
     ]
    },
    {
     "name": "stderr",
     "output_type": "stream",
     "text": [
      "2018-03-11 17:39:40,435 http_request_randomizer.requests.parsers.FreeProxyParser DEBUG    Proxy Invalid: <zip object at 0x106b6e508>\n",
      "2018-03-11 17:39:40,697 http_request_randomizer.requests.parsers.ProxyForEuParser DEBUG    Proxy with low bandwidth: 0.178\n",
      "2018-03-11 17:39:40,698 http_request_randomizer.requests.parsers.ProxyForEuParser DEBUG    Proxy Invalid: <zip object at 0x105416d88>\n",
      "2018-03-11 17:39:40,699 http_request_randomizer.requests.parsers.ProxyForEuParser DEBUG    Proxy with low bandwidth: 0.435\n",
      "2018-03-11 17:39:40,700 http_request_randomizer.requests.parsers.ProxyForEuParser DEBUG    Proxy Invalid: <zip object at 0x10627c2c8>\n",
      "2018-03-11 17:39:40,701 http_request_randomizer.requests.parsers.ProxyForEuParser DEBUG    Proxy with low bandwidth: 0.361\n",
      "2018-03-11 17:39:40,702 http_request_randomizer.requests.parsers.ProxyForEuParser DEBUG    Proxy Invalid: <zip object at 0x10627c648>\n",
      "2018-03-11 17:39:40,924 http_request_randomizer.requests.parsers.RebroWeeblyParser WARNING  Proxy Provider url failed: http://rebro.weebly.com\n",
      "2018-03-11 17:39:41,355 http_request_randomizer.requests.parsers.SamairProxyParser WARNING  Proxy Provider url failed: https://premproxy.com/list/\n",
      "2018-03-11 17:39:41,356 http_request_randomizer.requests.parsers.SamairProxyParser DEBUG    Pages: set()\n",
      "2018-03-11 17:39:41,391 root   DEBUG    Using headers: {'Connection': 'close', 'User-Agent': 'Mozilla/1.22 (compatible; MSIE 10.0; Windows 3.1'}\n",
      "2018-03-11 17:39:41,392 root   DEBUG    Using proxy: 45.6.216.66:3128 | FreeProxy\n",
      "2018-03-11 17:39:41,900 root   DEBUG    === Initialized Proxy Parsers ===\n",
      "2018-03-11 17:39:41,901 root   DEBUG    \t FreeProxy Parser of 'http://free-proxy-list.net' with required bandwidth: '150' KBs\n",
      "2018-03-11 17:39:41,902 root   DEBUG    \t ProxyForEU Parser of 'http://proxyfor.eu/geo.php' with required bandwidth: '1.0' KBs\n",
      "2018-03-11 17:39:41,902 root   DEBUG    \t RebroWeebly Parser of 'http://rebro.weebly.com' with required bandwidth: '150' KBs\n",
      "2018-03-11 17:39:41,903 root   DEBUG    \t SemairProxy Parser of 'https://premproxy.com/list/' with required bandwidth: '150' KBs\n",
      "2018-03-11 17:39:41,904 root   DEBUG    =================================\n"
     ]
    },
    {
     "name": "stdout",
     "output_type": "stream",
     "text": [
      "RR Status 200\n"
     ]
    },
    {
     "name": "stderr",
     "output_type": "stream",
     "text": [
      "2018-03-11 17:39:42,602 http_request_randomizer.requests.parsers.FreeProxyParser DEBUG    Proxy Invalid: <zip object at 0x1062efa48>\n",
      "2018-03-11 17:39:42,860 http_request_randomizer.requests.parsers.ProxyForEuParser DEBUG    Proxy with low bandwidth: 0.178\n",
      "2018-03-11 17:39:42,861 http_request_randomizer.requests.parsers.ProxyForEuParser DEBUG    Proxy Invalid: <zip object at 0x10638f448>\n",
      "2018-03-11 17:39:42,862 http_request_randomizer.requests.parsers.ProxyForEuParser DEBUG    Proxy with low bandwidth: 0.435\n",
      "2018-03-11 17:39:42,863 http_request_randomizer.requests.parsers.ProxyForEuParser DEBUG    Proxy Invalid: <zip object at 0x10638f948>\n",
      "2018-03-11 17:39:42,864 http_request_randomizer.requests.parsers.ProxyForEuParser DEBUG    Proxy with low bandwidth: 0.361\n",
      "2018-03-11 17:39:42,865 http_request_randomizer.requests.parsers.ProxyForEuParser DEBUG    Proxy Invalid: <zip object at 0x10638fcc8>\n",
      "2018-03-11 17:39:43,069 http_request_randomizer.requests.parsers.RebroWeeblyParser WARNING  Proxy Provider url failed: http://rebro.weebly.com\n",
      "2018-03-11 17:39:43,520 http_request_randomizer.requests.parsers.SamairProxyParser WARNING  Proxy Provider url failed: https://premproxy.com/list/\n",
      "2018-03-11 17:39:43,521 http_request_randomizer.requests.parsers.SamairProxyParser DEBUG    Pages: set()\n",
      "2018-03-11 17:39:43,557 root   DEBUG    Using headers: {'Connection': 'close', 'User-Agent': 'Mozilla/5.0 (Windows; U; Windows NT 6.1; pt-PT; rv:1.9.2.6) Gecko/20100625 Firefox/3.6.'}\n",
      "2018-03-11 17:39:43,558 root   DEBUG    Using proxy: 190.12.45.58:3128 | FreeProxy\n",
      "2018-03-11 17:39:44,083 root   DEBUG    === Initialized Proxy Parsers ===\n",
      "2018-03-11 17:39:44,084 root   DEBUG    \t FreeProxy Parser of 'http://free-proxy-list.net' with required bandwidth: '150' KBs\n",
      "2018-03-11 17:39:44,085 root   DEBUG    \t ProxyForEU Parser of 'http://proxyfor.eu/geo.php' with required bandwidth: '1.0' KBs\n",
      "2018-03-11 17:39:44,085 root   DEBUG    \t RebroWeebly Parser of 'http://rebro.weebly.com' with required bandwidth: '150' KBs\n",
      "2018-03-11 17:39:44,086 root   DEBUG    \t SemairProxy Parser of 'https://premproxy.com/list/' with required bandwidth: '150' KBs\n",
      "2018-03-11 17:39:44,087 root   DEBUG    =================================\n"
     ]
    },
    {
     "name": "stdout",
     "output_type": "stream",
     "text": [
      "RR Status 200\n"
     ]
    },
    {
     "name": "stderr",
     "output_type": "stream",
     "text": [
      "2018-03-11 17:39:44,600 http_request_randomizer.requests.parsers.FreeProxyParser DEBUG    Proxy Invalid: <zip object at 0x1066c6a48>\n",
      "2018-03-11 17:39:44,868 http_request_randomizer.requests.parsers.ProxyForEuParser DEBUG    Proxy with low bandwidth: 0.178\n",
      "2018-03-11 17:39:44,868 http_request_randomizer.requests.parsers.ProxyForEuParser DEBUG    Proxy Invalid: <zip object at 0x106821408>\n",
      "2018-03-11 17:39:44,870 http_request_randomizer.requests.parsers.ProxyForEuParser DEBUG    Proxy with low bandwidth: 0.435\n",
      "2018-03-11 17:39:44,871 http_request_randomizer.requests.parsers.ProxyForEuParser DEBUG    Proxy Invalid: <zip object at 0x106821908>\n",
      "2018-03-11 17:39:44,872 http_request_randomizer.requests.parsers.ProxyForEuParser DEBUG    Proxy with low bandwidth: 0.361\n",
      "2018-03-11 17:39:44,873 http_request_randomizer.requests.parsers.ProxyForEuParser DEBUG    Proxy Invalid: <zip object at 0x106821c88>\n",
      "2018-03-11 17:39:45,115 http_request_randomizer.requests.parsers.RebroWeeblyParser WARNING  Proxy Provider url failed: http://rebro.weebly.com\n",
      "2018-03-11 17:39:45,575 http_request_randomizer.requests.parsers.SamairProxyParser WARNING  Proxy Provider url failed: https://premproxy.com/list/\n",
      "2018-03-11 17:39:45,576 http_request_randomizer.requests.parsers.SamairProxyParser DEBUG    Pages: set()\n",
      "2018-03-11 17:39:45,610 root   DEBUG    Using headers: {'Connection': 'close', 'User-Agent': 'Mozilla/5.0 (X11; U; Linux i686; de; rv:1.9.1.8) Gecko/20100214 Ubuntu/9.10 (karmic) Firefox/3.5.'}\n",
      "2018-03-11 17:39:45,611 root   DEBUG    Using proxy: 181.30.101.242:3128 | FreeProxy\n",
      "2018-03-11 17:39:46,154 root   DEBUG    === Initialized Proxy Parsers ===\n",
      "2018-03-11 17:39:46,155 root   DEBUG    \t FreeProxy Parser of 'http://free-proxy-list.net' with required bandwidth: '150' KBs\n",
      "2018-03-11 17:39:46,156 root   DEBUG    \t ProxyForEU Parser of 'http://proxyfor.eu/geo.php' with required bandwidth: '1.0' KBs\n",
      "2018-03-11 17:39:46,156 root   DEBUG    \t RebroWeebly Parser of 'http://rebro.weebly.com' with required bandwidth: '150' KBs\n",
      "2018-03-11 17:39:46,157 root   DEBUG    \t SemairProxy Parser of 'https://premproxy.com/list/' with required bandwidth: '150' KBs\n",
      "2018-03-11 17:39:46,158 root   DEBUG    =================================\n"
     ]
    },
    {
     "name": "stdout",
     "output_type": "stream",
     "text": [
      "RR Status 200\n"
     ]
    },
    {
     "name": "stderr",
     "output_type": "stream",
     "text": [
      "2018-03-11 17:39:46,771 http_request_randomizer.requests.parsers.FreeProxyParser DEBUG    Proxy Invalid: <zip object at 0x10607c988>\n",
      "2018-03-11 17:39:47,027 http_request_randomizer.requests.parsers.ProxyForEuParser DEBUG    Proxy with low bandwidth: 0.178\n",
      "2018-03-11 17:39:47,028 http_request_randomizer.requests.parsers.ProxyForEuParser DEBUG    Proxy Invalid: <zip object at 0x1067d3748>\n",
      "2018-03-11 17:39:47,029 http_request_randomizer.requests.parsers.ProxyForEuParser DEBUG    Proxy with low bandwidth: 0.435\n",
      "2018-03-11 17:39:47,030 http_request_randomizer.requests.parsers.ProxyForEuParser DEBUG    Proxy Invalid: <zip object at 0x1067d3888>\n",
      "2018-03-11 17:39:47,031 http_request_randomizer.requests.parsers.ProxyForEuParser DEBUG    Proxy with low bandwidth: 0.361\n",
      "2018-03-11 17:39:47,032 http_request_randomizer.requests.parsers.ProxyForEuParser DEBUG    Proxy Invalid: <zip object at 0x105e22488>\n",
      "2018-03-11 17:39:47,244 http_request_randomizer.requests.parsers.RebroWeeblyParser WARNING  Proxy Provider url failed: http://rebro.weebly.com\n",
      "2018-03-11 17:39:47,690 http_request_randomizer.requests.parsers.SamairProxyParser WARNING  Proxy Provider url failed: https://premproxy.com/list/\n",
      "2018-03-11 17:39:47,691 http_request_randomizer.requests.parsers.SamairProxyParser DEBUG    Pages: set()\n",
      "2018-03-11 17:39:47,726 root   DEBUG    Using headers: {'Connection': 'close', 'User-Agent': 'Mozilla/5.0 (Windows; U; Windows NT 6.1; ar; rv:1.9.2) Gecko/20100115 Firefox/3.'}\n",
      "2018-03-11 17:39:47,727 root   DEBUG    Using proxy: 122.96.59.98:81 | ProxyForEU\n",
      "2018-03-11 17:39:48,231 root   DEBUG    === Initialized Proxy Parsers ===\n",
      "2018-03-11 17:39:48,232 root   DEBUG    \t FreeProxy Parser of 'http://free-proxy-list.net' with required bandwidth: '150' KBs\n",
      "2018-03-11 17:39:48,233 root   DEBUG    \t ProxyForEU Parser of 'http://proxyfor.eu/geo.php' with required bandwidth: '1.0' KBs\n",
      "2018-03-11 17:39:48,234 root   DEBUG    \t RebroWeebly Parser of 'http://rebro.weebly.com' with required bandwidth: '150' KBs\n",
      "2018-03-11 17:39:48,235 root   DEBUG    \t SemairProxy Parser of 'https://premproxy.com/list/' with required bandwidth: '150' KBs\n",
      "2018-03-11 17:39:48,235 root   DEBUG    =================================\n"
     ]
    },
    {
     "name": "stdout",
     "output_type": "stream",
     "text": [
      "RR Status 404\n"
     ]
    },
    {
     "name": "stderr",
     "output_type": "stream",
     "text": [
      "2018-03-11 17:39:48,863 http_request_randomizer.requests.parsers.FreeProxyParser DEBUG    Proxy Invalid: <zip object at 0x105ba3e08>\n",
      "2018-03-11 17:39:49,119 http_request_randomizer.requests.parsers.ProxyForEuParser DEBUG    Proxy with low bandwidth: 0.178\n",
      "2018-03-11 17:39:49,120 http_request_randomizer.requests.parsers.ProxyForEuParser DEBUG    Proxy Invalid: <zip object at 0x104bdac48>\n",
      "2018-03-11 17:39:49,121 http_request_randomizer.requests.parsers.ProxyForEuParser DEBUG    Proxy with low bandwidth: 0.435\n",
      "2018-03-11 17:39:49,122 http_request_randomizer.requests.parsers.ProxyForEuParser DEBUG    Proxy Invalid: <zip object at 0x104be5188>\n",
      "2018-03-11 17:39:49,123 http_request_randomizer.requests.parsers.ProxyForEuParser DEBUG    Proxy with low bandwidth: 0.361\n",
      "2018-03-11 17:39:49,124 http_request_randomizer.requests.parsers.ProxyForEuParser DEBUG    Proxy Invalid: <zip object at 0x104be5508>\n",
      "2018-03-11 17:39:49,355 http_request_randomizer.requests.parsers.RebroWeeblyParser WARNING  Proxy Provider url failed: http://rebro.weebly.com\n",
      "2018-03-11 17:39:51,329 http_request_randomizer.requests.parsers.SamairProxyParser WARNING  Proxy Provider url failed: https://premproxy.com/list/\n",
      "2018-03-11 17:39:51,330 http_request_randomizer.requests.parsers.SamairProxyParser DEBUG    Pages: set()\n",
      "2018-03-11 17:39:51,365 root   DEBUG    Using headers: {'Connection': 'close', 'User-Agent': 'Mozilla/4.0 (compatible; MSIE 8.0; Windows NT 6.1; de) Opera 11.0'}\n",
      "2018-03-11 17:39:51,366 root   DEBUG    Using proxy: 192.116.142.153:8080 | FreeProxy\n",
      "2018-03-11 17:39:51,903 root   DEBUG    === Initialized Proxy Parsers ===\n",
      "2018-03-11 17:39:51,904 root   DEBUG    \t FreeProxy Parser of 'http://free-proxy-list.net' with required bandwidth: '150' KBs\n",
      "2018-03-11 17:39:51,906 root   DEBUG    \t ProxyForEU Parser of 'http://proxyfor.eu/geo.php' with required bandwidth: '1.0' KBs\n",
      "2018-03-11 17:39:51,907 root   DEBUG    \t RebroWeebly Parser of 'http://rebro.weebly.com' with required bandwidth: '150' KBs\n",
      "2018-03-11 17:39:51,908 root   DEBUG    \t SemairProxy Parser of 'https://premproxy.com/list/' with required bandwidth: '150' KBs\n",
      "2018-03-11 17:39:51,908 root   DEBUG    =================================\n"
     ]
    },
    {
     "name": "stdout",
     "output_type": "stream",
     "text": [
      "RR Status 404\n",
      "Resumes: + 50\n",
      "Count 150\n",
      "\n",
      "CFO\n"
     ]
    },
    {
     "name": "stderr",
     "output_type": "stream",
     "text": [
      "2018-03-11 17:39:52,505 http_request_randomizer.requests.parsers.FreeProxyParser DEBUG    Proxy Invalid: <zip object at 0x1065026c8>\n",
      "2018-03-11 17:39:52,898 http_request_randomizer.requests.parsers.ProxyForEuParser DEBUG    Proxy with low bandwidth: 0.178\n",
      "2018-03-11 17:39:52,899 http_request_randomizer.requests.parsers.ProxyForEuParser DEBUG    Proxy Invalid: <zip object at 0x106492308>\n",
      "2018-03-11 17:39:52,900 http_request_randomizer.requests.parsers.ProxyForEuParser DEBUG    Proxy with low bandwidth: 0.435\n",
      "2018-03-11 17:39:52,900 http_request_randomizer.requests.parsers.ProxyForEuParser DEBUG    Proxy Invalid: <zip object at 0x106492808>\n",
      "2018-03-11 17:39:52,902 http_request_randomizer.requests.parsers.ProxyForEuParser DEBUG    Proxy with low bandwidth: 0.361\n",
      "2018-03-11 17:39:52,902 http_request_randomizer.requests.parsers.ProxyForEuParser DEBUG    Proxy Invalid: <zip object at 0x106492b88>\n",
      "2018-03-11 17:39:53,188 http_request_randomizer.requests.parsers.RebroWeeblyParser WARNING  Proxy Provider url failed: http://rebro.weebly.com\n",
      "2018-03-11 17:39:53,642 http_request_randomizer.requests.parsers.SamairProxyParser WARNING  Proxy Provider url failed: https://premproxy.com/list/\n",
      "2018-03-11 17:39:53,643 http_request_randomizer.requests.parsers.SamairProxyParser DEBUG    Pages: set()\n",
      "2018-03-11 17:39:53,678 root   DEBUG    Using headers: {'Connection': 'close', 'User-Agent': 'Opera/9.80 (Windows NT 6.1 x64; U; en) Presto/2.7.62 Version/11.0'}\n",
      "2018-03-11 17:39:53,678 root   DEBUG    Using proxy: 190.198.4.220:8080 | FreeProxy\n",
      "2018-03-11 17:39:54,158 root   DEBUG    === Initialized Proxy Parsers ===\n",
      "2018-03-11 17:39:54,159 root   DEBUG    \t FreeProxy Parser of 'http://free-proxy-list.net' with required bandwidth: '150' KBs\n",
      "2018-03-11 17:39:54,159 root   DEBUG    \t ProxyForEU Parser of 'http://proxyfor.eu/geo.php' with required bandwidth: '1.0' KBs\n",
      "2018-03-11 17:39:54,160 root   DEBUG    \t RebroWeebly Parser of 'http://rebro.weebly.com' with required bandwidth: '150' KBs\n",
      "2018-03-11 17:39:54,161 root   DEBUG    \t SemairProxy Parser of 'https://premproxy.com/list/' with required bandwidth: '150' KBs\n",
      "2018-03-11 17:39:54,162 root   DEBUG    =================================\n"
     ]
    },
    {
     "name": "stdout",
     "output_type": "stream",
     "text": [
      "RR Status 200\n",
      "Resumes: + 0\n"
     ]
    },
    {
     "name": "stderr",
     "output_type": "stream",
     "text": [
      "2018-03-11 17:39:54,784 http_request_randomizer.requests.parsers.FreeProxyParser DEBUG    Proxy Invalid: <zip object at 0x106d45748>\n",
      "2018-03-11 17:39:55,042 http_request_randomizer.requests.parsers.ProxyForEuParser DEBUG    Proxy with low bandwidth: 0.178\n",
      "2018-03-11 17:39:55,043 http_request_randomizer.requests.parsers.ProxyForEuParser DEBUG    Proxy Invalid: <zip object at 0x1065a8e08>\n",
      "2018-03-11 17:39:55,044 http_request_randomizer.requests.parsers.ProxyForEuParser DEBUG    Proxy with low bandwidth: 0.435\n",
      "2018-03-11 17:39:55,045 http_request_randomizer.requests.parsers.ProxyForEuParser DEBUG    Proxy Invalid: <zip object at 0x1065a8608>\n",
      "2018-03-11 17:39:55,046 http_request_randomizer.requests.parsers.ProxyForEuParser DEBUG    Proxy with low bandwidth: 0.361\n",
      "2018-03-11 17:39:55,047 http_request_randomizer.requests.parsers.ProxyForEuParser DEBUG    Proxy Invalid: <zip object at 0x105bcdbc8>\n",
      "2018-03-11 17:39:55,272 http_request_randomizer.requests.parsers.RebroWeeblyParser WARNING  Proxy Provider url failed: http://rebro.weebly.com\n",
      "2018-03-11 17:39:55,692 http_request_randomizer.requests.parsers.SamairProxyParser WARNING  Proxy Provider url failed: https://premproxy.com/list/\n",
      "2018-03-11 17:39:55,693 http_request_randomizer.requests.parsers.SamairProxyParser DEBUG    Pages: set()\n",
      "2018-03-11 17:39:55,729 root   DEBUG    Using headers: {'Connection': 'close', 'User-Agent': 'Mozilla/5.0 (Windows NT 6.1; rv:2.0b11pre) Gecko/20110126 Firefox/4.0b11pr'}\n",
      "2018-03-11 17:39:55,730 root   DEBUG    Using proxy: 202.77.127.98:3128 | FreeProxy\n",
      "2018-03-11 17:39:56,093 root   DEBUG    === Initialized Proxy Parsers ===\n",
      "2018-03-11 17:39:56,093 root   DEBUG    \t FreeProxy Parser of 'http://free-proxy-list.net' with required bandwidth: '150' KBs\n",
      "2018-03-11 17:39:56,094 root   DEBUG    \t ProxyForEU Parser of 'http://proxyfor.eu/geo.php' with required bandwidth: '1.0' KBs\n",
      "2018-03-11 17:39:56,095 root   DEBUG    \t RebroWeebly Parser of 'http://rebro.weebly.com' with required bandwidth: '150' KBs\n",
      "2018-03-11 17:39:56,096 root   DEBUG    \t SemairProxy Parser of 'https://premproxy.com/list/' with required bandwidth: '150' KBs\n",
      "2018-03-11 17:39:56,096 root   DEBUG    =================================\n"
     ]
    },
    {
     "name": "stdout",
     "output_type": "stream",
     "text": [
      "RR Status 200\n",
      "Resumes: + 0\n"
     ]
    },
    {
     "name": "stderr",
     "output_type": "stream",
     "text": [
      "2018-03-11 17:39:56,738 http_request_randomizer.requests.parsers.FreeProxyParser DEBUG    Proxy Invalid: <zip object at 0x105735388>\n",
      "2018-03-11 17:39:56,988 http_request_randomizer.requests.parsers.ProxyForEuParser DEBUG    Proxy with low bandwidth: 0.178\n",
      "2018-03-11 17:39:56,989 http_request_randomizer.requests.parsers.ProxyForEuParser DEBUG    Proxy Invalid: <zip object at 0x105b09148>\n",
      "2018-03-11 17:39:56,990 http_request_randomizer.requests.parsers.ProxyForEuParser DEBUG    Proxy with low bandwidth: 0.435\n",
      "2018-03-11 17:39:56,991 http_request_randomizer.requests.parsers.ProxyForEuParser DEBUG    Proxy Invalid: <zip object at 0x105b09248>\n",
      "2018-03-11 17:39:56,992 http_request_randomizer.requests.parsers.ProxyForEuParser DEBUG    Proxy with low bandwidth: 0.361\n",
      "2018-03-11 17:39:56,992 http_request_randomizer.requests.parsers.ProxyForEuParser DEBUG    Proxy Invalid: <zip object at 0x10519af08>\n",
      "2018-03-11 17:39:57,247 http_request_randomizer.requests.parsers.RebroWeeblyParser WARNING  Proxy Provider url failed: http://rebro.weebly.com\n",
      "2018-03-11 17:39:57,745 http_request_randomizer.requests.parsers.SamairProxyParser WARNING  Proxy Provider url failed: https://premproxy.com/list/\n",
      "2018-03-11 17:39:57,746 http_request_randomizer.requests.parsers.SamairProxyParser DEBUG    Pages: set()\n",
      "2018-03-11 17:39:57,782 root   DEBUG    Using headers: {'Connection': 'close', 'User-Agent': 'Mozilla/5.0 (X11; U; Linux i686; en-US; rv:1.9.1.9) Gecko/20100401 Ubuntu/9.10 (karmic) Firefox/3.5.9 GTB7.'}\n",
      "2018-03-11 17:39:57,783 root   DEBUG    Using proxy: 36.82.216.141:8080 | FreeProxy\n",
      "2018-03-11 17:39:58,241 root   DEBUG    === Initialized Proxy Parsers ===\n",
      "2018-03-11 17:39:58,242 root   DEBUG    \t FreeProxy Parser of 'http://free-proxy-list.net' with required bandwidth: '150' KBs\n",
      "2018-03-11 17:39:58,243 root   DEBUG    \t ProxyForEU Parser of 'http://proxyfor.eu/geo.php' with required bandwidth: '1.0' KBs\n",
      "2018-03-11 17:39:58,243 root   DEBUG    \t RebroWeebly Parser of 'http://rebro.weebly.com' with required bandwidth: '150' KBs\n",
      "2018-03-11 17:39:58,244 root   DEBUG    \t SemairProxy Parser of 'https://premproxy.com/list/' with required bandwidth: '150' KBs\n",
      "2018-03-11 17:39:58,245 root   DEBUG    =================================\n"
     ]
    },
    {
     "name": "stdout",
     "output_type": "stream",
     "text": [
      "RR Status 200\n",
      "Resumes: + 0\n",
      "Count 150\n",
      "\n",
      "Finance+Manager\n"
     ]
    },
    {
     "name": "stderr",
     "output_type": "stream",
     "text": [
      "2018-03-11 17:39:58,904 http_request_randomizer.requests.parsers.FreeProxyParser DEBUG    Proxy Invalid: <zip object at 0x106869e08>\n",
      "2018-03-11 17:39:59,158 http_request_randomizer.requests.parsers.ProxyForEuParser DEBUG    Proxy with low bandwidth: 0.178\n",
      "2018-03-11 17:39:59,159 http_request_randomizer.requests.parsers.ProxyForEuParser DEBUG    Proxy Invalid: <zip object at 0x105fa8788>\n",
      "2018-03-11 17:39:59,160 http_request_randomizer.requests.parsers.ProxyForEuParser DEBUG    Proxy with low bandwidth: 0.435\n",
      "2018-03-11 17:39:59,161 http_request_randomizer.requests.parsers.ProxyForEuParser DEBUG    Proxy Invalid: <zip object at 0x105fa8c88>\n",
      "2018-03-11 17:39:59,162 http_request_randomizer.requests.parsers.ProxyForEuParser DEBUG    Proxy with low bandwidth: 0.361\n",
      "2018-03-11 17:39:59,163 http_request_randomizer.requests.parsers.ProxyForEuParser DEBUG    Proxy Invalid: <zip object at 0x10586df88>\n",
      "2018-03-11 17:39:59,721 http_request_randomizer.requests.parsers.RebroWeeblyParser WARNING  Proxy Provider url failed: http://rebro.weebly.com\n",
      "2018-03-11 17:40:00,317 http_request_randomizer.requests.parsers.SamairProxyParser WARNING  Proxy Provider url failed: https://premproxy.com/list/\n",
      "2018-03-11 17:40:00,318 http_request_randomizer.requests.parsers.SamairProxyParser DEBUG    Pages: set()\n",
      "2018-03-11 17:40:00,356 root   DEBUG    Using headers: {'Connection': 'close', 'User-Agent': 'Mozilla/5.0 (Macintosh; U; Intel Mac OS X 10_6_6; en-US) AppleWebKit/534.18 (KHTML, like Gecko) Chrome/11.0.660.0 Safari/534.1'}\n",
      "2018-03-11 17:40:00,357 root   DEBUG    Using proxy: 47.75.0.253:8081 | FreeProxy\n",
      "2018-03-11 17:40:00,773 root   DEBUG    === Initialized Proxy Parsers ===\n",
      "2018-03-11 17:40:00,773 root   DEBUG    \t FreeProxy Parser of 'http://free-proxy-list.net' with required bandwidth: '150' KBs\n",
      "2018-03-11 17:40:00,774 root   DEBUG    \t ProxyForEU Parser of 'http://proxyfor.eu/geo.php' with required bandwidth: '1.0' KBs\n",
      "2018-03-11 17:40:00,775 root   DEBUG    \t RebroWeebly Parser of 'http://rebro.weebly.com' with required bandwidth: '150' KBs\n",
      "2018-03-11 17:40:00,776 root   DEBUG    \t SemairProxy Parser of 'https://premproxy.com/list/' with required bandwidth: '150' KBs\n",
      "2018-03-11 17:40:00,776 root   DEBUG    =================================\n"
     ]
    },
    {
     "name": "stdout",
     "output_type": "stream",
     "text": [
      "RR Status 200\n",
      "Resumes: + 0\n"
     ]
    },
    {
     "name": "stderr",
     "output_type": "stream",
     "text": [
      "2018-03-11 17:40:01,465 http_request_randomizer.requests.parsers.FreeProxyParser DEBUG    Proxy Invalid: <zip object at 0x106a0dcc8>\n",
      "2018-03-11 17:40:01,755 http_request_randomizer.requests.parsers.ProxyForEuParser DEBUG    Proxy with low bandwidth: 0.178\n",
      "2018-03-11 17:40:01,756 http_request_randomizer.requests.parsers.ProxyForEuParser DEBUG    Proxy Invalid: <zip object at 0x1068c3c88>\n",
      "2018-03-11 17:40:01,757 http_request_randomizer.requests.parsers.ProxyForEuParser DEBUG    Proxy with low bandwidth: 0.435\n",
      "2018-03-11 17:40:01,758 http_request_randomizer.requests.parsers.ProxyForEuParser DEBUG    Proxy Invalid: <zip object at 0x1068ca1c8>\n",
      "2018-03-11 17:40:01,759 http_request_randomizer.requests.parsers.ProxyForEuParser DEBUG    Proxy with low bandwidth: 0.361\n",
      "2018-03-11 17:40:01,760 http_request_randomizer.requests.parsers.ProxyForEuParser DEBUG    Proxy Invalid: <zip object at 0x1068ca548>\n",
      "2018-03-11 17:40:02,075 http_request_randomizer.requests.parsers.RebroWeeblyParser WARNING  Proxy Provider url failed: http://rebro.weebly.com\n",
      "2018-03-11 17:40:02,792 http_request_randomizer.requests.parsers.SamairProxyParser WARNING  Proxy Provider url failed: https://premproxy.com/list/\n",
      "2018-03-11 17:40:02,793 http_request_randomizer.requests.parsers.SamairProxyParser DEBUG    Pages: set()\n",
      "2018-03-11 17:40:02,830 root   DEBUG    Using headers: {'Connection': 'close', 'User-Agent': 'Mozilla/5.0 (Windows; U; Windows NT 6.0; de-DE) AppleWebKit/528.16 (KHTML, like Gecko) Version/4.0 Safari/528.1'}\n",
      "2018-03-11 17:40:02,830 root   DEBUG    Using proxy: 223.25.103.154:3128 | ProxyForEU\n",
      "2018-03-11 17:40:03,255 root   DEBUG    === Initialized Proxy Parsers ===\n",
      "2018-03-11 17:40:03,256 root   DEBUG    \t FreeProxy Parser of 'http://free-proxy-list.net' with required bandwidth: '150' KBs\n",
      "2018-03-11 17:40:03,257 root   DEBUG    \t ProxyForEU Parser of 'http://proxyfor.eu/geo.php' with required bandwidth: '1.0' KBs\n",
      "2018-03-11 17:40:03,258 root   DEBUG    \t RebroWeebly Parser of 'http://rebro.weebly.com' with required bandwidth: '150' KBs\n",
      "2018-03-11 17:40:03,259 root   DEBUG    \t SemairProxy Parser of 'https://premproxy.com/list/' with required bandwidth: '150' KBs\n",
      "2018-03-11 17:40:03,259 root   DEBUG    =================================\n"
     ]
    },
    {
     "name": "stdout",
     "output_type": "stream",
     "text": [
      "RR Status 200\n",
      "Resumes: + 0\n"
     ]
    },
    {
     "name": "stderr",
     "output_type": "stream",
     "text": [
      "2018-03-11 17:40:04,022 http_request_randomizer.requests.parsers.FreeProxyParser DEBUG    Proxy Invalid: <zip object at 0x106366688>\n",
      "2018-03-11 17:40:04,330 http_request_randomizer.requests.parsers.ProxyForEuParser DEBUG    Proxy with low bandwidth: 0.178\n",
      "2018-03-11 17:40:04,331 http_request_randomizer.requests.parsers.ProxyForEuParser DEBUG    Proxy Invalid: <zip object at 0x10673f248>\n",
      "2018-03-11 17:40:04,332 http_request_randomizer.requests.parsers.ProxyForEuParser DEBUG    Proxy with low bandwidth: 0.435\n",
      "2018-03-11 17:40:04,333 http_request_randomizer.requests.parsers.ProxyForEuParser DEBUG    Proxy Invalid: <zip object at 0x105583f48>\n",
      "2018-03-11 17:40:04,334 http_request_randomizer.requests.parsers.ProxyForEuParser DEBUG    Proxy with low bandwidth: 0.361\n",
      "2018-03-11 17:40:04,335 http_request_randomizer.requests.parsers.ProxyForEuParser DEBUG    Proxy Invalid: <zip object at 0x105583488>\n",
      "2018-03-11 17:40:04,569 http_request_randomizer.requests.parsers.RebroWeeblyParser WARNING  Proxy Provider url failed: http://rebro.weebly.com\n",
      "2018-03-11 17:40:05,213 http_request_randomizer.requests.parsers.SamairProxyParser WARNING  Proxy Provider url failed: https://premproxy.com/list/\n",
      "2018-03-11 17:40:05,214 http_request_randomizer.requests.parsers.SamairProxyParser DEBUG    Pages: set()\n",
      "2018-03-11 17:40:05,252 root   DEBUG    Using headers: {'Connection': 'close', 'User-Agent': 'Mozilla/5.0 (Macintosh; U; Intel Mac OS X 10_6_3; en-us) AppleWebKit/534.1+ (KHTML, like Gecko) Version/5.0 Safari/533.1'}\n",
      "2018-03-11 17:40:05,253 root   DEBUG    Using proxy: 151.80.140.233:54566 | FreeProxy\n",
      "2018-03-11 17:40:05,639 root   DEBUG    === Initialized Proxy Parsers ===\n",
      "2018-03-11 17:40:05,640 root   DEBUG    \t FreeProxy Parser of 'http://free-proxy-list.net' with required bandwidth: '150' KBs\n",
      "2018-03-11 17:40:05,641 root   DEBUG    \t ProxyForEU Parser of 'http://proxyfor.eu/geo.php' with required bandwidth: '1.0' KBs\n",
      "2018-03-11 17:40:05,642 root   DEBUG    \t RebroWeebly Parser of 'http://rebro.weebly.com' with required bandwidth: '150' KBs\n",
      "2018-03-11 17:40:05,642 root   DEBUG    \t SemairProxy Parser of 'https://premproxy.com/list/' with required bandwidth: '150' KBs\n",
      "2018-03-11 17:40:05,643 root   DEBUG    =================================\n"
     ]
    },
    {
     "name": "stdout",
     "output_type": "stream",
     "text": [
      "RR Status 200\n",
      "Resumes: + 0\n",
      "Count 150\n",
      "\n",
      "Financial+Director\n"
     ]
    },
    {
     "name": "stderr",
     "output_type": "stream",
     "text": [
      "2018-03-11 17:40:06,230 http_request_randomizer.requests.parsers.FreeProxyParser DEBUG    Proxy Invalid: <zip object at 0x1056fa5c8>\n",
      "2018-03-11 17:40:06,520 http_request_randomizer.requests.parsers.ProxyForEuParser DEBUG    Proxy with low bandwidth: 0.178\n",
      "2018-03-11 17:40:06,521 http_request_randomizer.requests.parsers.ProxyForEuParser DEBUG    Proxy Invalid: <zip object at 0x106d26ec8>\n",
      "2018-03-11 17:40:06,522 http_request_randomizer.requests.parsers.ProxyForEuParser DEBUG    Proxy with low bandwidth: 0.435\n",
      "2018-03-11 17:40:06,523 http_request_randomizer.requests.parsers.ProxyForEuParser DEBUG    Proxy Invalid: <zip object at 0x106d3e408>\n",
      "2018-03-11 17:40:06,524 http_request_randomizer.requests.parsers.ProxyForEuParser DEBUG    Proxy with low bandwidth: 0.361\n",
      "2018-03-11 17:40:06,525 http_request_randomizer.requests.parsers.ProxyForEuParser DEBUG    Proxy Invalid: <zip object at 0x106d3e788>\n",
      "2018-03-11 17:40:06,818 http_request_randomizer.requests.parsers.RebroWeeblyParser WARNING  Proxy Provider url failed: http://rebro.weebly.com\n",
      "2018-03-11 17:40:07,330 http_request_randomizer.requests.parsers.SamairProxyParser WARNING  Proxy Provider url failed: https://premproxy.com/list/\n",
      "2018-03-11 17:40:07,331 http_request_randomizer.requests.parsers.SamairProxyParser DEBUG    Pages: set()\n",
      "2018-03-11 17:40:07,370 root   DEBUG    Using headers: {'Connection': 'close', 'User-Agent': 'Mozilla/5.0 (X11; U; Linux i686; de; rv:1.9.1) Gecko/20090624 Firefox/3.'}\n",
      "2018-03-11 17:40:07,371 root   DEBUG    Using proxy: 179.127.166.153:8080 | FreeProxy\n",
      "2018-03-11 17:40:07,739 root   DEBUG    === Initialized Proxy Parsers ===\n",
      "2018-03-11 17:40:07,740 root   DEBUG    \t FreeProxy Parser of 'http://free-proxy-list.net' with required bandwidth: '150' KBs\n",
      "2018-03-11 17:40:07,741 root   DEBUG    \t ProxyForEU Parser of 'http://proxyfor.eu/geo.php' with required bandwidth: '1.0' KBs\n",
      "2018-03-11 17:40:07,742 root   DEBUG    \t RebroWeebly Parser of 'http://rebro.weebly.com' with required bandwidth: '150' KBs\n",
      "2018-03-11 17:40:07,743 root   DEBUG    \t SemairProxy Parser of 'https://premproxy.com/list/' with required bandwidth: '150' KBs\n",
      "2018-03-11 17:40:07,744 root   DEBUG    =================================\n"
     ]
    },
    {
     "name": "stdout",
     "output_type": "stream",
     "text": [
      "RR Status 200\n",
      "Resumes: + 0\n"
     ]
    },
    {
     "name": "stderr",
     "output_type": "stream",
     "text": [
      "2018-03-11 17:40:08,342 http_request_randomizer.requests.parsers.FreeProxyParser DEBUG    Proxy Invalid: <zip object at 0x10629bb08>\n",
      "2018-03-11 17:40:08,635 http_request_randomizer.requests.parsers.ProxyForEuParser DEBUG    Proxy with low bandwidth: 0.178\n",
      "2018-03-11 17:40:08,636 http_request_randomizer.requests.parsers.ProxyForEuParser DEBUG    Proxy Invalid: <zip object at 0x106c96488>\n",
      "2018-03-11 17:40:08,638 http_request_randomizer.requests.parsers.ProxyForEuParser DEBUG    Proxy with low bandwidth: 0.435\n",
      "2018-03-11 17:40:08,640 http_request_randomizer.requests.parsers.ProxyForEuParser DEBUG    Proxy Invalid: <zip object at 0x106c96988>\n",
      "2018-03-11 17:40:08,642 http_request_randomizer.requests.parsers.ProxyForEuParser DEBUG    Proxy with low bandwidth: 0.361\n",
      "2018-03-11 17:40:08,643 http_request_randomizer.requests.parsers.ProxyForEuParser DEBUG    Proxy Invalid: <zip object at 0x106c96d08>\n",
      "2018-03-11 17:40:09,031 http_request_randomizer.requests.parsers.RebroWeeblyParser WARNING  Proxy Provider url failed: http://rebro.weebly.com\n",
      "2018-03-11 17:40:09,467 http_request_randomizer.requests.parsers.SamairProxyParser WARNING  Proxy Provider url failed: https://premproxy.com/list/\n",
      "2018-03-11 17:40:09,468 http_request_randomizer.requests.parsers.SamairProxyParser DEBUG    Pages: set()\n",
      "2018-03-11 17:40:09,507 root   DEBUG    Using headers: {'Connection': 'close', 'User-Agent': 'Mozilla/5.0 (X11; U; Linux armv7l; en-US; rv:1.9.2.14) Gecko/20110224 Firefox/3.6.14 MB860/Version.0.43.3.MB860.AmericaMovil.en.M'}\n",
      "2018-03-11 17:40:09,508 root   DEBUG    Using proxy: 134.35.122.13:8080 | FreeProxy\n",
      "2018-03-11 17:40:09,916 root   DEBUG    === Initialized Proxy Parsers ===\n",
      "2018-03-11 17:40:09,916 root   DEBUG    \t FreeProxy Parser of 'http://free-proxy-list.net' with required bandwidth: '150' KBs\n",
      "2018-03-11 17:40:09,917 root   DEBUG    \t ProxyForEU Parser of 'http://proxyfor.eu/geo.php' with required bandwidth: '1.0' KBs\n",
      "2018-03-11 17:40:09,918 root   DEBUG    \t RebroWeebly Parser of 'http://rebro.weebly.com' with required bandwidth: '150' KBs\n",
      "2018-03-11 17:40:09,919 root   DEBUG    \t SemairProxy Parser of 'https://premproxy.com/list/' with required bandwidth: '150' KBs\n",
      "2018-03-11 17:40:09,920 root   DEBUG    =================================\n"
     ]
    },
    {
     "name": "stdout",
     "output_type": "stream",
     "text": [
      "RR Status 200\n",
      "Resumes: + 0\n"
     ]
    },
    {
     "name": "stderr",
     "output_type": "stream",
     "text": [
      "2018-03-11 17:40:10,561 http_request_randomizer.requests.parsers.FreeProxyParser DEBUG    Proxy Invalid: <zip object at 0x104a2f608>\n",
      "2018-03-11 17:40:10,868 http_request_randomizer.requests.parsers.ProxyForEuParser DEBUG    Proxy with low bandwidth: 0.178\n",
      "2018-03-11 17:40:10,869 http_request_randomizer.requests.parsers.ProxyForEuParser DEBUG    Proxy Invalid: <zip object at 0x1067c9988>\n",
      "2018-03-11 17:40:10,870 http_request_randomizer.requests.parsers.ProxyForEuParser DEBUG    Proxy with low bandwidth: 0.435\n",
      "2018-03-11 17:40:10,871 http_request_randomizer.requests.parsers.ProxyForEuParser DEBUG    Proxy Invalid: <zip object at 0x1069bba08>\n",
      "2018-03-11 17:40:10,872 http_request_randomizer.requests.parsers.ProxyForEuParser DEBUG    Proxy with low bandwidth: 0.361\n",
      "2018-03-11 17:40:10,873 http_request_randomizer.requests.parsers.ProxyForEuParser DEBUG    Proxy Invalid: <zip object at 0x1069bba88>\n",
      "2018-03-11 17:40:11,111 http_request_randomizer.requests.parsers.RebroWeeblyParser WARNING  Proxy Provider url failed: http://rebro.weebly.com\n",
      "2018-03-11 17:40:11,545 http_request_randomizer.requests.parsers.SamairProxyParser WARNING  Proxy Provider url failed: https://premproxy.com/list/\n",
      "2018-03-11 17:40:11,546 http_request_randomizer.requests.parsers.SamairProxyParser DEBUG    Pages: set()\n",
      "2018-03-11 17:40:11,586 root   DEBUG    Using headers: {'Connection': 'close', 'User-Agent': 'Mozilla/5.0 (X11; U; Linux i686; fr; rv:1.9.2.2) Gecko/20100316 Firefox/3.6.'}\n",
      "2018-03-11 17:40:11,586 root   DEBUG    Using proxy: 190.90.23.154:8080 | FreeProxy\n"
     ]
    },
    {
     "name": "stdout",
     "output_type": "stream",
     "text": [
      "RR Status 200\n",
      "Resumes: + 0\n",
      "Count 150\n",
      "Total Urls: 50\n"
     ]
    }
   ],
   "source": [
    "# Iterate through job_titles_list and count increments at 50 per page\n",
    "urls= {}\n",
    "n = 150 #number of entries to read in from indeed.com\n",
    "queries = []\n",
    "job_titles_list = ['Financial+Operations', 'Financial+Planning+Analysis', 'Revenue+Manager',\\\n",
    "              'CFO', 'Finance+Manager', 'Financial+Director']\n",
    "\n",
    "for job in job_titles_list:\n",
    "    count, flag = [0, True]\n",
    "    print(\"\\n\" + job)\n",
    "    \n",
    "    #While we have looked at fewer than n resumes\n",
    "    while(count < n):\n",
    "        # Get proxy\n",
    "        req_proxy = RequestProxy()\n",
    "        \n",
    "        # Generate request\n",
    "        queries.append(\"https://www.indeed.com/resumes?q=\"+job+\"&l=New+York%2C+NY&cb=jt&start=\"+str(count))\n",
    "        resumelist = req_proxy.generate_proxied_request(queries[-1])\n",
    "        \n",
    "        # Find resumes from the search query return\n",
    "        ans = find_resumes(resumelist)\n",
    "        \n",
    "        # Print how many we found\n",
    "        print(\"Resumes: +\", len(ans))\n",
    "        \n",
    "        # Update our main url storage datastructure\n",
    "        urls.update(ans)\n",
    "        \n",
    "        \"\"\"\n",
    "        # When we test it fully we will need try and except blocks but it slows us down until then\n",
    "        except:\n",
    "            print(\"Couldn't find resume: \", count)\n",
    "            flag = False\n",
    "        \"\"\"\n",
    "        # 50 results per page\n",
    "        count+=50\n",
    "        \n",
    "    print(\"Count\", count)\n",
    "\n",
    "print(\"Total Urls:\", len(urls))"
   ]
  },
  {
   "cell_type": "markdown",
   "metadata": {},
   "source": [
    "## TEST/DEBUG ABOVE CODE"
   ]
  },
  {
   "cell_type": "code",
   "execution_count": 10,
   "metadata": {},
   "outputs": [
    {
     "name": "stdout",
     "output_type": "stream",
     "text": [
      "Links checked:\n",
      "1) https://www.indeed.com/resumes?q=Financial+Operations&l=New+York%2C+NY&cb=jt&start=0\n",
      "2) https://www.indeed.com/resumes?q=Financial+Operations&l=New+York%2C+NY&cb=jt&start=50\n",
      "3) https://www.indeed.com/resumes?q=Financial+Operations&l=New+York%2C+NY&cb=jt&start=100\n",
      "4) https://www.indeed.com/resumes?q=Financial+Planning+Analysis&l=New+York%2C+NY&cb=jt&start=0\n",
      "5) https://www.indeed.com/resumes?q=Financial+Planning+Analysis&l=New+York%2C+NY&cb=jt&start=50\n",
      "6) https://www.indeed.com/resumes?q=Financial+Planning+Analysis&l=New+York%2C+NY&cb=jt&start=100\n",
      "7) https://www.indeed.com/resumes?q=Revenue+Manager&l=New+York%2C+NY&cb=jt&start=0\n",
      "8) https://www.indeed.com/resumes?q=Revenue+Manager&l=New+York%2C+NY&cb=jt&start=50\n",
      "9) https://www.indeed.com/resumes?q=Revenue+Manager&l=New+York%2C+NY&cb=jt&start=100\n",
      "10) https://www.indeed.com/resumes?q=CFO&l=New+York%2C+NY&cb=jt&start=0\n",
      "11) https://www.indeed.com/resumes?q=CFO&l=New+York%2C+NY&cb=jt&start=50\n",
      "12) https://www.indeed.com/resumes?q=CFO&l=New+York%2C+NY&cb=jt&start=100\n",
      "13) https://www.indeed.com/resumes?q=Finance+Manager&l=New+York%2C+NY&cb=jt&start=0\n",
      "14) https://www.indeed.com/resumes?q=Finance+Manager&l=New+York%2C+NY&cb=jt&start=50\n",
      "15) https://www.indeed.com/resumes?q=Finance+Manager&l=New+York%2C+NY&cb=jt&start=100\n",
      "16) https://www.indeed.com/resumes?q=Financial+Director&l=New+York%2C+NY&cb=jt&start=0\n",
      "17) https://www.indeed.com/resumes?q=Financial+Director&l=New+York%2C+NY&cb=jt&start=50\n",
      "18) https://www.indeed.com/resumes?q=Financial+Director&l=New+York%2C+NY&cb=jt&start=100\n",
      "Found:  50 resumes\n",
      "\n",
      "Sample Resume: \n",
      "<!DOCTYPE doctype html>\n",
      "\n",
      "<html><head><script src=\"//cdn.optimizely.com/js/7275028.js\"></script><meta content=\"text/html;charset=utf-8\" http-equiv=\"Content-Type\"/><title>Practice Assistant to Chairman of Otolaryngology - Practice Assistant to ... - New York, NY | Indeed</title><meta content=\"Practice Assistant to Chairman of Otolaryngology's Resume - Practice Assistant to Chairman of Otolaryngology. - Find millions of resumes on Indeed.com.\" name=\"description\"/><meta content=\"width=device-width,initial-scale=1.0,maximum-scale=1.0,user-scalable=no\" name=\"viewport\"/><meta content=\"115882278440564\" property=\"fb:app_id\"/><meta content=\"indeedjobs:indeed_resume\" property=\"og:type\"/><meta content=\"Practice Assistant to Chairman of Otolaryngology - Indeed Resume\" property=\"og:title\"/><meta content=\"Practice Assistant to Chairman of Otolaryngology's Resume - Practice Assistant to Chairman of Otolaryngology. - Find millions of resumes on Indeed.com.\" property=\"og:description\"/><meta content=\"https://www.indeed.com/r/d10ccad050c3d17c\" property=\"og:url\"/><meta content=\"http://labkit.indeed.com/static/indeed_fb.png\" property=\"og:image\"/><meta content=\"Indeed.com\" property=\"og:site_name\"/><meta content=\"Practice Assistant to Chairman of Otolaryngology's Resume\" name=\"keywords\"/><link href=\"https://www.indeed.com/r/d10ccad050c3d17c\" rel=\"canonical\"/><meta content=\"d10ccad050c3d17c\" name=\"resumeId\"/><meta content=\"noarchive\" name=\"robots\"/><link href=\"/resumes/s/baefdc3/styles-public-compiled.css\" media=\"all\" rel=\"stylesheet\" type=\"text/css\"/><script type=\"text/javascript\">window.__JSERROR__=[];window.onerror=function() { window.__JSERROR__.push(arguments)}</script><script type=\"text/javascript\">var googleAnalyticsDomains = ['indeed.com','indeed.com.au','indeed.com.br','indeed.ca','indeed.ch','indeed.cl','indeed.com.co','indeed.de','indeed.es','indeed.fr','indeed.co.uk','indeed.hk','indeed.ie','indeed.co.in','indeed.jp','indeed.com.mx','indeed.nl','indeed.com.sg','indeed.co.za','indeed.ae','indeed.fi','indeed.lu','indeed.com.my','indeed.com.pe','indeed.com.ph','indeed.com.pk','indeed.pt','indeed.co.ve'];\n",
      "            (function(i,s,o,g,r,a,m){i['GoogleAnalyticsObject']=r;i[r]=i[r]||function(){\n",
      "            (i[r].q=i[r].q||[]).push(arguments)},i[r].l=1*new Date();a=s.createElement(o),\n",
      "            m=s.getElementsByTagName(o)[0];a.async=1;a.src=g;m.parentNode.insertBefore(a,m)\n",
      "            })(window,document,'script','//www.google-analytics.com/analytics.js','ga');\n",
      "\n",
      "            ga('create', 'UA-90780-1', 'auto', {\n",
      "              'allowLinker': true\n",
      "            });\n",
      "            ga('require', 'linkid');\n",
      "            ga('require', 'linker');\n",
      "            ga('linker:autoLink', googleAnalyticsDomains, false, true);\n",
      "            ga('send', 'pageview');\n",
      "        </script>\n",
      "<script>\n",
      "        !function(f,b,e,v,n,t,s){if(f.fbq)return;n=f.fbq=function(){n.callMethod?\n",
      "        n.callMethod.apply(n,arguments):n.queue.push(arguments)};if(!f._fbq)f._fbq=n;\n",
      "        n.push=n;n.loaded=!0;n.version='2.0';n.queue=[];t=b.createElement(e);t.async=!0;\n",
      "        t.src=v;s=b.getElementsByTagName(e)[0];s.parentNode.insertBefore(t,s)}(window,\n",
      "        document,'script','https://connect.facebook.net/en_US/fbevents.js');\n",
      "\n",
      "        fbq('init', '579216298929618');\n",
      "        fbq('track', \"PageView\");\n",
      "    </script>\n",
      "<noscript>\n",
      "<img height=\"1\" src=\"https://www.facebook.com/tr?id=579216298929618&amp;ev=PageView&amp;noscript=1\" style=\"display:none\" width=\"1\"/>\n",
      "</noscript>\n",
      "<script type=\"text/javascript\">var _sift = _sift || []; _sift.push(['_setAccount', 'fb21e9c129']); _sift.push(['_setUserId', '1c8bfvbgeampublm']); _sift.push(['_trackPageview']);\n",
      "                (function() {\n",
      "                    function loadSift() {\n",
      "                        var sift = document.createElement('script');\n",
      "                        sift.type = 'text/javascript';\n",
      "                        sift.async = true;\n",
      "                        sift.src = ('https:' == document.location.protocol ? 'https://' : 'http://') + 'dtlilztwypawv.cloudfront.net/s.js';\n",
      "                        var s = document.getElementsByTagName('script')[0];\n",
      "                        s.parentNode.insertBefore(sift, s);\n",
      "                    }\n",
      "                    if (window.attachEvent) {\n",
      "                        window.attachEvent('onload', loadSift);\n",
      "                    } else {\n",
      "                        window.addEventListener('load', loadSift, false);\n",
      "                    }\n",
      "                })();\n",
      "            </script></head><body class=\"rexstyletst-newStyleWithBold\" data-tn-application=\"rex\" data-tn-olth=\"df189d746cb1525b9f27398121bd5879\" data-tn-originlogid=\"1c8bfvbofampudt9\" data-tn-originlogtype=\"rexRezGetView\"><link href=\"/resumes/static/css/icons.css\" rel=\"stylesheet\" type=\"text/css\"/><script type=\"text/javascript\">\n",
      "                function dismissLegalNotice() {\n",
      "                    document.getElementById('legalNoticeContainer').setAttribute(\"style\",\"display:none\");\n",
      "                    var d = new Date();\n",
      "                    d.setTime(d.getTime() + (30*24*60*60*1000));\n",
      "                    var expires = 'expires='+d.toUTCString();\n",
      "                    document.cookie = 'LNFI=1; ' + expires;\n",
      "                }\n",
      "            </script><div id=\"legalNoticeContainer\" style=\"display:none;\"></div><div data-tn-section=\"global-nav\" id=\"g_nav\"><table cellpadding=\"0\" cellspacing=\"0\" width=\"100%\"><tbody><tr><td nowrap=\"\"><div data-tn-component=\"left-nav\" id=\"p_nav\"><span class=\"navBi\"><a data-tn-element=\"jobs-link\" data-tn-link=\"\" href=\"https://www.indeed.com?hl=en\" id=\"jobsLink\" title=\"Find Jobs\">Find Jobs</a></span><span class=\"navBi\"><a class=\"selected\" data-tn-element=\"find-resume-link\" data-tn-link=\"\" href=\"/resumes\" id=\"rezLink\">Find Resumes</a></span><span class=\"navBi\"><a data-tn-element=\"employers-link\" data-tn-link=\"\" href=\"https://ads.indeed.com?hl=en&amp;cc=US\" id=\"empLink\" onclick=\"if (!this.href.match('&amp;isid=rezsearch&amp;ikw=')) this.href += '&amp;isid=rezsearch&amp;ikw=rezglobalnav';\">Employers</a></span></div></td><td align=\"right\" nowrap=\"\"><div data-tn-component=\"right-nav\" id=\"u_nav\">\n",
      "<script type=\"text/javascript\">\n",
      "                            function isUserOptionsOpen() {\n",
      "                                    return document.getElementById('userOptions').className == 'open';\n",
      "                            }\n",
      "\n",
      "                            function hideUserOptions(label,options) {\n",
      "                                    options.className = '';\n",
      "                                    label.className = 'navBi';\n",
      "                            }\n",
      "\n",
      "                            function toggleUserOptions(e) {\n",
      "                                    var options = document.getElementById('userOptions');\n",
      "                                    var label = document.getElementById('userOptionsLabel');\n",
      "                                    if ( isUserOptionsOpen() ) {\n",
      "                                            hideUserOptions( label, options );\n",
      "                                            if ( !e.keyCode ) {\n",
      "                                                    label.blur();\n",
      "                                            }\n",
      "                                    } else {\n",
      "                                            options.className = 'open';\n",
      "                                            label.className = 'navBi active';\n",
      "                                            document.onclick = function() { hideUserOptions(label,options); document.onclick = function() { }; };\n",
      "                                            if (e.keyCode && e.keyCode == 13) {\n",
      "                                                    var fL = gbid('userOptions').getElementsByTagName('a')[0];\n",
      "                                                    if (fL) { fL.focus(); }\n",
      "                                            }\n",
      "                                            else {\n",
      "                                                    label.blur();\n",
      "                                            }\n",
      "                                    }\n",
      "                                    stopPropagation(e);\n",
      "\n",
      "                            }\n",
      "\n",
      "                            function stopPropagation(e) {\n",
      "                                    var e = e || window.event;\n",
      "                                    e.stopPropagation ? e.stopPropagation() : e.cancelBubble = true;\n",
      "                            }\n",
      "                    </script>\n",
      "<span class=\"navBi\" id=\"navpromo\"><a class=\"promo_link\" href=\"https://ads.indeed.com/?hl=en&amp;co=US\" onclick=\"if (!this.href.match('&amp;isid=rezsearch&amp;ikw=')) this.href += '&amp;isid=rezsearch&amp;ikw=reznav';\">Post a Job</a></span> <span class=\"navBi\"><a data-tn-element=\"sign-in\" data-tn-link=\"\" href=\"/resumes/account/login?dest=%2Fr%2Fd10ccad050c3d17c\" id=\"userOptionsLabel\" rel=\"nofollow\">Sign in</a></span></div></td></tr></tbody></table></div><div id=\"page_frame\"><div id=\"page_header\"><div id=\"search_header\"><a href=\"/resumes\" id=\"logo_link\"><img alt=\"Indeed Resume\" id=\"indeed_logo\" src=\"/resumes/static/images/indeed_resume_header.png\"/></a><form action=\"/resumes\" autocomplete=\"off\" id=\"rezsearch\" method=\"get\"><table id=\"search_table\"><tr><td><label for=\"query\" id=\"query_label\">what</label></td><td><label for=\"location\" id=\"location_label\">where</label></td><td></td></tr><tr><td><div class=\"input_container\" id=\"query_input_container\"><input autofocus=\"autofocus\" class=\"query input\" id=\"query\" name=\"q\" type=\"text\" value=\"\"/></div></td><td><div class=\"input_container\" id=\"location_input_container\"><input class=\"location input\" id=\"location\" name=\"l\" type=\"text\"/></div></td><td><button class=\"input_submit\" data-tn-element=\"find-resumes-button\" data-tn-link=\"\" id=\"submit\" type=\"submit\"><span class=\"input-submit-text\">Find Resumes</span></button></td></tr><tr><td><div id=\"query_required_prompt\"></div></td><td></td><td id=\"advanced_container\"><a class=\"sl\" href=\"/resumes/advanced?sz=\" id=\"advanced_search\">Advanced Search</a></td></tr></table></form></div></div><div id=\"page_content\"><div id=\"page_content\"><div id=\"resume_content\"><div class=\"message-banner-info\" data-tn-section=\"banner-privacy\" style=\"margin-bottom:20px\"><table><tr><td align=\"left\" width=\"30\"><img height=\"22\" src=\"/resumes/static/images/info.gif\" width=\"22\"/></td><td><p style=\"font-weight:bold;font-size:14px\">To help ensure jobseeker privacy, some information has been hidden.</p>To see full resume details, log in to your Indeed account or create an account for free.<div style=\"margin-top:5px\"><a data-tn-element=\"banner-log-in\" data-tn-link=\"redirect\" href=\"/resumes/account/login?dest=%2Fr%2Fd10ccad050c3d17c\" id=\"signInFromBanner\" rel=\"nofollow\">Sign in</a>   <a data-tn-element=\"banner-sign-in\" data-tn-link=\"redirect\" href=\"/resumes/account/register?dest=%2Fr%2Fd10ccad050c3d17c\" id=\"registerFromBanner\" rel=\"nofollow\">Create an account</a></div></td></tr></table></div><div class=\"hresume\" id=\"resume\" itemscope=\"\" itemtype=\"http://schema.org/Person\"><div id=\"resume_head\"></div><div class=\"vcard single_form-content\" id=\"resume_body\"><div class=\"last basicInfo-content\" id=\"basic_info_row\"><div class=\"data_display\" id=\"basic_info_cell\"><h1 class=\"fn \" id=\"resume-contact\" itemprop=\"name\">Practice Assistant to Chairman of Otolaryngology</h1><h2 id=\"headline\" itemprop=\"jobTitle\">Practice Assistant to Chairman of Otolaryngology - Columbia Presbyterian</h2><div id=\"contact_info_container\"><div class=\"adr\" itemprop=\"address\" itemscope=\"\" itemtype=\"http://schema.org/PostalAddress\"><p class=\"locality\" id=\"headline_location\" itemprop=\"addressLocality\">New York, NY</p></div><div class=\"separator-hyphen\">-</div></div><p id=\"relocation_status\">Willing to relocate: Anywhere</p><p id=\"employment_eligibility\">Authorized to work in the US for any employer</p></div></div><div class=\"section-item workExperience-content\"><div><div class=\"section_title\"><h2>Work Experience</h2></div></div><div class=\"items-container\" id=\"work-experience-items\"><div class=\"work-experience-section \" id=\"workExperience-EegghXuJ1oeiIw2SBVVUiQ\"><div class=\"data_display\"><p class=\"work_title title\">Practice Assistant to Chairman of Otolaryngology</p><div class=\"work_company\" itemprop=\"worksFor\" itemscope=\"\" itemtype=\"http://schema.org/Organization\"><span class=\"bold\" itemprop=\"name\">Columbia Presbyterian</span></div><div class=\"separator-hyphen\">-</div><p class=\"work_dates\">May 2017 to Present</p><p class=\"work_description\">• Assist with the coordination of all activities related to the orderly running of the physician practice and team coverage in the Department of Otolaryngology-Head and Neck Surgery Faculty Practice. <br/>• Schedule surgical cases including the coordination of all clinical and administrative documentation required for pre-surgical testing and securing the operating room. <br/>• Maintain, manage, and distribute physician schedules to the practice, clinic staff, and administration. <br/>• Answer phones in a pleasant/responsive manner and direct calls appropriately; take messages that are clear and legible and disseminate detailed information. <br/>• Schedule appointments, office visits, ancillary services, surgical cases and academic activities in accordance with proper protocols for both new and established patients.</p></div></div><div class=\"work-experience-section \" id=\"workExperience-EegghXuJ_ZiiIw2SBVVUiQ\"><div class=\"data_display\"><p class=\"work_title title\">Front office Manager</p><div class=\"work_company\"><span class=\"bold\">Weill Cornell Medical College</span> <div class=\"separator-hyphen\">-</div> <div class=\"inline-block\"><span>New York, NY</span></div></div><div class=\"separator-hyphen\">-</div><p class=\"work_dates\">November 2014 to May 2017</p><p class=\"work_description\">• Supports the Senior Practice Administrator as Super-User for EPIC templating. Responsible for training of new and established employees in office policy and procedures; periodically reinforces office policies and procedures with support staff; arranges in-service training, as required. <br/>• Under direction of the Senior Practice Administrator, implements policies, procedures, systems and best practices, and completes special projects as assigned. <br/>• Assists physicians making arrangements for travel, meetings, seminars and conferences. Assists physician with obtaining reimbursement for business expenditures. Keeps and updates physicians' calendar and coordinates meetings. <br/>• Schedules appointments for patients utilizing computer systems; assist with scheduling and phones when needed. Initiates, maintains and updates EMR medical records for outpatient visits. Registers new patients in Epic system. <br/>• Sets up appointment and arranges for all laboratory and diagnostic tests, x-rays, and schedules admissions and procedures; confirms appointments. Checks eligibility of insurance. <br/>• Obtains pre-certification numbers for patients with managed care coverage. Forwards refill of prescription requests to nursing staff as per physician's consent. Scans Medical Information via EPIC. <br/>• Ensures customer service excellence via We Care Customer Service training and familiarity with Weill Cornell Standards. Conforms to all applicable HIPAA, billing, compliance and safety guidelines. <br/>• Screens mail, prepares correspondence, maintains calendars, responsible for travel arrangements and seminar support, schedules meetings, prepares and/or collects materials for meetings. Assists with physician's research activities, if applicable. <br/>• Addresses patients' complaints and problems. <br/>• Covers for other secretarial staff for lunch, vacation, sick and as deemed necessary.</p></div></div><div class=\"work-experience-section \" id=\"workExperience-EegghXuJ_ZmiIw2SBVVUiQ\"><div class=\"data_display\"><p class=\"work_title title\">Revenue Cycle Representative</p><div class=\"work_company\"><span class=\"bold\">Columbia University Medical Center</span> <div class=\"separator-hyphen\">-</div> <div class=\"inline-block\"><span>New York, NY</span></div></div><div class=\"separator-hyphen\">-</div><p class=\"work_dates\">March 2014 to November 2014</p><p class=\"work_description\">• Responsible for securing accounts by verifying insurance eligibility using available systems such as MPV and web based payer eligibility tools <br/>• Notifies patients financial responsibility and obligation <br/>• Responsible for the correct identification and selection of appropriate insurance FSCs and reviews entire account for continuity</p></div></div><div class=\"work-experience-section \" id=\"workExperience-EegghXuJ_ZqiIw2SBVVUiQ\"><div class=\"data_display\"><p class=\"work_title title\">Human Service Specialist II (Medicaid Eligibility Supervisor)</p><div class=\"work_company\"><span class=\"bold\">SC Dept. of Health and Human Services</span> <div class=\"separator-hyphen\">-</div> <div class=\"inline-block\"><span>Columbia, SC</span></div></div><div class=\"separator-hyphen\">-</div><p class=\"work_dates\">March 2008 to January 2014</p><p class=\"work_description\">Columbia, SC <br/>Human Service Specialist II (Medicaid Eligibility Supervisor) <br/>• Supervises Medicaid eligibility staff and manages workloads within a region. Develops, plans, implements, and monitors, assesses, and coordinates eligibility activities. <br/>• Supervisor will use their discretion as much as possible and will request supervisory intervention and guidance on an as needed basis. <br/>• Determines initiatives for ways to combine, consolidate, and centralize the workflow within a region to maximize efficiency and in a way that will support the agency's restructuring plan for process improvement. <br/>• Ensures standardized procedures for Medicaid eligibility staff. <br/>• Provides continuous process improvement feedback on any job related activities. Directs, manages, and coordinates communication, staff development needs and quality improvement efforts to ensure Medicaid eligibility employees are accurately determining Medicaid eligibility according to the Medicaid policy and procedures. <br/>• Plans, directs, assesses and supervises Medicaid staff to ensure compliance with agency's policies. Monitors workloads and processes within a region to ensure maximum efficiency and minimize customer service complaints. <br/>• Directs and manages all personnel activities to ensure accountability, appropriateness and accuracy of all DHHS personnel policies and procedures. <br/>• Performs and coordinates emergency preparedness/shelter duty activities as assigned by supervisor. <br/>•  Prepares and provides productivity reports and attends meetings/trainings.</p></div></div><div class=\"work-experience-section last\" id=\"workExperience-EegghXuJ_ZuiIw2SBVVUiQ\"><div class=\"data_display\"><p class=\"work_title title\">Medial Biller/Receptionist</p><div class=\"work_company\"><span class=\"bold\">Columbia Presbyterian Hospital</span> <div class=\"separator-hyphen\">-</div> <div class=\"inline-block\"><span>New York, NY</span></div></div><div class=\"separator-hyphen\">-</div><p class=\"work_dates\">September 2001 to August 2005</p><p class=\"work_description\">• Verify, review and update accuracy of insurance <br/>• Register patient demographics <br/>• Entered charges on IDX for Nine Doctors <br/>• Issued credentialing forms to doctors</p></div></div></div></div><div class=\"section-item education-content\"><div><div class=\"section_title\"><h2>Education</h2></div></div><div class=\"items-container\" id=\"education-items\"><div class=\"education-section last\" id=\"education-EegghXuJ_Z2iIw2SBVVUiQ\"><div class=\"data_display\" itemprop=\"alumniOf\" itemscope=\"\" itemtype=\"http://schema.org/EducationalOrganization\"><p class=\"edu_title\">Bachelors of Science</p><div class=\"edu_school\"><span class=\"bold\" itemprop=\"name\">Benedict College Bachelors of Science in Child and Family Development</span> <div class=\"separator-hyphen\">-</div> <div class=\"inline-block\" itemprop=\"address\" itemscope=\"\" itemtype=\"http://schema.org/PostalAddress\"><span itemprop=\"addressLocality\">Columbia, SC</span></div></div><p class=\"edu_dates\">May 2006</p></div></div></div></div></div></div><div data-tn-section=\"sidebar\" id=\"right_sidebar\"><div id=\"right_sidebar_actions\" style=\"padding-top:0px;\"><div class=\"sidebar_container\" id=\"contact_container\"><a class=\"button\" data-tn-element=\"resume-contact-signup\" data-tn-link=\"redirect\" href=\"/resumes/account/register?dest=%2Fresumes%2Fadv%2Fsignup%2Fr%2Fd10ccad050c3d17c&amp;from=passport\" id=\"contact_button\" rel=\"nofollow\">Email Practice Assistant to Chairman of Otolaryngology</a></div><div class=\"resume_actions\" id=\"resume_actions_download\"><a class=\"button download_button\" data-tn-action-click=\"\" data-tn-element=\"download-resume\" href=\"/resumes/account/login?dest=%2Fr%2Fd10ccad050c3d17c\" id=\"download_pdf_button\" rel=\"nofollow\">Download Resume</a></div><div class=\"resume_actions\" id=\"resume_actions_save\"><div class=\"sidebar_container\" id=\"save_resume_container\" style=\"margin-bottom: 10px\"><a class=\"button sidebar_button anon\" data-tn-element=\"save-resume-login\" data-tn-link=\"redirect\" href=\"/resumes/account/register?dest=/r/d10ccad050c3d17c\" id=\"save_resume_button\" rel=\"nofollow\">Save Resume</a></div></div><div class=\"resume_actions\" id=\"resume_actions_share\"><div class=\"sidebar_container\" id=\"share_by_email_container\"><a class=\"button\" data-tn-action-click=\"\" data-tn-element=\"forward-resume-button\" href=\"javascript:void0\" id=\"share_by_email_action\" rel=\"nofollow\">Forward Resume</a></div></div><div class=\"\" id=\"resume_actions_contacted\"><p>Updated: March 5, 2018</p></div><div id=\"recommendation_rightrail\"></div><div id=\"resume_actions_footer\"></div></div></div><div class=\"clear\"><!-- --></div></div></div><div class=\"clear\"><!-- --></div><div id=\"public_footer\"><a href=\"https://www.indeed.com/\">©2018 Indeed</a></div></div></div><script src=\"/resumes/s/2379f20/en_US.js\" type=\"text/javascript\"></script><script src=\"/resumes/s/153daa2/publicresume-start-compiled.js\" type=\"text/javascript\"></script>\n",
      "<script type=\"text/javascript\">\n",
      "            //<![CDATA[\n",
      "            (function() {\n",
      "var searchParams = \"\"; var site = {\"baseIndeedUrl\":\"https:\\u002F\\u002Fwww.indeed.com\", \"inspectletWebsiteId\":\"1728953977\", \"baseResumeUrl\":\"https:\\u002F\\u002Fwww.indeed.com\", \"changePasswordUrl\":\"https:\\u002F\\u002Fwww.indeed.com\\u002Fresumes\\u002Faccount\\u002Fchangeemail\", \"baseBillingUrl\":\"https:\\u002F\\u002Fbilling.indeed.com\", \"resumeSearchCrawlEnabled\":true, \"siftApiKey\":\"fb21e9c129\", \"crashTestModel\":{\"crashTestInjectablesCss\":[], \"crashTestInjectablesJs\":[]}, \"baseMyIndeedUrl\":\"https:\\u002F\\u002Fmy.indeed.com\", \"baseGoUrl\":\"https:\\u002F\\u002Fgo.indeed.com\", \"defaultRadius\":25, \"baseEmployersUrl\":\"https:\\u002F\\u002Femployers.indeed.com\", \"countryContext\":\"US\", \"resumeSearchEnabled\":true, \"baseAdsUrl\":\"https:\\u002F\\u002Fads.indeed.com\", \"baseCanonicalUrl\":\"https:\\u002F\\u002Fwww.indeed.com\", \"radiusUnit\":\"mi\", \"baseSecureUrl\":\"https:\\u002F\\u002Fsecure.indeed.com\", \"googleAnalyticsDomains\":[\"indeed.com\",\"indeed.com.au\",\"indeed.com.br\",\"indeed.ca\",\"indeed.ch\",\"indeed.cl\",\"indeed.com.co\",\"indeed.de\",\"indeed.es\",\"indeed.fr\",\"indeed.co.uk\",\"indeed.hk\",\"indeed.ie\",\"indeed.co.in\",\"indeed.jp\",\"indeed.com.mx\",\"indeed.nl\",\"indeed.com.sg\",\"indeed.co.za\",\"indeed.ae\",\"indeed.fi\",\"indeed.lu\",\"indeed.com.my\",\"indeed.com.pe\",\"indeed.com.ph\",\"indeed.com.pk\",\"indeed.pt\",\"indeed.co.ve\"], \"statistics\":{\"numberOfCountries\":\"60\", \"monthlyJobSearches\":\"3\", \"numberOfLanguages\":\"28\", \"monthlyUniqueVisitors\":\"200\"}}; var session = {\"ecosystem\":{\"mindyAvailable\":true, \"employerServiceAvailable\":true, \"proctorAvailable\":true, \"acmeAvailable\":true, \"userServiceAvailable\":true, \"autocompleteAvailable\":true, \"narcissusAvailable\":true}, \"alternateLanguages\":[{\"code\":\"en\", \"name\":\"English\"},{\"code\":\"es\", \"name\":\"español\"}], \"compiledCSSUrl\":\"\\u002Fresumes\\u002Fs\\u002Fbaefdc3\\u002Fstyles-public-compiled.css\", \"language\":\"en\", \"showDownloadPdf\":true, \"userAgent\":{\"app\":false, \"tablet\":false, \"androidApp\":false, \"phone\":false, \"smartPhone\":false, \"mobile\":false, \"geoLoc\":false, \"mobileApp\":false}, \"useCompiledCSS\":true, \"locale\":\"en_US\", \"useCompiledJavaScript\":true, \"compiledJavaScriptUrl\":\"\\u002Fresumes\\u002Fs\\u002F153daa2\\u002Fpublicresume-start-compiled.js\", \"showShareByEmail\":true, \"trackingKey\":\"\", \"useVersionizedI18nLocale\":true, \"versionizedI18nLocaleUrl\":\"\\u002Fresumes\\u002Fs\\u002F2379f20\\u002Fen_US.js\", \"supportsPostalCodes\":true}; var request = {\"logType\":\"rexRezGetView\", \"showPhoneNumber\":false, \"hashId\":\"5389286408626634702\", \"csrfParam\":\"indeedcsrftoken\", \"serpWindow\":\"ResumeSearch-5389286408626634702\", \"contactUnavailableReason\":\"NOT_LOGGED_IN\", \"searchEngineReferral\":false, \"trackingParams\":{\"from\": \"unknown\"}, \"alertId\":\"\", \"ie6\":false, \"free\":false, \"key\":\"2a475778e43ba25cf6c662e3ba8f7c891fb18bf79ba67cff7b1ae2ffa790dcfaa86d1242bc555ae9\", \"currentUrl\":\"\\u002Fr\\u002Fd10ccad050c3d17c\", \"contactContext\":\"rezView\\u002Frightrail\", \"turnstileUrl\":\"\\u002F\\u002Ft.indeed.com\\u002Fs\\u002F284f04d\\u002Fturnstile-compiled.js\", \"sanitized\":false, \"serp\":\"\\u002Fresumes\", \"searchQueryString\":\"\", \"isInvalidField\":{}, \"queryString\":\"\", \"logTypeHash\":\"df189d746cb1525b9f27398121bd5879\", \"queryExtractedKeywords\":[], \"csrfToken\":\"tAoINubNaXfFQEhdmqKvI4Zz0VG88not\", \"domain\":\"https:\\u002F\\u002Fwww.indeed.com\", \"parameters\":{}}; var viewer = {\"siftAccountKey\":\"1c8bfvbgeampublm\", \"vanityName\":\"\", \"resumePublicUrlDisplay\":\"\", \"masquerading\":false, \"savedResume\":false, \"outOfCountry\":false, \"groups\":{\"rexconfirmcontact\": 3, \"rexhidejobseekernametst\": 1, \"rex_serp_crash_tst\": 1, \"rexshareprivacyorforcesignintst\": 1, \"indcorpaddrtog\": 1, \"rssquotetupledqueriestst\": 1, \"rexonepromotst\": 3, \"rexrefinebydesiredjobtypetst\": 0, \"rexsearchbysectiontst\": 2, \"rexfacebookpixeltst\": 1, \"rezshowskillexptog\": 1, \"rexsimilarsearches2tst\": 1, \"rexssltst\": 1, \"jasxacmelinkheadertst\": 2, \"advw_homepagenoresume\": 1, \"rextopnavlinkedacctstog\": 1, \"rexnursingrefinementsmodalbuttontst\": 1, \"rexbottog\": 1, \"rexdownloadpdfredirecttst\": 1, \"recrezclickinputtst\": 1, \"rex_view_resume_crash_tst\": 0, \"rexresumeforwardtog\": 0, \"rexstyletst\": 2, \"rexperfaudtst\": 1, \"rexprimemodaltst\": 1, \"gzip\": 1, \"rexnursingrefinementsmodaltst\": 1, \"rexpreviewheadertst\": 2, \"rexonemodaltst\": 1, \"rexsiftsciencebeacontst\": 1}, \"hasDradisJob\":false, \"confirmed\":false, \"accountKey\":\"\", \"privileged\":false, \"geoLocation\":\"Hoboken, NJ\", \"jobseeker\":false, \"resumePublicUrl\":\"\", \"loggedIn\":false, \"searchEnabledCountries\":[{\"countryCode\":\"AR\", \"displayName\":\"Argentina\"},{\"countryCode\":\"AU\", \"displayName\":\"Australia\"},{\"countryCode\":\"BE\", \"displayName\":\"België\"},{\"countryCode\":\"BR\", \"displayName\":\"Brasil\"},{\"countryCode\":\"CA\", \"displayName\":\"Canada\"},{\"countryCode\":\"CO\", \"displayName\":\"Colombia\"},{\"countryCode\":\"ES\", \"displayName\":\"España\"},{\"countryCode\":\"FR\", \"displayName\":\"France\"},{\"countryCode\":\"IN\", \"displayName\":\"India\"},{\"countryCode\":\"IE\", \"displayName\":\"Ireland\"},{\"countryCode\":\"IT\", \"displayName\":\"Italia\"},{\"countryCode\":\"MX\", \"displayName\":\"México\"},{\"countryCode\":\"NL\", \"displayName\":\"Nederland\"},{\"countryCode\":\"NZ\", \"displayName\":\"New Zealand\"},{\"countryCode\":\"SG\", \"displayName\":\"Singapore\"},{\"countryCode\":\"ZA\", \"displayName\":\"South Africa\"},{\"countryCode\":\"AE\", \"displayName\":\"United Arab Emirates\"},{\"countryCode\":\"GB\", \"displayName\":\"United Kingdom\"},{\"countryCode\":\"US\", \"displayName\":\"United States\"}], \"obfuscatedId\":\"\", \"defaultLocation\":\"Hoboken, NJ\", \"email\":\"\"}; var page = {\"viewTk\": \"1c8bfvbofampudt9\"}; var jobseeker = {\"resume\": {\"anonymous\":   false , \"basicInformation\": {\"firstName\": \"Practice Assistant to Chairman of Otolaryngology\", \"lastName\": \"\"}, \"militaryBackground\":  false }, \"resumePublicUrl\": \"https:\\/\\/www.indeed.com\\/r\\/d10ccad050c3d17c\", \"resumePublicUrlPath\": \"\\/r\\/d10ccad050c3d17c\", \"resumePublicUrlDisplay\": \"indeed.com\\/r\\/d10ccad050c3d17c\", \"accountKey\": \"d10ccad050c3d17c\"};var employer = {\"budgetExceeded\":false, \"featured\":false, \"hasAdvertiserAccount\":false, \"introductoryPeriod\":false, \"canShareResume\":false, \"rozProPricing\":\"\", \"locale\":{\"unicodeLocaleKeys\":[], \"ISO3Language\":\"eng\", \"country\":\"US\", \"displayName\":\"English (United States)\", \"displayVariant\":\"\", \"language\":\"en\", \"displayLanguage\":\"English\", \"script\":\"\", \"unicodeLocaleAttributes\":[], \"displayCountry\":\"United States\", \"ISO3Country\":\"USA\", \"variant\":\"\", \"extensionKeys\":[], \"displayScript\":\"\"}, \"confirmed\":false, \"bulkContactDisplayPrice\":\"$0\", \"advertiserLastContacted\":-1, \"comped\":false, \"contactUnavailableReason\":\"NOT_LOGGED_IN\", \"advertiserLastContactedEmail\":\"\", \"blocked\":false, \"lastContactedThisJobseekerText\":\"\", \"lastContactedThisJobseekerLongText\":\"\", \"dradisJobs\":[], \"lastContactedThisJobseeker\":0, \"emailContactPrice\":{\"amount\":1.0, \"amountMinorLong\":100, \"scale\":2, \"minorPart\":0, \"positive\":true, \"amountMajor\":1.0, \"amountMinor\":100.0, \"amountMinorInt\":100, \"positiveOrZero\":true, \"zero\":false, \"amountMajorLong\":1, \"negative\":false, \"amountMajorInt\":1, \"negativeOrZero\":false, \"currencyUnit\":{\"numeric3Code\":\"840\", \"symbol\":\"USD\", \"code\":\"USD\", \"decimalPlaces\":2, \"currencyCode\":\"USD\", \"defaultFractionDigits\":2, \"pseudoCurrency\":false, \"numericCode\":840}}, \"rozStandPricing\":\"\", \"phoneVerificationDisabled\":false, \"allowedToContact\":true, \"phoneVerified\":false, \"introductoryContactsRemaining\":0, \"advertiserLastContactedText\":\"\", \"contactTemplates\":[], \"needsChargeConfirmation\":false, \"billingStatus\":\"NO_BILLING\", \"bulkContactPrice\":{\"amount\":0.0, \"amountMinorLong\":0, \"scale\":2, \"minorPart\":0, \"positive\":false, \"amountMajor\":0.0, \"amountMinor\":0.0, \"amountMinorInt\":0, \"positiveOrZero\":true, \"zero\":true, \"amountMajorLong\":0, \"negative\":false, \"amountMajorInt\":0, \"negativeOrZero\":true, \"currencyUnit\":{\"numeric3Code\":\"840\", \"symbol\":\"USD\", \"code\":\"USD\", \"decimalPlaces\":2, \"currencyCode\":\"USD\", \"defaultFractionDigits\":2, \"pseudoCurrency\":false, \"numericCode\":840}}, \"emailContactDisplayPrice\":\"$1\", \"shownPrivateContactInfo\":false, \"primary\":true, \"requestingRepeatedContact\":false, \"showMsgTemplateFirst\":false, \"urlForMsgTemplate\":\"\"}; indeed.rex.publicresume.start( page, site, session, request, viewer, jobseeker, employer, \"\", \"1c8bfvbofampudt9\", searchParams, '2a475778e43ba25cf6c662e3ba8f7c891fb18bf79ba67cff7b1ae2ffa790dcfaa86d1242bc555ae9' );\n",
      "            })();\n",
      "</script></body></html>\n"
     ]
    }
   ],
   "source": [
    "print(\"Links checked:\")\n",
    "for i, q in enumerate(queries):    \n",
    "    print(str(i+1)+')',q)\n",
    "\n",
    "print(\"Found: \", len(urls), \"resumes\")\n",
    "# Check 1 Resume url - doesn't work, the link opens differently than expected\n",
    "url_keys = list(urls.keys())\n",
    "print(\"\\nSample Resume:\", urls[url_keys[0]])"
   ]
  },
  {
   "cell_type": "code",
   "execution_count": 7,
   "metadata": {},
   "outputs": [
    {
     "ename": "SyntaxError",
     "evalue": "invalid syntax (<ipython-input-7-44e11ceac1d8>, line 1)",
     "output_type": "error",
     "traceback": [
      "\u001b[0;36m  File \u001b[0;32m\"<ipython-input-7-44e11ceac1d8>\"\u001b[0;36m, line \u001b[0;32m1\u001b[0m\n\u001b[0;31m    )# function for finding pdf link for each resume\u001b[0m\n\u001b[0m    ^\u001b[0m\n\u001b[0;31mSyntaxError\u001b[0m\u001b[0;31m:\u001b[0m invalid syntax\n"
     ]
    }
   ],
   "source": [
    ")# function for finding pdf link for each resume"
   ]
  },
  {
   "cell_type": "markdown",
   "metadata": {},
   "source": [
    "### Zip Recruiter\n",
    "\n",
    "To Do:\n",
    "* login to zip recruiter \n",
    "* search resumes by keyword\n",
    "* finding pdf link for each resume\n",
    "* iterate through each page of results"
   ]
  },
  {
   "cell_type": "markdown",
   "metadata": {},
   "source": [
    "### Angel List\n",
    "\n",
    "To Do:\n",
    "* login to zip recruiter \n",
    "* search resumes by keyword\n",
    "* finding pdf link for each resume\n",
    "* iterate through each page of results"
   ]
  },
  {
   "cell_type": "markdown",
   "metadata": {},
   "source": [
    "### Overall\n",
    "* function to save pdf links (wget)"
   ]
  },
  {
   "cell_type": "code",
   "execution_count": null,
   "metadata": {},
   "outputs": [],
   "source": []
  }
 ],
 "metadata": {
  "kernelspec": {
   "display_name": "Python 2",
   "language": "python",
   "name": "python2"
  },
  "language_info": {
   "codemirror_mode": {
    "name": "ipython",
    "version": 3
   },
   "file_extension": ".py",
   "mimetype": "text/x-python",
   "name": "python",
   "nbconvert_exporter": "python",
   "pygments_lexer": "ipython3",
   "version": "3.6.3"
  }
 },
 "nbformat": 4,
 "nbformat_minor": 2
}
